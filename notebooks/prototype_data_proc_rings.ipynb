{
 "cells": [
  {
   "cell_type": "code",
   "execution_count": 1,
   "id": "14dcb8bf-2569-45fd-9eb1-be96e1de83ce",
   "metadata": {},
   "outputs": [],
   "source": [
    "%load_ext autoreload\n",
    "%autoreload 2\n",
    "%matplotlib inline"
   ]
  },
  {
   "cell_type": "code",
   "execution_count": 2,
   "id": "233f6cef-f1de-4200-8e5c-f84ae8335353",
   "metadata": {},
   "outputs": [],
   "source": [
    "import glob\n",
    "import sys\n",
    "import os\n",
    "from pathlib import Path\n",
    "\n",
    "import modin.pandas as pd\n",
    "import numpy as np\n",
    "import matplotlib.pyplot as plt\n",
    "import seaborn as sns\n",
    "\n",
    "sys.path.append('../src')\n",
    "from clf_parser import CLFParse"
   ]
  },
  {
   "cell_type": "code",
   "execution_count": null,
   "id": "b64c0631-8c23-47ef-b71b-e15a622c9847",
   "metadata": {},
   "outputs": [],
   "source": [
    "# For modin\n",
    "import warnings\n",
    "warnings.filterwarnings('ignore')"
   ]
  },
  {
   "cell_type": "code",
   "execution_count": 3,
   "id": "fef7b848-d67e-42b2-bcff-202b6c9488c9",
   "metadata": {},
   "outputs": [],
   "source": [
    "# Modify path here for your particular system\n",
    "data_dir = Path('/Users/kaipak/datasets/pds/pds_logs/report_service/logs/final/rings/rings-apache-metrics')\n",
    "tools_logs = sorted(glob.glob(str(data_dir) + \"/tools_*\"))\n",
    "tools2_logs = sorted(glob.glob(str(data_dir) + \"/tools2*\"))\n",
    "server1_logs = sorted(glob.glob(str(data_dir) + \"/server1*\"))\n",
    "server2_logs = sorted(glob.glob(str(data_dir) + \"/server2*\"))\n",
    "#server2_logs = [f'{str(data_dir)}/server2-pds-rings-apache2.2019-02-04.log']"
   ]
  },
  {
   "cell_type": "code",
   "execution_count": 4,
   "id": "f3b69b66-34cd-4009-bf31-f60db87e034b",
   "metadata": {},
   "outputs": [
    {
     "data": {
      "text/plain": [
       "201"
      ]
     },
     "execution_count": 4,
     "metadata": {},
     "output_type": "execute_result"
    }
   ],
   "source": [
    "len(tools_logs)"
   ]
  },
  {
   "cell_type": "code",
   "execution_count": 5,
   "id": "df4c4fd4-df35-4049-9bdb-1d28b4434443",
   "metadata": {},
   "outputs": [
    {
     "data": {
      "text/plain": [
       "647"
      ]
     },
     "execution_count": 5,
     "metadata": {},
     "output_type": "execute_result"
    }
   ],
   "source": [
    "len(tools2_logs)"
   ]
  },
  {
   "cell_type": "code",
   "execution_count": 6,
   "id": "db90c39e-cb80-4cfa-98bd-b5041ce644b4",
   "metadata": {},
   "outputs": [
    {
     "data": {
      "text/plain": [
       "447"
      ]
     },
     "execution_count": 6,
     "metadata": {},
     "output_type": "execute_result"
    }
   ],
   "source": [
    "len(server1_logs)"
   ]
  },
  {
   "cell_type": "code",
   "execution_count": 7,
   "id": "43a61925-86d9-466c-a308-47ac26921cc6",
   "metadata": {},
   "outputs": [
    {
     "data": {
      "text/plain": [
       "1240"
      ]
     },
     "execution_count": 7,
     "metadata": {},
     "output_type": "execute_result"
    }
   ],
   "source": [
    "len(server2_logs)"
   ]
  },
  {
   "cell_type": "code",
   "execution_count": 8,
   "id": "1dbc0429-af20-4de2-8f68-cad5db16f2a0",
   "metadata": {},
   "outputs": [],
   "source": [
    "parser_tools = CLFParse(tools_logs)\n",
    "parser_tools2 = CLFParse(tools2_logs)\n",
    "parser_server1 = CLFParse(server1_logs)\n",
    "parser_server2 = CLFParse(server2_logs)"
   ]
  },
  {
   "cell_type": "code",
   "execution_count": 9,
   "id": "ffe04088-e27d-404b-8333-d48a373ab622",
   "metadata": {},
   "outputs": [
    {
     "name": "stdout",
     "output_type": "stream",
     "text": [
      "Logfiles list contains 201 files.\n"
     ]
    },
    {
     "name": "stderr",
     "output_type": "stream",
     "text": [
      "100%|██████████| 201/201 [00:00<00:00, 607.06it/s]\n"
     ]
    },
    {
     "name": "stdout",
     "output_type": "stream",
     "text": [
      "Expanding datetime field...\n",
      "0.05m to process log files.\n",
      "CPU times: user 1.01 s, sys: 182 ms, total: 1.19 s\n",
      "Wall time: 3.17 s\n"
     ]
    }
   ],
   "source": [
    "%%time\n",
    "parser_tools.parse_files()\n",
    "parser_tools.df_logs['log_name'] = 'tools'"
   ]
  },
  {
   "cell_type": "code",
   "execution_count": 10,
   "id": "098b7106-26d0-40f9-9f89-a89312614735",
   "metadata": {},
   "outputs": [
    {
     "data": {
      "text/html": [
       "<div>\n",
       "<style scoped>\n",
       "    .dataframe tbody tr th:only-of-type {\n",
       "        vertical-align: middle;\n",
       "    }\n",
       "\n",
       "    .dataframe tbody tr th {\n",
       "        vertical-align: top;\n",
       "    }\n",
       "\n",
       "    .dataframe thead th {\n",
       "        text-align: right;\n",
       "    }\n",
       "</style>\n",
       "<table border=\"1\" class=\"dataframe\">\n",
       "  <thead>\n",
       "    <tr style=\"text-align: right;\">\n",
       "      <th></th>\n",
       "      <th>ip</th>\n",
       "      <th>identd</th>\n",
       "      <th>userid</th>\n",
       "      <th>datetime</th>\n",
       "      <th>request</th>\n",
       "      <th>status</th>\n",
       "      <th>size</th>\n",
       "      <th>referer</th>\n",
       "      <th>user_agent</th>\n",
       "      <th>date</th>\n",
       "      <th>month_year</th>\n",
       "      <th>DOW</th>\n",
       "      <th>hour</th>\n",
       "      <th>log_name</th>\n",
       "    </tr>\n",
       "  </thead>\n",
       "  <tbody>\n",
       "    <tr>\n",
       "      <th>2695</th>\n",
       "      <td>208.115.199.22</td>\n",
       "      <td>None</td>\n",
       "      <td>None</td>\n",
       "      <td>2021-11-30 20:45:43+00:00</td>\n",
       "      <td>HEAD / HTTP/1.1</td>\n",
       "      <td>200</td>\n",
       "      <td>5083</td>\n",
       "      <td>https://opus.pds-rings.seti.org</td>\n",
       "      <td>Mozilla/5.0+(compatible; UptimeRobot/2.0; http...</td>\n",
       "      <td>2021-11-30</td>\n",
       "      <td>11-2021</td>\n",
       "      <td>Tuesday</td>\n",
       "      <td>20</td>\n",
       "      <td>tools</td>\n",
       "    </tr>\n",
       "    <tr>\n",
       "      <th>24</th>\n",
       "      <td>93.174.95.106</td>\n",
       "      <td>None</td>\n",
       "      <td>None</td>\n",
       "      <td>2021-11-03 13:21:32+00:00</td>\n",
       "      <td>GET /.well-known/security.txt HTTP/1.1</td>\n",
       "      <td>404</td>\n",
       "      <td>5216</td>\n",
       "      <td>None</td>\n",
       "      <td>None</td>\n",
       "      <td>2021-11-03</td>\n",
       "      <td>11-2021</td>\n",
       "      <td>Wednesday</td>\n",
       "      <td>13</td>\n",
       "      <td>tools</td>\n",
       "    </tr>\n",
       "    <tr>\n",
       "      <th>816</th>\n",
       "      <td>10.244.248.1</td>\n",
       "      <td>None</td>\n",
       "      <td>None</td>\n",
       "      <td>2021-12-01 13:10:41+00:00</td>\n",
       "      <td>GET / HTTP/1.1</td>\n",
       "      <td>200</td>\n",
       "      <td>134499</td>\n",
       "      <td>None</td>\n",
       "      <td>Zabbix</td>\n",
       "      <td>2021-12-01</td>\n",
       "      <td>12-2021</td>\n",
       "      <td>Wednesday</td>\n",
       "      <td>13</td>\n",
       "      <td>tools</td>\n",
       "    </tr>\n",
       "    <tr>\n",
       "      <th>1495</th>\n",
       "      <td>208.115.199.22</td>\n",
       "      <td>None</td>\n",
       "      <td>None</td>\n",
       "      <td>2021-11-24 02:10:00+00:00</td>\n",
       "      <td>HEAD / HTTP/1.1</td>\n",
       "      <td>200</td>\n",
       "      <td>5083</td>\n",
       "      <td>https://tools.pds-rings.seti.org</td>\n",
       "      <td>Mozilla/5.0+(compatible; UptimeRobot/2.0; http...</td>\n",
       "      <td>2021-11-24</td>\n",
       "      <td>11-2021</td>\n",
       "      <td>Wednesday</td>\n",
       "      <td>2</td>\n",
       "      <td>tools</td>\n",
       "    </tr>\n",
       "    <tr>\n",
       "      <th>1361</th>\n",
       "      <td>10.244.248.1</td>\n",
       "      <td>None</td>\n",
       "      <td>None</td>\n",
       "      <td>2021-11-29 18:18:08+00:00</td>\n",
       "      <td>GET / HTTP/1.1</td>\n",
       "      <td>200</td>\n",
       "      <td>134499</td>\n",
       "      <td>None</td>\n",
       "      <td>Zabbix</td>\n",
       "      <td>2021-11-29</td>\n",
       "      <td>11-2021</td>\n",
       "      <td>Monday</td>\n",
       "      <td>18</td>\n",
       "      <td>tools</td>\n",
       "    </tr>\n",
       "  </tbody>\n",
       "</table>\n",
       "</div>"
      ],
      "text/plain": [
       "                  ip identd userid                  datetime  \\\n",
       "2695  208.115.199.22   None   None 2021-11-30 20:45:43+00:00   \n",
       "24     93.174.95.106   None   None 2021-11-03 13:21:32+00:00   \n",
       "816     10.244.248.1   None   None 2021-12-01 13:10:41+00:00   \n",
       "1495  208.115.199.22   None   None 2021-11-24 02:10:00+00:00   \n",
       "1361    10.244.248.1   None   None 2021-11-29 18:18:08+00:00   \n",
       "\n",
       "                                     request  status    size  \\\n",
       "2695                         HEAD / HTTP/1.1     200    5083   \n",
       "24    GET /.well-known/security.txt HTTP/1.1     404    5216   \n",
       "816                           GET / HTTP/1.1     200  134499   \n",
       "1495                         HEAD / HTTP/1.1     200    5083   \n",
       "1361                          GET / HTTP/1.1     200  134499   \n",
       "\n",
       "                               referer  \\\n",
       "2695   https://opus.pds-rings.seti.org   \n",
       "24                                None   \n",
       "816                               None   \n",
       "1495  https://tools.pds-rings.seti.org   \n",
       "1361                              None   \n",
       "\n",
       "                                             user_agent        date  \\\n",
       "2695  Mozilla/5.0+(compatible; UptimeRobot/2.0; http...  2021-11-30   \n",
       "24                                                 None  2021-11-03   \n",
       "816                                              Zabbix  2021-12-01   \n",
       "1495  Mozilla/5.0+(compatible; UptimeRobot/2.0; http...  2021-11-24   \n",
       "1361                                             Zabbix  2021-11-29   \n",
       "\n",
       "     month_year        DOW  hour log_name  \n",
       "2695    11-2021    Tuesday    20    tools  \n",
       "24      11-2021  Wednesday    13    tools  \n",
       "816     12-2021  Wednesday    13    tools  \n",
       "1495    11-2021  Wednesday     2    tools  \n",
       "1361    11-2021     Monday    18    tools  "
      ]
     },
     "execution_count": 10,
     "metadata": {},
     "output_type": "execute_result"
    }
   ],
   "source": [
    "parser_tools.df_logs.sample(5)"
   ]
  },
  {
   "cell_type": "code",
   "execution_count": 23,
   "id": "ab96ffbb-100f-4ccb-9306-d5e8becc1b50",
   "metadata": {},
   "outputs": [
    {
     "name": "stdout",
     "output_type": "stream",
     "text": [
      "Completed creating feather file at ../datasets/rings_tools.feather.\n"
     ]
    }
   ],
   "source": [
    "parser_tools.to_file(type=\"feather\", filepath=\"../datasets/rings_tools.feather\")"
   ]
  },
  {
   "cell_type": "code",
   "execution_count": 11,
   "id": "fc3de3d2-9d03-4cd7-acf9-a1cdfadb73e7",
   "metadata": {
    "tags": []
   },
   "outputs": [
    {
     "name": "stdout",
     "output_type": "stream",
     "text": [
      "Logfiles list contains 647 files.\n"
     ]
    },
    {
     "name": "stderr",
     "output_type": "stream",
     "text": [
      "100%|██████████| 647/647 [00:12<00:00, 52.07it/s]\n"
     ]
    },
    {
     "name": "stdout",
     "output_type": "stream",
     "text": [
      "Expanding datetime field...\n",
      "1.32m to process log files.\n",
      "CPU times: user 56.3 s, sys: 4.64 s, total: 1min\n",
      "Wall time: 1min 20s\n"
     ]
    }
   ],
   "source": [
    "%%time\n",
    "# This might take a while. \n",
    "parser_tools2.parse_files()\n",
    "parser_tools2.df_logs['log_name'] = 'tools2'"
   ]
  },
  {
   "cell_type": "code",
   "execution_count": 12,
   "id": "6ca9af46-7543-4ce0-988e-092975896e41",
   "metadata": {},
   "outputs": [
    {
     "data": {
      "text/plain": [
       "(3047332, 14)"
      ]
     },
     "execution_count": 12,
     "metadata": {},
     "output_type": "execute_result"
    }
   ],
   "source": [
    "parser_tools2.df_logs.shape"
   ]
  },
  {
   "cell_type": "code",
   "execution_count": 13,
   "id": "93e78000-162b-4ca1-960c-e87998e05a61",
   "metadata": {},
   "outputs": [
    {
     "data": {
      "text/html": [
       "<div>\n",
       "<style scoped>\n",
       "    .dataframe tbody tr th:only-of-type {\n",
       "        vertical-align: middle;\n",
       "    }\n",
       "\n",
       "    .dataframe tbody tr th {\n",
       "        vertical-align: top;\n",
       "    }\n",
       "\n",
       "    .dataframe thead th {\n",
       "        text-align: right;\n",
       "    }\n",
       "</style>\n",
       "<table border=\"1\" class=\"dataframe\">\n",
       "  <thead>\n",
       "    <tr style=\"text-align: right;\">\n",
       "      <th></th>\n",
       "      <th>ip</th>\n",
       "      <th>identd</th>\n",
       "      <th>userid</th>\n",
       "      <th>datetime</th>\n",
       "      <th>request</th>\n",
       "      <th>status</th>\n",
       "      <th>size</th>\n",
       "      <th>referer</th>\n",
       "      <th>user_agent</th>\n",
       "      <th>date</th>\n",
       "      <th>month_year</th>\n",
       "      <th>DOW</th>\n",
       "      <th>hour</th>\n",
       "      <th>log_name</th>\n",
       "    </tr>\n",
       "  </thead>\n",
       "  <tbody>\n",
       "    <tr>\n",
       "      <th>2180</th>\n",
       "      <td>2.152.103.57</td>\n",
       "      <td>None</td>\n",
       "      <td>None</td>\n",
       "      <td>2021-02-14 16:35:56+00:00</td>\n",
       "      <td>GET /static_media/cdn_fallback/touchpunch/js/j...</td>\n",
       "      <td>200</td>\n",
       "      <td>1033</td>\n",
       "      <td>https://opus.pds-rings.seti.org/opus/</td>\n",
       "      <td>Mozilla/5.0 (Windows NT 6.1; Win64; x64; rv:85...</td>\n",
       "      <td>2021-02-14</td>\n",
       "      <td>02-2021</td>\n",
       "      <td>Sunday</td>\n",
       "      <td>16</td>\n",
       "      <td>tools2</td>\n",
       "    </tr>\n",
       "    <tr>\n",
       "      <th>1520</th>\n",
       "      <td>176.59.120.136</td>\n",
       "      <td>None</td>\n",
       "      <td>None</td>\n",
       "      <td>2021-07-22 19:21:47+00:00</td>\n",
       "      <td>GET /opus/__widget/instrument.html?mission=Voy...</td>\n",
       "      <td>200</td>\n",
       "      <td>1479</td>\n",
       "      <td>https://opus.pds-rings.seti.org/opus/</td>\n",
       "      <td>Mozilla/5.0 (Windows NT 6.1; Win64; x64) Apple...</td>\n",
       "      <td>2021-07-22</td>\n",
       "      <td>07-2021</td>\n",
       "      <td>Thursday</td>\n",
       "      <td>19</td>\n",
       "      <td>tools2</td>\n",
       "    </tr>\n",
       "    <tr>\n",
       "      <th>1368</th>\n",
       "      <td>71.163.152.251</td>\n",
       "      <td>None</td>\n",
       "      <td>None</td>\n",
       "      <td>2021-11-22 15:07:51+00:00</td>\n",
       "      <td>GET /static_media/js/hash.js?version=8aff9e3c8...</td>\n",
       "      <td>200</td>\n",
       "      <td>7115</td>\n",
       "      <td>https://opus.pds-rings.seti.org/opus/</td>\n",
       "      <td>Mozilla/5.0 (Windows NT 10.0; Win64; x64; rv:9...</td>\n",
       "      <td>2021-11-22</td>\n",
       "      <td>11-2021</td>\n",
       "      <td>Monday</td>\n",
       "      <td>15</td>\n",
       "      <td>tools2</td>\n",
       "    </tr>\n",
       "    <tr>\n",
       "      <th>752</th>\n",
       "      <td>217.14.187.76</td>\n",
       "      <td>None</td>\n",
       "      <td>None</td>\n",
       "      <td>2021-09-20 11:55:39+00:00</td>\n",
       "      <td>GET /opus/__api/meta/mults/target.json?mission...</td>\n",
       "      <td>200</td>\n",
       "      <td>1244</td>\n",
       "      <td>https://opus.pds-rings.seti.org/opus/</td>\n",
       "      <td>Mozilla/5.0 (Macintosh; Intel Mac OS X 10_15_7...</td>\n",
       "      <td>2021-09-20</td>\n",
       "      <td>09-2021</td>\n",
       "      <td>Monday</td>\n",
       "      <td>11</td>\n",
       "      <td>tools2</td>\n",
       "    </tr>\n",
       "    <tr>\n",
       "      <th>3347</th>\n",
       "      <td>73.195.14.225</td>\n",
       "      <td>None</td>\n",
       "      <td>None</td>\n",
       "      <td>2021-05-03 18:48:56+00:00</td>\n",
       "      <td>GET /opus/__cart/status.json?reqno=6&amp;types=vgi...</td>\n",
       "      <td>200</td>\n",
       "      <td>2390</td>\n",
       "      <td>https://opus.pds-rings.seti.org/opus/</td>\n",
       "      <td>Mozilla/5.0 (Windows NT 10.0; Win64; x64) Appl...</td>\n",
       "      <td>2021-05-03</td>\n",
       "      <td>05-2021</td>\n",
       "      <td>Monday</td>\n",
       "      <td>18</td>\n",
       "      <td>tools2</td>\n",
       "    </tr>\n",
       "  </tbody>\n",
       "</table>\n",
       "</div>"
      ],
      "text/plain": [
       "                  ip identd userid                  datetime  \\\n",
       "2180    2.152.103.57   None   None 2021-02-14 16:35:56+00:00   \n",
       "1520  176.59.120.136   None   None 2021-07-22 19:21:47+00:00   \n",
       "1368  71.163.152.251   None   None 2021-11-22 15:07:51+00:00   \n",
       "752    217.14.187.76   None   None 2021-09-20 11:55:39+00:00   \n",
       "3347   73.195.14.225   None   None 2021-05-03 18:48:56+00:00   \n",
       "\n",
       "                                                request  status  size  \\\n",
       "2180  GET /static_media/cdn_fallback/touchpunch/js/j...     200  1033   \n",
       "1520  GET /opus/__widget/instrument.html?mission=Voy...     200  1479   \n",
       "1368  GET /static_media/js/hash.js?version=8aff9e3c8...     200  7115   \n",
       "752   GET /opus/__api/meta/mults/target.json?mission...     200  1244   \n",
       "3347  GET /opus/__cart/status.json?reqno=6&types=vgi...     200  2390   \n",
       "\n",
       "                                    referer  \\\n",
       "2180  https://opus.pds-rings.seti.org/opus/   \n",
       "1520  https://opus.pds-rings.seti.org/opus/   \n",
       "1368  https://opus.pds-rings.seti.org/opus/   \n",
       "752   https://opus.pds-rings.seti.org/opus/   \n",
       "3347  https://opus.pds-rings.seti.org/opus/   \n",
       "\n",
       "                                             user_agent        date  \\\n",
       "2180  Mozilla/5.0 (Windows NT 6.1; Win64; x64; rv:85...  2021-02-14   \n",
       "1520  Mozilla/5.0 (Windows NT 6.1; Win64; x64) Apple...  2021-07-22   \n",
       "1368  Mozilla/5.0 (Windows NT 10.0; Win64; x64; rv:9...  2021-11-22   \n",
       "752   Mozilla/5.0 (Macintosh; Intel Mac OS X 10_15_7...  2021-09-20   \n",
       "3347  Mozilla/5.0 (Windows NT 10.0; Win64; x64) Appl...  2021-05-03   \n",
       "\n",
       "     month_year       DOW  hour log_name  \n",
       "2180    02-2021    Sunday    16   tools2  \n",
       "1520    07-2021  Thursday    19   tools2  \n",
       "1368    11-2021    Monday    15   tools2  \n",
       "752     09-2021    Monday    11   tools2  \n",
       "3347    05-2021    Monday    18   tools2  "
      ]
     },
     "execution_count": 13,
     "metadata": {},
     "output_type": "execute_result"
    }
   ],
   "source": [
    "parser_tools2.df_logs.sample(5)"
   ]
  },
  {
   "cell_type": "code",
   "execution_count": null,
   "id": "d6d4ac00-ba35-49f5-9c6b-2e8f5b4daaa1",
   "metadata": {},
   "outputs": [],
   "source": [
    "parser_tools2.to_file(type=\"feather\", filepath=\"../datasets/rings_tools2.feather\")"
   ]
  },
  {
   "cell_type": "code",
   "execution_count": 14,
   "id": "827e43b6-d1e1-49e9-a139-d4d323796204",
   "metadata": {},
   "outputs": [
    {
     "name": "stdout",
     "output_type": "stream",
     "text": [
      "Logfiles list contains 447 files.\n"
     ]
    },
    {
     "name": "stderr",
     "output_type": "stream",
     "text": [
      "100%|██████████| 447/447 [00:49<00:00,  9.10it/s]\n"
     ]
    },
    {
     "name": "stdout",
     "output_type": "stream",
     "text": [
      "Expanding datetime field...\n",
      "5.62m to process log files.\n",
      "CPU times: user 4min 19s, sys: 37.5 s, total: 4min 57s\n",
      "Wall time: 5min 40s\n"
     ]
    }
   ],
   "source": [
    "%%time\n",
    "# This might take a while. \n",
    "parser_server1.parse_files()\n",
    "parser_server1.df_logs['log_name'] = 'server1'"
   ]
  },
  {
   "cell_type": "code",
   "execution_count": 15,
   "id": "8efbeb14-b97b-4606-a45a-769db4e27df4",
   "metadata": {},
   "outputs": [
    {
     "data": {
      "text/plain": [
       "(12586575, 14)"
      ]
     },
     "execution_count": 15,
     "metadata": {},
     "output_type": "execute_result"
    }
   ],
   "source": [
    "parser_server1.df_logs.shape"
   ]
  },
  {
   "cell_type": "code",
   "execution_count": 16,
   "id": "4369909b-0a53-4dc9-bbab-d33bd6f8b06b",
   "metadata": {},
   "outputs": [
    {
     "name": "stdout",
     "output_type": "stream",
     "text": [
      "Logfiles list contains 1240 files.\n",
      "Error parsing 213.5.19.152 - - [04/Feb/2019:20:08:21 -0800] \"GET /holdings/previews/VGISS_6xxx/VGI.\n",
      "Error parsing 2.152.103.57 - - [28/Aug/2019:06:15:.\n",
      "Error parsing 46.229.168.133 - - [08/Mar/2020:00:01:14 -0800] \"GET /saturn/cassini/PIA11635.html HTTP/1.1\" 200 13405 \"-\" \"Mozilla/46.4.72.213 - - [08/Mar/2020:00:01:44 -0800] \"GET /press_releases/pages/PIA11xxx/PIA11768.html HTTP/1.1\" 200 18306 \"-\" \"Mozilla/5.0 (compatible; MegaIndex.ru/2.0; +http://megaindex.com/crawler)\"\n",
      ".\n",
      "Error parsing 46.4.72.213 - - [08/Mar/2020:00:04:02 -0800] \"GET /galleries/all_2001.html HTTP/1.1\" 200 127540 \"-\" \"Mozilla/5.0 (compatible; MegaIndex.ru/2.0; +htt46.4.72.213 - - [08/Mar/2020:00:30:38 -0800] \"GET /galleries/mars_2017-07.html HTTP/1.1\" 200 37595 \"-\" \"Mozilla/5.0 (compatible; MegaIndex.ru/2.0; +http://megaindex.com/crawler)\"\n",
      ".\n",
      "Error parsing 46.229.168.145 - - [08/Mar/2020:00:31:36 -0800] \"GET /press_releases/pages/PIA18xxx/PIA18973.html HTTP/1.1\" 200 17580 \"-\" \"Mozilla/5.54.36.150.100 - - [08/Mar/2020:00:34:29 -0800] \"GET /press_releases/medium/PIA04xxx/PIA04785_med.jpg HTTP/1.1\" 200 161086 \"-\" \"Mozilla/5.0 (compatible; AhrefsBot/6.1; +http://ahrefs.com/robot/)\"\n",
      ".\n",
      "Error parsing 46.4.72.213 - - [08/Mar/46.4.72.213 - - [08/Mar/2020:06:55:02 -0700] \"GET /press_releases/pages/PIA17xxx/PIA17182.html HTTP/1.1\" 200 18662 \"-\" \"Mozilla/5.0 (compatible; MegaIndex.ru/2.0; +http://megaindex.com/crawler)\"\n",
      ".\n",
      "Error parsing 46.4.72.213 - - [08/Mar/2020:06:59:43 -0700] \"GET /press_releases/pages/PIA18xxx/PIA18310.html HTTP/1.1\" 200 18160 \"-\" \"Mozilla/5.46.4.72.213 - - [08/Mar/2020:08:54:52 -0700] \"GET /press_releases/pages/PIA19xxx/PIA19533.html HTTP/1.1\" 200 18120 \"-\" \"Mozilla/5.0 (compatible; MegaIndex.ru/2.0; +http://megaindex.com/crawler)\"\n",
      ".\n",
      "Error parsing 46.4.72.213 - - [08/Mar/2020:08:58:23 -0700] \"GET /press_releases/pages/PIA19xxx/PIA19311.html HTTP/1.1\" 200 18226 \"-\" \"Mozilla/5.0 (compatible; MegaIndex.ru/2.0; +http://megaindex.com/cra46.4.72.213 - - [08/Mar/2020:11:00:02 -0700] \"GET /press_releases/pages/PIA21xxx/PIA21531.html HTTP/1.1\" 200 17898 \"-\" \"Mozilla/5.0 (compatible; MegaIndex.ru/2.0; +http://megaindex.com/crawler)\"\n",
      ".\n",
      "Error parsing 46.4.72.213 - - [08/Mar/2020:11:05:41 -0700] \"GET /press_releases/pages/PIA21xxx/PIA21706.html HTTP/1.1\" 200 18443 \"-\" \"Mozilla/5.0 (compatible; MegaInd46.4.72.213 - - [08/Mar/2020:11:08:42 -0700] \"GET /press_releases/pages/PIA21xxx/PIA21724.html HTTP/1.1\" 200 17970 \"-\" \"Mozilla/5.0 (compatible; MegaIndex.ru/2.0; +http://megaindex.com/crawler)\"\n",
      ".\n",
      "Error parsing 46.229.168.151 - - [46.4.72.213 - - [08/Mar/2020:12:40:00 -0700] \"GET /press_releases/pages/PIA05xxx/PIA05592.html HTTP/1.1\" 200 16928 \"-\" \"Mozilla/5.0 (compatible; MegaIndex.ru/2.0; +http://megaindex.com/crawler)\"\n",
      ".\n",
      "Error parsing 46.4.72.213 - - [08/Mar/2020:12:40:59 -0700] \"GET /press_releases/pages/PIA05xxx/PIA05621.html HTTP/1.1\" 20046.4.72.213 - - [08/Mar/2020:12:54:53 -0700] \"GET /press_releases/pages/PIA05xxx/PIA05816.html HTTP/1.1\" 200 16959 \"-\" \"Mozilla/5.0 (compatible; MegaIndex.ru/2.0; +http://megaindex.com/crawler)\"\n",
      ".\n",
      "Error parsing 46.229.168.136 - - [08/Mar/2020:13:04:35 -0700] \"GET /tools46.4.72.213 - - [08/Mar/2020:13:57:14 -0700] \"GET /press_releases/pages/PIA07xxx/PIA07169.html HTTP/1.1\" 200 17974 \"-\" \"Mozilla/5.0 (compatible; MegaIndex.ru/2.0; +http://megaindex.com/crawler)\"\n",
      ".\n",
      "Error parsing 46.4.72.213 - - [08/Mar/2020:14:34:25 -0700] \"GET /press_releases/pages/PIA03xxx/PIA03981.html HTTP/1.1\" 200 18000 \"-\" \"Mozilla/5.0 (compatible; MegaIndex.46.4.72.213 - - [08/Mar/2020:15:43:06 -0700] \"GET /press_releases/pages/PIA08xxx/PIA08665.html HTTP/1.1\" 200 16880 \"-\" \"Mozilla/5.0 (compatible; MegaIndex.ru/2.0; +http://megaindex.com/crawler)\"\n",
      ".\n",
      "Error parsing 72.49.105.42 - - [08/Mar/2020:15:45:01 -0700] \"GET /saturn/vgr1_iss/PIA00335-med.jpg HTTP/1.1\" 200 6838 \"https://pds-rings.seti.org/saturn/vgr1_iss/PIA00335.html\" \"Mozilla/5.0 (X11; Cr46.4.72.213 - - [08/Mar/2020:15:46:49 -0700] \"GET /press_releases/pages/PIA08xxx/PIA08718.html HTTP/1.1\" 200 18151 \"-\" \"Mozilla/5.0 (compatible; MegaIndex.ru/2.0; +http://megaindex.com/crawler)\"\n",
      ".\n",
      "Error parsing 46.4.72.213 - - [08/Mar/2020:15:52:18 -0700] \"GET /press_releases/pages/PIA01xxx/PIA01947.html HTTP/1.1\" 200 18174 \"-\" \"Mozilla/5.0 (compatible; MegaIndex.ru/2.0; +http://megaindex.com/crawl.\n",
      "Error parsing 5.62.41.136 - - [02/Aug/2020:20:40:36 -0700] \"GET /viewmaster/volumes/COUVIS_0xxx_v1/COUVIS_0058/DATA/D2017_013?pages=8 HTTP/1.1\" 200 946849 \"https://pds-rings.seti.org/viewmaster/volumes/COUVIS_0xxx_v1/COUVIS_0051/DATA?pages=8\" \"Mozilla/5.0.\n",
      "Error parsing 46.4.72.213 - - [09/Mar/2020:01:03:19 -0700] \"GET /press_releases/pages/PIA18xxx/PIA194.126.110.154 - - [09/Mar/2020:01:20:50 -0700] \"GET /press_releases/medium/PIA01xxx/PIA01529_med.jpg HTTP/1.1\" 200 11897 \"https://www.google.com/\" \"Mozilla/5.0 (Windows NT 10.0; Win64; x64) AppleWebKit/537.36 (KHTML, like Gecko) Chrome/80.0.3987.132 Safari/537.36\"\n",
      ".\n",
      "Error parsing 46.4.72.213 - - [09/Mar/2020:01:21:54 -0700] \"GET /cassini/iss/cartographic.htm46.4.72.213 - - [09/Mar/2020:01:24:50 -0700] \"GET /voyager/iss/inst_cal/vg1_wa_ch4u.html HTTP/1.1\" 200 12487 \"-\" \"Mozilla/5.0 (compatible; MegaIndex.ru/2.0; +http://megaindex.com/crawler)\"\n",
      ".\n",
      "Error parsing 46.4.72.213 - - [09/Mar/202046.4.72.213 - - [09/Mar/2020:01:34:27 -0700] \"GET /voyager/reference/science_v2u/pws/pws_ref.html HTTP/1.1\" 200 4231 \"-\" \"Mozilla/5.0 (compatible; MegaIndex.ru/2.0; +http://megaindex.com/crawler)\"\n",
      ".\n",
      "Error parsing 40.77.167.111 - - [09/Mar/2020:02:05:17 -0700] \"GET /press_releases/thumbnails/PIA06xxx/PIA06102_thumb.jpg HTTP/1.1\" 200 2781 \"-\" \"Mozilla/5.0 (compatible; bingbot/2.0; +http46.229.168.134 - - [09/Mar/2020:04:15:12 -0700] \"GET /saturn/cassini/PIA07538.html HTTP/1.1\" 302 243 \"-\" \"Mozilla/5.0 (compatible; SemrushBot/6~bl; +http://www.semrush.com/bot.html)\"\n",
      ".\n",
      "Error parsing 66.249.79.127 - - [09/Mar/2020:05:08:47 -0700] \"GET /cassini/uvis/access.html HTTP/1.1\" 200 657513 \"-\" \"Mozilla/5.0 (Linux; Android 6.0.1; Nexus 5X Build/MMB29P) AppleWebKit/537.36 (KHTML, like Gecko) Chrome/80.46.229.168.139 - - [09/Mar/2020:07:55:00 -0700] \"GET /galileo/ssi_g29_data/c0584432800r.tiff HTTP/1.1\" 200 142766 \"-\" \"Mozilla/5.0 (compatible; SemrushBot/6~bl; +http://www.semrush.com/bot.html)\"\n",
      ".\n",
      "Error parsing 54.36.148.2 - - [09/Mar/104.244.248.16 - - [09/Mar/2020:11:00:29 -0700] \"GET /viewmaster/ HTTP/1.1\" 302 245 \"https://pds-rings.seti.org/viewmaster/volumes/COISS_2xxx\" \"Mozilla/5.0 (Macintosh; Intel Mac OS X 10_15_3) AppleWebKit/605.1.15 (KHTML, like Gecko) Version/13.0.5 Safari/605.1.15\"\n",
      ".\n",
      "Error parsing 104.244.248.16 - - [09/Mar/2020:11:11:02 -0700] \"GET /viewmaster/216.244.66.203 - - [09/Mar/2020:11:29:31 -0700] \"GET /press_releases/pages/PIA10xxx/PIA10480.html HTTP/1.1\" 200 17972 \"-\" \"Mozilla/5.0 (compatible; DotBot/1.1; http://www.opensiteexplorer.org/dotbot, help@moz.com)\"\n",
      ".\n",
      "Error parsing 54.36.149.28 - - [09/Mar/2020:11:30:42 -0700] \"GET /press_releases54.36.148.35 - - [09/Mar/2020:12:14:56 -0700] \"GET /press_releases/medium/PIA05xxx/PIA05666_med.jpg HTTP/1.1\" 200 141049 \"-\" \"Mozilla/5.0 (compatible; AhrefsBot/6.1; +http://ahrefs.com/robot/)\"\n",
      ".\n",
      "Error parsing 69.248.187.219 - - [09/Mar/2020:12:39:35 -0700] \"GET /holdings/previews/VGISS_8xxx/VGISS_8207/DATA/C54.36.148.122 - - [09/Mar/2020:13:35:20 -0700] \"GET /cassini/uvis/metadata/COUVIS_0018/?C=N;O=D HTTP/1.1\" 302 257 \"-\" \"Mozilla/5.0 (compatible; AhrefsBot/6.1; +http://ahrefs.com/robot/)\"\n",
      ".\n",
      "Error parsing 54.36.149.88 - - [09/Mar/2020:13:58:43 -0700] \"GET /press_releases/medium/P66.249.79.63 - - [09/Mar/2020:15:06:28 -0700] \"GET /cassini/iss/COISS_0011_DOCUMENT/REPORT/iss/4.0/4.2/4.2.2.3%20graphs/wac_grn%20pic.pdf HTTP/1.1\" 200 18394 \"-\" \"Googlebot/2.1 (+http://www.google.com/bot.html)\"\n",
      ".\n"
     ]
    },
    {
     "name": "stderr",
     "output_type": "stream",
     "text": [
      "100%|██████████| 1240/1240 [10:21<00:00,  1.99it/s]\n"
     ]
    },
    {
     "name": "stdout",
     "output_type": "stream",
     "text": [
      "Expanding datetime field...\n",
      "120.21m to process log files.\n",
      "CPU times: user 37min 47s, sys: 51min 5s, total: 1h 28min 52s\n",
      "Wall time: 2h 11min 37s\n"
     ]
    }
   ],
   "source": [
    "%%time\n",
    "# This might take a while. \n",
    "parser_server2.parse_files()\n",
    "parser_server2.df_logs['log_name'] = 'server2'"
   ]
  },
  {
   "cell_type": "code",
   "execution_count": 17,
   "id": "7ae656e3-0e54-418f-bf13-cf7751520be6",
   "metadata": {},
   "outputs": [
    {
     "data": {
      "text/plain": [
       "(99600627, 14)"
      ]
     },
     "execution_count": 17,
     "metadata": {},
     "output_type": "execute_result"
    }
   ],
   "source": [
    "parser_server2.df_logs.shape"
   ]
  },
  {
   "cell_type": "code",
   "execution_count": 18,
   "id": "98da5edf-a57a-4e53-a07b-2d899fca2a81",
   "metadata": {},
   "outputs": [
    {
     "name": "stdout",
     "output_type": "stream",
     "text": [
      "Completed creating feather file at ../datasets/rings_server2.feather.\n"
     ]
    }
   ],
   "source": [
    "parser_server2.to_file(type=\"feather\", filepath=\"../datasets/rings_server2.feather\")"
   ]
  },
  {
   "cell_type": "markdown",
   "id": "24ca0129-a571-4e9a-8dd1-10db0044faed",
   "metadata": {},
   "source": [
    "## Example Read in File and Create Data Viz\n"
   ]
  },
  {
   "cell_type": "code",
   "execution_count": null,
   "id": "c98392c1-1081-4fe9-bbbd-1fa82c966b97",
   "metadata": {},
   "outputs": [],
   "source": [
    "%%time\n",
    "df_server1 = pd.read_parquet('../datasets/rings_server1.pq')"
   ]
  },
  {
   "cell_type": "code",
   "execution_count": null,
   "id": "366f2acc-44dd-46fc-9272-08367bf56954",
   "metadata": {},
   "outputs": [],
   "source": [
    "df_server1.shape"
   ]
  },
  {
   "cell_type": "code",
   "execution_count": null,
   "id": "ee43d48a-8641-4bea-a7f0-4c2934a123f2",
   "metadata": {},
   "outputs": [],
   "source": [
    "df_server1.head()"
   ]
  },
  {
   "cell_type": "code",
   "execution_count": null,
   "id": "9eedde83-b683-404f-84b8-2ef9c2a7eb14",
   "metadata": {},
   "outputs": [],
   "source": [
    "df_summary = (\n",
    "    df_server1.\n",
    "    groupby(by='status').\n",
    "    size().to_frame('requests').reset_index().\n",
    "    sort_values(by='requests', ascending=False)\n",
    ")\n",
    "fig, ax = plt.subplots(figsize=(15, 12))\n",
    "bar_p = sns.barplot(data=df_summary, x='status', y='requests', \n",
    "                    order=df_summary.sort_values('requests', ascending=False).status)"
   ]
  },
  {
   "cell_type": "code",
   "execution_count": null,
   "id": "49f98069-bcd6-46be-a364-925d8376ad35",
   "metadata": {},
   "outputs": [],
   "source": [
    "df_summary"
   ]
  },
  {
   "cell_type": "code",
   "execution_count": null,
   "id": "f024932f-8440-48d8-9312-cb06fe3a9a00",
   "metadata": {},
   "outputs": [],
   "source": [
    "df_server1.shape"
   ]
  },
  {
   "cell_type": "code",
   "execution_count": 22,
   "id": "1b76f4bf-77b9-4775-a371-701d582dd0f2",
   "metadata": {},
   "outputs": [
    {
     "name": "stderr",
     "output_type": "stream",
     "text": [
      "Exception in thread Profile:\n",
      "Exception in thread Profile:\n",
      "Traceback (most recent call last):\n",
      "  File \"/Users/kaipak/miniconda3/envs/dask/lib/python3.10/site-packages/distributed/profile.py\", line 115, in process\n",
      "Traceback (most recent call last):\n",
      "  File \"/Users/kaipak/miniconda3/envs/dask/lib/python3.10/site-packages/distributed/profile.py\", line 115, in process\n",
      "    d = state[\"children\"][ident]\n",
      "KeyError: 'write;/Users/kaipak/miniconda3/envs/dask/lib/python3.10/site-packages/distributed/comm/tcp.py;245'\n",
      "\n",
      "During handling of the above exception, another exception occurred:\n",
      "\n",
      "Traceback (most recent call last):\n",
      "  File \"/Users/kaipak/miniconda3/envs/dask/lib/python3.10/threading.py\", line 1009, in _bootstrap_inner\n",
      "    d = state[\"children\"][ident]\n",
      "KeyError: 'write;/Users/kaipak/miniconda3/envs/dask/lib/python3.10/site-packages/distributed/comm/tcp.py;245'\n",
      "\n",
      "During handling of the above exception, another exception occurred:\n",
      "\n",
      "Traceback (most recent call last):\n",
      "  File \"/Users/kaipak/miniconda3/envs/dask/lib/python3.10/threading.py\", line 1009, in _bootstrap_inner\n",
      "    self.run()\n",
      "  File \"/Users/kaipak/miniconda3/envs/dask/lib/python3.10/threading.py\", line 946, in run\n",
      "    self._target(*self._args, **self._kwargs)\n",
      "  File \"/Users/kaipak/miniconda3/envs/dask/lib/python3.10/site-packages/distributed/profile.py\", line 274, in _watch\n",
      "    self.run()\n",
      "  File \"/Users/kaipak/miniconda3/envs/dask/lib/python3.10/threading.py\", line 946, in run\n",
      "    self._target(*self._args, **self._kwargs)\n",
      "  File \"/Users/kaipak/miniconda3/envs/dask/lib/python3.10/site-packages/distributed/profile.py\", line 274, in _watch\n",
      "    process(frame, None, recent, omit=omit)\n",
      "  File \"/Users/kaipak/miniconda3/envs/dask/lib/python3.10/site-packages/distributed/profile.py\", line 119, in process\n",
      "    \"description\": info_frame(frame),\n",
      "  File \"/Users/kaipak/miniconda3/envs/dask/lib/python3.10/site-packages/distributed/profile.py\", line 72, in info_frame\n",
      "    process(frame, None, recent, omit=omit)\n",
      "  File \"/Users/kaipak/miniconda3/envs/dask/lib/python3.10/site-packages/distributed/profile.py\", line 119, in process\n",
      "    line = linecache.getline(co.co_filename, frame.f_lineno, frame.f_globals).lstrip()\n",
      "  File \"/Users/kaipak/miniconda3/envs/dask/lib/python3.10/linecache.py\", line 31, in getline\n",
      "    \"description\": info_frame(frame),\n",
      "  File \"/Users/kaipak/miniconda3/envs/dask/lib/python3.10/site-packages/distributed/profile.py\", line 72, in info_frame\n",
      "    line = linecache.getline(co.co_filename, frame.f_lineno, frame.f_globals).lstrip()\n",
      "  File \"/Users/kaipak/miniconda3/envs/dask/lib/python3.10/linecache.py\", line 31, in getline\n",
      "    if 1 <= lineno <= len(lines):\n",
      "TypeError: '<=' not supported between instances of 'int' and 'NoneType'\n",
      "    if 1 <= lineno <= len(lines):\n",
      "TypeError: '<=' not supported between instances of 'int' and 'NoneType'\n"
     ]
    }
   ],
   "source": [
    "import pandas as pd\n",
    "df = pd.concat([parser_tools.df_logs, parser_tools2.df_logs, parser_server1.df_logs, parser_server2.df_logs])"
   ]
  },
  {
   "cell_type": "code",
   "execution_count": null,
   "id": "e3652437-0c74-4b75-a74e-80b84d746941",
   "metadata": {},
   "outputs": [],
   "source": [
    "df.shape"
   ]
  },
  {
   "cell_type": "code",
   "execution_count": null,
   "id": "f631a1a1-e0eb-4e92-844f-13faa858d20e",
   "metadata": {},
   "outputs": [],
   "source": [
    "parser_server2.df_logs.shape"
   ]
  },
  {
   "cell_type": "code",
   "execution_count": null,
   "id": "8aec4abd-cf76-4e55-a1e0-23e2f897ab04",
   "metadata": {},
   "outputs": [],
   "source": [
    "df.reset_index(drop=True).to_feather('../datasets/tools1_tools2_server1.feather')"
   ]
  },
  {
   "cell_type": "code",
   "execution_count": null,
   "id": "9a51332d-e14b-4dd5-88e9-006e3d4c3657",
   "metadata": {},
   "outputs": [],
   "source": [
    "%%time\n",
    "df = pd.read_feather('../datasets/tools1_tools2_server1.feather')"
   ]
  },
  {
   "cell_type": "code",
   "execution_count": null,
   "id": "01936728-7269-4a2d-aee1-d4b28a3a1a93",
   "metadata": {},
   "outputs": [],
   "source": [
    "df['date'] = pd.to_datetime(df['date'])"
   ]
  },
  {
   "cell_type": "code",
   "execution_count": null,
   "id": "6171f5d4-d37d-4b31-90c0-f5bd5520af0c",
   "metadata": {},
   "outputs": [],
   "source": [
    "df.sort_values(by='date', inplace=True)"
   ]
  },
  {
   "cell_type": "code",
   "execution_count": null,
   "id": "a6cebe93-57fd-4aca-b38f-989c41017f1a",
   "metadata": {},
   "outputs": [],
   "source": [
    "df.head()"
   ]
  },
  {
   "cell_type": "code",
   "execution_count": null,
   "id": "a43528f6-806d-431d-ad4f-f43a1078a1ee",
   "metadata": {},
   "outputs": [],
   "source": [
    "df_sum = (\n",
    "    df.groupby(by=['month_year', 'date']).agg({'size': 'sum', 'ip': 'count'}).\n",
    "    reset_index(drop=False).rename(columns={'size': 'data_transmit (GB)', 'ip': 'requests'})\n",
    ")\n",
    "\n",
    "# Basic Transformations\n",
    "df_sum['data_transmit (GB)'] = df_sum['data_transmit (GB)'] / (8 * 10**9)\n",
    "df_sum['date'] = pd.to_datetime(df_sum['date'])\n",
    "df_sum['data_transmit_range'] = pd.cut(df_sum['data_transmit (GB)'], \n",
    "                                       bins=[0, .1, 1, 10, 100, 200, 500, 1000, 100000],\n",
    "                                       labels=['0-100MB', '100MB-1GB', '1-10GB', '10-100GB', '100-200GB', '200-500GB', \n",
    "                                               '500GB-1TB', '>1TB'])\n",
    "print(df_sum.dtypes)"
   ]
  },
  {
   "cell_type": "code",
   "execution_count": null,
   "id": "e186e975-49ce-4d53-be24-383233d5d2dd",
   "metadata": {},
   "outputs": [],
   "source": [
    "import plotly.express as px\n",
    "df_sum.sort_values(by='date', inplace=True)\n",
    "fig = px.line(df_sum, x=\"date\", y=\"data_transmit (GB)\", log_y=True)\n",
    "fig.show()"
   ]
  },
  {
   "cell_type": "code",
   "execution_count": null,
   "id": "b2e3b5f9-c902-45a3-95de-7d6f8b5b45ac",
   "metadata": {},
   "outputs": [],
   "source": []
  }
 ],
 "metadata": {
  "kernelspec": {
   "display_name": "dask",
   "language": "python",
   "name": "dask"
  },
  "language_info": {
   "codemirror_mode": {
    "name": "ipython",
    "version": 3
   },
   "file_extension": ".py",
   "mimetype": "text/x-python",
   "name": "python",
   "nbconvert_exporter": "python",
   "pygments_lexer": "ipython3",
   "version": "3.10.2"
  }
 },
 "nbformat": 4,
 "nbformat_minor": 5
}
