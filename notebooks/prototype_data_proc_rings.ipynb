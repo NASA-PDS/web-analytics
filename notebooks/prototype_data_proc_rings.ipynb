{
 "cells": [
  {
   "cell_type": "code",
   "execution_count": 17,
   "id": "14dcb8bf-2569-45fd-9eb1-be96e1de83ce",
   "metadata": {},
   "outputs": [
    {
     "name": "stdout",
     "output_type": "stream",
     "text": [
      "The autoreload extension is already loaded. To reload it, use:\n",
      "  %reload_ext autoreload\n"
     ]
    }
   ],
   "source": [
    "%load_ext autoreload\n",
    "%autoreload 2\n",
    "%matplotlib inline"
   ]
  },
  {
   "cell_type": "code",
   "execution_count": 18,
   "id": "233f6cef-f1de-4200-8e5c-f84ae8335353",
   "metadata": {},
   "outputs": [],
   "source": [
    "import glob\n",
    "import sys\n",
    "import os\n",
    "from pathlib import Path\n",
    "\n",
    "import pandas as pd\n",
    "import numpy as np\n",
    "import matplotlib.pyplot as plt\n",
    "import seaborn as sns\n",
    "\n",
    "sys.path.append('../src')\n",
    "from clf_parser import CLFParse"
   ]
  },
  {
   "cell_type": "code",
   "execution_count": 23,
   "id": "fef7b848-d67e-42b2-bcff-202b6c9488c9",
   "metadata": {},
   "outputs": [],
   "source": [
    "# Modify path here for your particular system\n",
    "data_dir = Path('/Users/kaipak/datasets/pds/pds_logs/report_service/logs/final/rings/rings-apache-metrics')\n",
    "tools_logs = sorted(glob.glob(str(data_dir) + \"/tools_*\"))\n",
    "tools2_logs = sorted(glob.glob(str(data_dir) + \"/tools2*\"))\n",
    "server1_logs = sorted(glob.glob(str(data_dir) + \"/server1*\"))\n",
    "server2_logs = sorted(glob.glob(str(data_dir) + \"/server2*\"))"
   ]
  },
  {
   "cell_type": "code",
   "execution_count": 32,
   "id": "f3b69b66-34cd-4009-bf31-f60db87e034b",
   "metadata": {},
   "outputs": [
    {
     "data": {
      "text/plain": [
       "201"
      ]
     },
     "execution_count": 32,
     "metadata": {},
     "output_type": "execute_result"
    }
   ],
   "source": [
    "len(tools_logs)"
   ]
  },
  {
   "cell_type": "code",
   "execution_count": 27,
   "id": "db90c39e-cb80-4cfa-98bd-b5041ce644b4",
   "metadata": {},
   "outputs": [
    {
     "data": {
      "text/plain": [
       "447"
      ]
     },
     "execution_count": 27,
     "metadata": {},
     "output_type": "execute_result"
    }
   ],
   "source": [
    "len(server1_logs)"
   ]
  },
  {
   "cell_type": "code",
   "execution_count": 29,
   "id": "43a61925-86d9-466c-a308-47ac26921cc6",
   "metadata": {},
   "outputs": [
    {
     "data": {
      "text/plain": [
       "1240"
      ]
     },
     "execution_count": 29,
     "metadata": {},
     "output_type": "execute_result"
    }
   ],
   "source": [
    "len(server2_logs)"
   ]
  },
  {
   "cell_type": "code",
   "execution_count": 33,
   "id": "1dbc0429-af20-4de2-8f68-cad5db16f2a0",
   "metadata": {},
   "outputs": [],
   "source": [
    "parser_tools = CLFParse(tools_logs)\n",
    "parser_tools2 = CLFParse(tools2_logs)\n",
    "parser_server1 = CLFParse(server1_logs)\n",
    "parser_server2 = CLFParse(server2_logs)"
   ]
  },
  {
   "cell_type": "code",
   "execution_count": 37,
   "id": "ffe04088-e27d-404b-8333-d48a373ab622",
   "metadata": {},
   "outputs": [
    {
     "name": "stdout",
     "output_type": "stream",
     "text": [
      "Logfiles list contains 201 files.\n",
      "10 files have been processed. 0.0 minutes elapsed\n",
      "20 files have been processed. 0.01 minutes elapsed\n",
      "30 files have been processed. 0.01 minutes elapsed\n",
      "40 files have been processed. 0.01 minutes elapsed\n",
      "50 files have been processed. 0.01 minutes elapsed\n",
      "60 files have been processed. 0.02 minutes elapsed\n",
      "70 files have been processed. 0.02 minutes elapsed\n",
      "80 files have been processed. 0.02 minutes elapsed\n",
      "90 files have been processed. 0.02 minutes elapsed\n",
      "100 files have been processed. 0.03 minutes elapsed\n",
      "110 files have been processed. 0.03 minutes elapsed\n",
      "120 files have been processed. 0.07 minutes elapsed\n",
      "130 files have been processed. 0.08 minutes elapsed\n",
      "140 files have been processed. 0.09 minutes elapsed\n",
      "150 files have been processed. 0.09 minutes elapsed\n",
      "160 files have been processed. 0.1 minutes elapsed\n",
      "170 files have been processed. 0.1 minutes elapsed\n",
      "180 files have been processed. 0.1 minutes elapsed\n",
      "190 files have been processed. 0.11 minutes elapsed\n",
      "200 files have been processed. 0.11 minutes elapsed\n",
      "Expanding datetime field...\n",
      "0.12m to process log files.\n",
      "CPU times: user 6.97 s, sys: 413 ms, total: 7.38 s\n",
      "Wall time: 7.44 s\n"
     ]
    }
   ],
   "source": [
    "%%time\n",
    "parser_tools.parse_files()\n",
    "parser_tools.df_logs['log_name'] = 'tools'"
   ]
  },
  {
   "cell_type": "code",
   "execution_count": 40,
   "id": "098b7106-26d0-40f9-9f89-a89312614735",
   "metadata": {},
   "outputs": [
    {
     "data": {
      "text/html": [
       "<div>\n",
       "<style scoped>\n",
       "    .dataframe tbody tr th:only-of-type {\n",
       "        vertical-align: middle;\n",
       "    }\n",
       "\n",
       "    .dataframe tbody tr th {\n",
       "        vertical-align: top;\n",
       "    }\n",
       "\n",
       "    .dataframe thead th {\n",
       "        text-align: right;\n",
       "    }\n",
       "</style>\n",
       "<table border=\"1\" class=\"dataframe\">\n",
       "  <thead>\n",
       "    <tr style=\"text-align: right;\">\n",
       "      <th></th>\n",
       "      <th>ip</th>\n",
       "      <th>identd</th>\n",
       "      <th>userid</th>\n",
       "      <th>datetime</th>\n",
       "      <th>request</th>\n",
       "      <th>status</th>\n",
       "      <th>size</th>\n",
       "      <th>referer</th>\n",
       "      <th>user_agent</th>\n",
       "      <th>date</th>\n",
       "      <th>month_year</th>\n",
       "      <th>DOW</th>\n",
       "      <th>hour</th>\n",
       "      <th>log_name</th>\n",
       "    </tr>\n",
       "  </thead>\n",
       "  <tbody>\n",
       "    <tr>\n",
       "      <th>3020</th>\n",
       "      <td>34.220.127.124</td>\n",
       "      <td>None</td>\n",
       "      <td>None</td>\n",
       "      <td>2021-11-27 06:55:41+00:00</td>\n",
       "      <td>GET /opus/__normalizeurl.json? HTTP/1.1</td>\n",
       "      <td>200</td>\n",
       "      <td>640</td>\n",
       "      <td>https://opus.pds-rings.seti.org/</td>\n",
       "      <td>Mozilla/5.0 (X11; Linux x86_64) AppleWebKit/53...</td>\n",
       "      <td>2021-11-27</td>\n",
       "      <td>11-2021</td>\n",
       "      <td>Saturday</td>\n",
       "      <td>6</td>\n",
       "      <td>tools</td>\n",
       "    </tr>\n",
       "    <tr>\n",
       "      <th>529</th>\n",
       "      <td>208.115.199.22</td>\n",
       "      <td>None</td>\n",
       "      <td>None</td>\n",
       "      <td>2021-11-28 13:51:05+00:00</td>\n",
       "      <td>HEAD / HTTP/1.1</td>\n",
       "      <td>200</td>\n",
       "      <td>5083</td>\n",
       "      <td>https://tools.pds-rings.seti.org</td>\n",
       "      <td>Mozilla/5.0+(compatible; UptimeRobot/2.0; http...</td>\n",
       "      <td>2021-11-28</td>\n",
       "      <td>11-2021</td>\n",
       "      <td>Sunday</td>\n",
       "      <td>13</td>\n",
       "      <td>tools</td>\n",
       "    </tr>\n",
       "    <tr>\n",
       "      <th>3663</th>\n",
       "      <td>10.244.248.1</td>\n",
       "      <td>None</td>\n",
       "      <td>None</td>\n",
       "      <td>2021-11-26 07:54:38+00:00</td>\n",
       "      <td>GET / HTTP/1.1</td>\n",
       "      <td>200</td>\n",
       "      <td>134499</td>\n",
       "      <td>None</td>\n",
       "      <td>Zabbix</td>\n",
       "      <td>2021-11-26</td>\n",
       "      <td>11-2021</td>\n",
       "      <td>Friday</td>\n",
       "      <td>7</td>\n",
       "      <td>tools</td>\n",
       "    </tr>\n",
       "    <tr>\n",
       "      <th>12</th>\n",
       "      <td>192.241.211.84</td>\n",
       "      <td>None</td>\n",
       "      <td>None</td>\n",
       "      <td>2021-12-08 11:20:25+00:00</td>\n",
       "      <td>GET /actuator/health HTTP/1.1</td>\n",
       "      <td>404</td>\n",
       "      <td>4982</td>\n",
       "      <td>None</td>\n",
       "      <td>Mozilla/5.0 zgrab/0.x</td>\n",
       "      <td>2021-12-08</td>\n",
       "      <td>12-2021</td>\n",
       "      <td>Wednesday</td>\n",
       "      <td>11</td>\n",
       "      <td>tools</td>\n",
       "    </tr>\n",
       "    <tr>\n",
       "      <th>782</th>\n",
       "      <td>5.71.19.12</td>\n",
       "      <td>None</td>\n",
       "      <td>None</td>\n",
       "      <td>2021-11-27 15:23:50+00:00</td>\n",
       "      <td>GET /opus/__menu.json?note=LORRI+IMAGES+OF+PLU...</td>\n",
       "      <td>200</td>\n",
       "      <td>13329</td>\n",
       "      <td>https://opus.pds-rings.seti.org/opus/</td>\n",
       "      <td>Mozilla/5.0 (Windows NT 10.0; Win64; x64) Appl...</td>\n",
       "      <td>2021-11-27</td>\n",
       "      <td>11-2021</td>\n",
       "      <td>Saturday</td>\n",
       "      <td>15</td>\n",
       "      <td>tools</td>\n",
       "    </tr>\n",
       "  </tbody>\n",
       "</table>\n",
       "</div>"
      ],
      "text/plain": [
       "                  ip identd userid                  datetime  \\\n",
       "3020  34.220.127.124   None   None 2021-11-27 06:55:41+00:00   \n",
       "529   208.115.199.22   None   None 2021-11-28 13:51:05+00:00   \n",
       "3663    10.244.248.1   None   None 2021-11-26 07:54:38+00:00   \n",
       "12    192.241.211.84   None   None 2021-12-08 11:20:25+00:00   \n",
       "782       5.71.19.12   None   None 2021-11-27 15:23:50+00:00   \n",
       "\n",
       "                                                request status    size  \\\n",
       "3020            GET /opus/__normalizeurl.json? HTTP/1.1    200     640   \n",
       "529                                     HEAD / HTTP/1.1    200    5083   \n",
       "3663                                     GET / HTTP/1.1    200  134499   \n",
       "12                        GET /actuator/health HTTP/1.1    404    4982   \n",
       "782   GET /opus/__menu.json?note=LORRI+IMAGES+OF+PLU...    200   13329   \n",
       "\n",
       "                                    referer  \\\n",
       "3020       https://opus.pds-rings.seti.org/   \n",
       "529        https://tools.pds-rings.seti.org   \n",
       "3663                                   None   \n",
       "12                                     None   \n",
       "782   https://opus.pds-rings.seti.org/opus/   \n",
       "\n",
       "                                             user_agent        date  \\\n",
       "3020  Mozilla/5.0 (X11; Linux x86_64) AppleWebKit/53...  2021-11-27   \n",
       "529   Mozilla/5.0+(compatible; UptimeRobot/2.0; http...  2021-11-28   \n",
       "3663                                             Zabbix  2021-11-26   \n",
       "12                                Mozilla/5.0 zgrab/0.x  2021-12-08   \n",
       "782   Mozilla/5.0 (Windows NT 10.0; Win64; x64) Appl...  2021-11-27   \n",
       "\n",
       "     month_year        DOW  hour log_name  \n",
       "3020    11-2021   Saturday     6    tools  \n",
       "529     11-2021     Sunday    13    tools  \n",
       "3663    11-2021     Friday     7    tools  \n",
       "12      12-2021  Wednesday    11    tools  \n",
       "782     11-2021   Saturday    15    tools  "
      ]
     },
     "execution_count": 40,
     "metadata": {},
     "output_type": "execute_result"
    }
   ],
   "source": [
    "parser_tools.df_logs.sample(5)"
   ]
  },
  {
   "cell_type": "code",
   "execution_count": 41,
   "id": "fc3de3d2-9d03-4cd7-acf9-a1cdfadb73e7",
   "metadata": {
    "tags": []
   },
   "outputs": [
    {
     "name": "stdout",
     "output_type": "stream",
     "text": [
      "Logfiles list contains 647 files.\n",
      "10 files have been processed. 0.2 minutes elapsed\n",
      "20 files have been processed. 0.38 minutes elapsed\n",
      "30 files have been processed. 0.55 minutes elapsed\n",
      "40 files have been processed. 0.71 minutes elapsed\n",
      "50 files have been processed. 0.87 minutes elapsed\n",
      "60 files have been processed. 1.05 minutes elapsed\n",
      "70 files have been processed. 1.22 minutes elapsed\n",
      "80 files have been processed. 1.4 minutes elapsed\n",
      "90 files have been processed. 1.56 minutes elapsed\n",
      "100 files have been processed. 1.73 minutes elapsed\n",
      "110 files have been processed. 1.88 minutes elapsed\n",
      "120 files have been processed. 2.04 minutes elapsed\n",
      "130 files have been processed. 2.21 minutes elapsed\n",
      "140 files have been processed. 2.38 minutes elapsed\n",
      "150 files have been processed. 2.56 minutes elapsed\n",
      "160 files have been processed. 2.72 minutes elapsed\n",
      "170 files have been processed. 2.89 minutes elapsed\n",
      "180 files have been processed. 3.06 minutes elapsed\n",
      "190 files have been processed. 3.23 minutes elapsed\n",
      "200 files have been processed. 3.42 minutes elapsed\n",
      "210 files have been processed. 3.61 minutes elapsed\n",
      "220 files have been processed. 3.8 minutes elapsed\n",
      "230 files have been processed. 3.99 minutes elapsed\n",
      "240 files have been processed. 4.17 minutes elapsed\n",
      "250 files have been processed. 4.35 minutes elapsed\n",
      "260 files have been processed. 4.52 minutes elapsed\n",
      "270 files have been processed. 4.72 minutes elapsed\n",
      "280 files have been processed. 4.9 minutes elapsed\n",
      "290 files have been processed. 5.09 minutes elapsed\n",
      "300 files have been processed. 5.3 minutes elapsed\n",
      "310 files have been processed. 5.52 minutes elapsed\n",
      "320 files have been processed. 5.75 minutes elapsed\n",
      "330 files have been processed. 5.97 minutes elapsed\n",
      "340 files have been processed. 6.21 minutes elapsed\n",
      "350 files have been processed. 6.44 minutes elapsed\n",
      "360 files have been processed. 6.65 minutes elapsed\n",
      "370 files have been processed. 6.9 minutes elapsed\n",
      "380 files have been processed. 7.13 minutes elapsed\n",
      "390 files have been processed. 7.35 minutes elapsed\n",
      "400 files have been processed. 7.59 minutes elapsed\n",
      "410 files have been processed. 7.82 minutes elapsed\n",
      "420 files have been processed. 8.04 minutes elapsed\n",
      "430 files have been processed. 8.26 minutes elapsed\n",
      "440 files have been processed. 8.49 minutes elapsed\n",
      "450 files have been processed. 8.71 minutes elapsed\n",
      "460 files have been processed. 8.94 minutes elapsed\n",
      "470 files have been processed. 9.2 minutes elapsed\n",
      "480 files have been processed. 9.44 minutes elapsed\n",
      "490 files have been processed. 9.68 minutes elapsed\n",
      "500 files have been processed. 9.91 minutes elapsed\n",
      "510 files have been processed. 10.14 minutes elapsed\n",
      "520 files have been processed. 10.38 minutes elapsed\n",
      "530 files have been processed. 10.64 minutes elapsed\n",
      "540 files have been processed. 10.87 minutes elapsed\n",
      "550 files have been processed. 11.11 minutes elapsed\n",
      "560 files have been processed. 11.35 minutes elapsed\n",
      "570 files have been processed. 11.6 minutes elapsed\n",
      "580 files have been processed. 11.85 minutes elapsed\n",
      "590 files have been processed. 12.11 minutes elapsed\n",
      "600 files have been processed. 12.35 minutes elapsed\n",
      "610 files have been processed. 12.61 minutes elapsed\n",
      "620 files have been processed. 12.87 minutes elapsed\n",
      "630 files have been processed. 13.15 minutes elapsed\n",
      "640 files have been processed. 13.4 minutes elapsed\n",
      "Expanding datetime field...\n",
      "14.3m to process log files.\n",
      "CPU times: user 12min 49s, sys: 1min 25s, total: 14min 14s\n",
      "Wall time: 14min 17s\n"
     ]
    }
   ],
   "source": [
    "%%time\n",
    "# This might take a while. \n",
    "parser_tools2.parse_files()\n",
    "parser_tools2.df_logs['log_name'] = 'tools2'"
   ]
  },
  {
   "cell_type": "code",
   "execution_count": 42,
   "id": "93e78000-162b-4ca1-960c-e87998e05a61",
   "metadata": {},
   "outputs": [
    {
     "data": {
      "text/html": [
       "<div>\n",
       "<style scoped>\n",
       "    .dataframe tbody tr th:only-of-type {\n",
       "        vertical-align: middle;\n",
       "    }\n",
       "\n",
       "    .dataframe tbody tr th {\n",
       "        vertical-align: top;\n",
       "    }\n",
       "\n",
       "    .dataframe thead th {\n",
       "        text-align: right;\n",
       "    }\n",
       "</style>\n",
       "<table border=\"1\" class=\"dataframe\">\n",
       "  <thead>\n",
       "    <tr style=\"text-align: right;\">\n",
       "      <th></th>\n",
       "      <th>ip</th>\n",
       "      <th>identd</th>\n",
       "      <th>userid</th>\n",
       "      <th>datetime</th>\n",
       "      <th>request</th>\n",
       "      <th>status</th>\n",
       "      <th>size</th>\n",
       "      <th>referer</th>\n",
       "      <th>user_agent</th>\n",
       "      <th>date</th>\n",
       "      <th>month_year</th>\n",
       "      <th>DOW</th>\n",
       "      <th>hour</th>\n",
       "      <th>log_name</th>\n",
       "    </tr>\n",
       "  </thead>\n",
       "  <tbody>\n",
       "    <tr>\n",
       "      <th>1154</th>\n",
       "      <td>217.66.185.193</td>\n",
       "      <td>None</td>\n",
       "      <td>None</td>\n",
       "      <td>2020-10-28 13:13:37+00:00</td>\n",
       "      <td>GET /opus/__api/dataimages.json?instrument=Cas...</td>\n",
       "      <td>200</td>\n",
       "      <td>6821</td>\n",
       "      <td>https://opus.pds-rings.seti.org/opus/</td>\n",
       "      <td>Mozilla/5.0 (Windows NT 6.1; Win64; x64) Apple...</td>\n",
       "      <td>2020-10-28</td>\n",
       "      <td>10-2020</td>\n",
       "      <td>Wednesday</td>\n",
       "      <td>13</td>\n",
       "      <td>tools2</td>\n",
       "    </tr>\n",
       "    <tr>\n",
       "      <th>1997</th>\n",
       "      <td>104.244.248.16</td>\n",
       "      <td>None</td>\n",
       "      <td>None</td>\n",
       "      <td>2021-03-22 18:43:10+00:00</td>\n",
       "      <td>GET /opus/__api/meta/result_count.json?instrum...</td>\n",
       "      <td>200</td>\n",
       "      <td>643</td>\n",
       "      <td>https://opus.pds-rings.seti.org/opus/</td>\n",
       "      <td>Mozilla/5.0 (Macintosh; U; Intel Mac OS X 10.1...</td>\n",
       "      <td>2021-03-22</td>\n",
       "      <td>03-2021</td>\n",
       "      <td>Monday</td>\n",
       "      <td>18</td>\n",
       "      <td>tools2</td>\n",
       "    </tr>\n",
       "    <tr>\n",
       "      <th>2315</th>\n",
       "      <td>99.244.132.139</td>\n",
       "      <td>None</td>\n",
       "      <td>None</td>\n",
       "      <td>2020-10-01 21:26:32+00:00</td>\n",
       "      <td>GET /static_media/perfect-scrollbar/css/perfec...</td>\n",
       "      <td>200</td>\n",
       "      <td>4327</td>\n",
       "      <td>https://opus.pds-rings.seti.org/opus/</td>\n",
       "      <td>Mozilla/5.0 (Windows NT 10.0; Win64; x64) Appl...</td>\n",
       "      <td>2020-10-01</td>\n",
       "      <td>10-2020</td>\n",
       "      <td>Thursday</td>\n",
       "      <td>21</td>\n",
       "      <td>tools2</td>\n",
       "    </tr>\n",
       "    <tr>\n",
       "      <th>276</th>\n",
       "      <td>65.21.240.74</td>\n",
       "      <td>None</td>\n",
       "      <td>None</td>\n",
       "      <td>2021-07-07 10:26:06+00:00</td>\n",
       "      <td>GET /wp-content/wp-1ogin_bak.php HTTP/1.1</td>\n",
       "      <td>404</td>\n",
       "      <td>5100</td>\n",
       "      <td>anonymousfox.co</td>\n",
       "      <td>Mozilla/5.0 (Windows NT 10.0; Win64; x64) Appl...</td>\n",
       "      <td>2021-07-07</td>\n",
       "      <td>07-2021</td>\n",
       "      <td>Wednesday</td>\n",
       "      <td>10</td>\n",
       "      <td>tools2</td>\n",
       "    </tr>\n",
       "    <tr>\n",
       "      <th>2050</th>\n",
       "      <td>10.244.248.1</td>\n",
       "      <td>None</td>\n",
       "      <td>None</td>\n",
       "      <td>2022-02-09 01:16:40+00:00</td>\n",
       "      <td>GET / HTTP/1.1</td>\n",
       "      <td>200</td>\n",
       "      <td>134493</td>\n",
       "      <td>None</td>\n",
       "      <td>Zabbix</td>\n",
       "      <td>2022-02-09</td>\n",
       "      <td>02-2022</td>\n",
       "      <td>Wednesday</td>\n",
       "      <td>1</td>\n",
       "      <td>tools2</td>\n",
       "    </tr>\n",
       "  </tbody>\n",
       "</table>\n",
       "</div>"
      ],
      "text/plain": [
       "                  ip identd userid                  datetime  \\\n",
       "1154  217.66.185.193   None   None 2020-10-28 13:13:37+00:00   \n",
       "1997  104.244.248.16   None   None 2021-03-22 18:43:10+00:00   \n",
       "2315  99.244.132.139   None   None 2020-10-01 21:26:32+00:00   \n",
       "276     65.21.240.74   None   None 2021-07-07 10:26:06+00:00   \n",
       "2050    10.244.248.1   None   None 2022-02-09 01:16:40+00:00   \n",
       "\n",
       "                                                request status    size  \\\n",
       "1154  GET /opus/__api/dataimages.json?instrument=Cas...    200    6821   \n",
       "1997  GET /opus/__api/meta/result_count.json?instrum...    200     643   \n",
       "2315  GET /static_media/perfect-scrollbar/css/perfec...    200    4327   \n",
       "276           GET /wp-content/wp-1ogin_bak.php HTTP/1.1    404    5100   \n",
       "2050                                     GET / HTTP/1.1    200  134493   \n",
       "\n",
       "                                    referer  \\\n",
       "1154  https://opus.pds-rings.seti.org/opus/   \n",
       "1997  https://opus.pds-rings.seti.org/opus/   \n",
       "2315  https://opus.pds-rings.seti.org/opus/   \n",
       "276                         anonymousfox.co   \n",
       "2050                                   None   \n",
       "\n",
       "                                             user_agent        date  \\\n",
       "1154  Mozilla/5.0 (Windows NT 6.1; Win64; x64) Apple...  2020-10-28   \n",
       "1997  Mozilla/5.0 (Macintosh; U; Intel Mac OS X 10.1...  2021-03-22   \n",
       "2315  Mozilla/5.0 (Windows NT 10.0; Win64; x64) Appl...  2020-10-01   \n",
       "276   Mozilla/5.0 (Windows NT 10.0; Win64; x64) Appl...  2021-07-07   \n",
       "2050                                             Zabbix  2022-02-09   \n",
       "\n",
       "     month_year        DOW  hour log_name  \n",
       "1154    10-2020  Wednesday    13   tools2  \n",
       "1997    03-2021     Monday    18   tools2  \n",
       "2315    10-2020   Thursday    21   tools2  \n",
       "276     07-2021  Wednesday    10   tools2  \n",
       "2050    02-2022  Wednesday     1   tools2  "
      ]
     },
     "execution_count": 42,
     "metadata": {},
     "output_type": "execute_result"
    }
   ],
   "source": [
    "parser_tools2.df_logs.sample(5)"
   ]
  },
  {
   "cell_type": "code",
   "execution_count": 6,
   "id": "d6d4ac00-ba35-49f5-9c6b-2e8f5b4daaa1",
   "metadata": {},
   "outputs": [
    {
     "name": "stdout",
     "output_type": "stream",
     "text": [
      "Completed creating feather file at ../datasets/rings_tools2.feather.\n"
     ]
    }
   ],
   "source": [
    "parser_tools2.to_file(type=\"feather\", filepath=\"../datasets/rings_tools2.feather\")"
   ]
  },
  {
   "cell_type": "code",
   "execution_count": 43,
   "id": "827e43b6-d1e1-49e9-a139-d4d323796204",
   "metadata": {},
   "outputs": [
    {
     "name": "stdout",
     "output_type": "stream",
     "text": [
      "Logfiles list contains 447 files.\n",
      "10 files have been processed. 1.12 minutes elapsed\n",
      "20 files have been processed. 1.31 minutes elapsed\n",
      "30 files have been processed. 1.54 minutes elapsed\n",
      "40 files have been processed. 1.71 minutes elapsed\n",
      "50 files have been processed. 1.87 minutes elapsed\n",
      "60 files have been processed. 2.01 minutes elapsed\n",
      "70 files have been processed. 2.19 minutes elapsed\n",
      "80 files have been processed. 2.34 minutes elapsed\n",
      "90 files have been processed. 2.52 minutes elapsed\n",
      "100 files have been processed. 2.68 minutes elapsed\n",
      "110 files have been processed. 2.84 minutes elapsed\n",
      "120 files have been processed. 3.02 minutes elapsed\n",
      "130 files have been processed. 3.26 minutes elapsed\n",
      "140 files have been processed. 3.49 minutes elapsed\n",
      "150 files have been processed. 3.68 minutes elapsed\n",
      "160 files have been processed. 4.04 minutes elapsed\n",
      "170 files have been processed. 4.25 minutes elapsed\n",
      "180 files have been processed. 4.53 minutes elapsed\n",
      "190 files have been processed. 4.81 minutes elapsed\n",
      "200 files have been processed. 5.04 minutes elapsed\n",
      "210 files have been processed. 5.37 minutes elapsed\n",
      "220 files have been processed. 5.68 minutes elapsed\n",
      "230 files have been processed. 5.92 minutes elapsed\n",
      "240 files have been processed. 6.18 minutes elapsed\n",
      "250 files have been processed. 6.59 minutes elapsed\n",
      "260 files have been processed. 6.85 minutes elapsed\n",
      "270 files have been processed. 7.18 minutes elapsed\n",
      "280 files have been processed. 7.52 minutes elapsed\n",
      "290 files have been processed. 7.79 minutes elapsed\n",
      "300 files have been processed. 8.09 minutes elapsed\n",
      "310 files have been processed. 8.46 minutes elapsed\n",
      "320 files have been processed. 8.76 minutes elapsed\n",
      "330 files have been processed. 9.03 minutes elapsed\n",
      "340 files have been processed. 9.37 minutes elapsed\n",
      "350 files have been processed. 9.71 minutes elapsed\n",
      "360 files have been processed. 10.12 minutes elapsed\n",
      "370 files have been processed. 10.47 minutes elapsed\n",
      "380 files have been processed. 10.67 minutes elapsed\n",
      "390 files have been processed. 11.15 minutes elapsed\n",
      "400 files have been processed. 12.21 minutes elapsed\n",
      "410 files have been processed. 13.23 minutes elapsed\n",
      "420 files have been processed. 14.44 minutes elapsed\n",
      "430 files have been processed. 15.68 minutes elapsed\n",
      "440 files have been processed. 16.83 minutes elapsed\n",
      "Expanding datetime field...\n",
      "20.05m to process log files.\n",
      "CPU times: user 19min 2s, sys: 58.1 s, total: 20min\n",
      "Wall time: 20min 3s\n"
     ]
    }
   ],
   "source": [
    "%%time\n",
    "# This might take a while. \n",
    "parser_server1.parse_files()\n",
    "parser_server1.df_logs['log_name'] = 'server1'"
   ]
  },
  {
   "cell_type": "code",
   "execution_count": 45,
   "id": "8efbeb14-b97b-4606-a45a-769db4e27df4",
   "metadata": {},
   "outputs": [
    {
     "data": {
      "text/plain": [
       "(12586575, 14)"
      ]
     },
     "execution_count": 45,
     "metadata": {},
     "output_type": "execute_result"
    }
   ],
   "source": [
    "parser_server1.df_logs.shape"
   ]
  },
  {
   "cell_type": "code",
   "execution_count": 46,
   "id": "4369909b-0a53-4dc9-bbab-d33bd6f8b06b",
   "metadata": {},
   "outputs": [
    {
     "name": "stdout",
     "output_type": "stream",
     "text": [
      "Logfiles list contains 1240 files.\n",
      "10 files have been processed. 0.94 minutes elapsed\n",
      "20 files have been processed. 1.66 minutes elapsed\n",
      "30 files have been processed. 2.33 minutes elapsed\n",
      "40 files have been processed. 2.93 minutes elapsed\n",
      "50 files have been processed. 3.4 minutes elapsed\n",
      "60 files have been processed. 3.95 minutes elapsed\n",
      "70 files have been processed. 4.53 minutes elapsed\n",
      "80 files have been processed. 4.96 minutes elapsed\n",
      "90 files have been processed. 5.45 minutes elapsed\n",
      "100 files have been processed. 5.83 minutes elapsed\n",
      "110 files have been processed. 7.88 minutes elapsed\n",
      "120 files have been processed. 8.38 minutes elapsed\n",
      "130 files have been processed. 8.91 minutes elapsed\n",
      "140 files have been processed. 9.5 minutes elapsed\n",
      "150 files have been processed. 10.26 minutes elapsed\n",
      "160 files have been processed. 11.0 minutes elapsed\n",
      "170 files have been processed. 11.71 minutes elapsed\n",
      "180 files have been processed. 12.4 minutes elapsed\n",
      "190 files have been processed. 13.16 minutes elapsed\n",
      "200 files have been processed. 13.91 minutes elapsed\n",
      "210 files have been processed. 14.67 minutes elapsed\n",
      "220 files have been processed. 15.49 minutes elapsed\n",
      "230 files have been processed. 16.33 minutes elapsed\n",
      "240 files have been processed. 17.2 minutes elapsed\n",
      "250 files have been processed. 18.05 minutes elapsed\n",
      "260 files have been processed. 18.91 minutes elapsed\n",
      "270 files have been processed. 19.81 minutes elapsed\n",
      "280 files have been processed. 20.73 minutes elapsed\n",
      "290 files have been processed. 21.77 minutes elapsed\n",
      "300 files have been processed. 22.76 minutes elapsed\n",
      "310 files have been processed. 23.93 minutes elapsed\n",
      "320 files have been processed. 24.85 minutes elapsed\n",
      "330 files have been processed. 25.72 minutes elapsed\n",
      "340 files have been processed. 26.73 minutes elapsed\n",
      "350 files have been processed. 27.8 minutes elapsed\n",
      "360 files have been processed. 29.02 minutes elapsed\n",
      "370 files have been processed. 30.31 minutes elapsed\n",
      "380 files have been processed. 31.5 minutes elapsed\n",
      "390 files have been processed. 32.75 minutes elapsed\n",
      "400 files have been processed. 33.91 minutes elapsed\n",
      "410 files have been processed. 35.15 minutes elapsed\n",
      "420 files have been processed. 36.5 minutes elapsed\n",
      "430 files have been processed. 37.66 minutes elapsed\n",
      "440 files have been processed. 39.07 minutes elapsed\n",
      "450 files have been processed. 40.38 minutes elapsed\n",
      "460 files have been processed. 41.85 minutes elapsed\n",
      "470 files have been processed. 43.29 minutes elapsed\n",
      "480 files have been processed. 44.65 minutes elapsed\n",
      "490 files have been processed. 46.18 minutes elapsed\n"
     ]
    },
    {
     "ename": "InvalidEntryError",
     "evalue": "Could not match log entry '213.5.19.152 - - [04/Feb/2019:20:08:21 -0800] \"GET /holdings/previews/VGISS_6xxx/VGI' against log format '%h %l %u %t \"%r\" %>s %b \"%{Referer}i\" \"%{User-Agent}i\"'",
     "output_type": "error",
     "traceback": [
      "\u001b[0;31m---------------------------------------------------------------------------\u001b[0m",
      "\u001b[0;31mInvalidEntryError\u001b[0m                         Traceback (most recent call last)",
      "\u001b[0;32m<timed exec>\u001b[0m in \u001b[0;36m<module>\u001b[0;34m\u001b[0m\n",
      "\u001b[0;32m~/dev/pds-web-analytics/notebooks/../src/clf_parser.py\u001b[0m in \u001b[0;36mparse_files\u001b[0;34m(self)\u001b[0m\n\u001b[1;32m     29\u001b[0m             \u001b[0mlog\u001b[0m \u001b[0;34m=\u001b[0m \u001b[0mopen\u001b[0m\u001b[0;34m(\u001b[0m\u001b[0mfile\u001b[0m\u001b[0;34m)\u001b[0m\u001b[0;34m\u001b[0m\u001b[0;34m\u001b[0m\u001b[0m\n\u001b[1;32m     30\u001b[0m             \u001b[0mlines\u001b[0m \u001b[0;34m=\u001b[0m \u001b[0mlog\u001b[0m\u001b[0;34m.\u001b[0m\u001b[0mreadlines\u001b[0m\u001b[0;34m(\u001b[0m\u001b[0;34m)\u001b[0m\u001b[0;34m\u001b[0m\u001b[0;34m\u001b[0m\u001b[0m\n\u001b[0;32m---> 31\u001b[0;31m             \u001b[0mlog_parsed\u001b[0m \u001b[0;34m=\u001b[0m \u001b[0mlist\u001b[0m\u001b[0;34m(\u001b[0m\u001b[0mmap\u001b[0m\u001b[0;34m(\u001b[0m\u001b[0mself\u001b[0m\u001b[0;34m.\u001b[0m\u001b[0m_parse_line\u001b[0m\u001b[0;34m,\u001b[0m \u001b[0mlines\u001b[0m\u001b[0;34m)\u001b[0m\u001b[0;34m)\u001b[0m\u001b[0;34m\u001b[0m\u001b[0;34m\u001b[0m\u001b[0m\n\u001b[0m\u001b[1;32m     32\u001b[0m             \u001b[0mself\u001b[0m\u001b[0;34m.\u001b[0m\u001b[0mdf_logs\u001b[0m \u001b[0;34m=\u001b[0m \u001b[0mpd\u001b[0m\u001b[0;34m.\u001b[0m\u001b[0mconcat\u001b[0m\u001b[0;34m(\u001b[0m\u001b[0;34m[\u001b[0m\u001b[0mself\u001b[0m\u001b[0;34m.\u001b[0m\u001b[0mdf_logs\u001b[0m\u001b[0;34m,\u001b[0m \u001b[0mpd\u001b[0m\u001b[0;34m.\u001b[0m\u001b[0mDataFrame\u001b[0m\u001b[0;34m(\u001b[0m\u001b[0mlog_parsed\u001b[0m\u001b[0;34m,\u001b[0m \u001b[0mcolumns\u001b[0m\u001b[0;34m=\u001b[0m\u001b[0mCOLUMN_NAMES\u001b[0m\u001b[0;34m)\u001b[0m\u001b[0;34m]\u001b[0m\u001b[0;34m)\u001b[0m\u001b[0;34m\u001b[0m\u001b[0;34m\u001b[0m\u001b[0m\n\u001b[1;32m     33\u001b[0m             \u001b[0mcounter\u001b[0m \u001b[0;34m+=\u001b[0m \u001b[0;36m1\u001b[0m\u001b[0;34m\u001b[0m\u001b[0;34m\u001b[0m\u001b[0m\n",
      "\u001b[0;32m~/dev/pds-web-analytics/notebooks/../src/clf_parser.py\u001b[0m in \u001b[0;36m_parse_line\u001b[0;34m(self, line)\u001b[0m\n\u001b[1;32m     54\u001b[0m     \u001b[0;32mdef\u001b[0m \u001b[0m_parse_line\u001b[0m\u001b[0;34m(\u001b[0m\u001b[0mself\u001b[0m\u001b[0;34m,\u001b[0m \u001b[0mline\u001b[0m\u001b[0;34m)\u001b[0m\u001b[0;34m:\u001b[0m\u001b[0;34m\u001b[0m\u001b[0;34m\u001b[0m\u001b[0m\n\u001b[1;32m     55\u001b[0m         \u001b[0;34m\"\"\"Process line from logfile\"\"\"\u001b[0m\u001b[0;34m\u001b[0m\u001b[0;34m\u001b[0m\u001b[0m\n\u001b[0;32m---> 56\u001b[0;31m         \u001b[0mparsed\u001b[0m \u001b[0;34m=\u001b[0m \u001b[0mPARSER\u001b[0m\u001b[0;34m.\u001b[0m\u001b[0mparse\u001b[0m\u001b[0;34m(\u001b[0m\u001b[0mline\u001b[0m\u001b[0;34m)\u001b[0m\u001b[0;34m\u001b[0m\u001b[0;34m\u001b[0m\u001b[0m\n\u001b[0m\u001b[1;32m     57\u001b[0m         \u001b[0mdatetime\u001b[0m \u001b[0;34m=\u001b[0m \u001b[0mparsed\u001b[0m\u001b[0;34m.\u001b[0m\u001b[0mrequest_time\u001b[0m\u001b[0;34m\u001b[0m\u001b[0;34m\u001b[0m\u001b[0m\n\u001b[1;32m     58\u001b[0m         parsed_line = [parsed.remote_host,\n",
      "\u001b[0;32m~/miniconda3/envs/dask/lib/python3.10/site-packages/apachelogs/parser.py\u001b[0m in \u001b[0;36mparse\u001b[0;34m(self, entry)\u001b[0m\n\u001b[1;32m     63\u001b[0m         \u001b[0mm\u001b[0m \u001b[0;34m=\u001b[0m \u001b[0mself\u001b[0m\u001b[0;34m.\u001b[0m\u001b[0m_rgx\u001b[0m\u001b[0;34m.\u001b[0m\u001b[0mfullmatch\u001b[0m\u001b[0;34m(\u001b[0m\u001b[0mentry\u001b[0m\u001b[0;34m)\u001b[0m\u001b[0;34m\u001b[0m\u001b[0;34m\u001b[0m\u001b[0m\n\u001b[1;32m     64\u001b[0m         \u001b[0;32mif\u001b[0m \u001b[0;32mnot\u001b[0m \u001b[0mm\u001b[0m\u001b[0;34m:\u001b[0m\u001b[0;34m\u001b[0m\u001b[0;34m\u001b[0m\u001b[0m\n\u001b[0;32m---> 65\u001b[0;31m             \u001b[0;32mraise\u001b[0m \u001b[0mInvalidEntryError\u001b[0m\u001b[0;34m(\u001b[0m\u001b[0mentry\u001b[0m\u001b[0;34m,\u001b[0m \u001b[0mself\u001b[0m\u001b[0;34m.\u001b[0m\u001b[0mformat\u001b[0m\u001b[0;34m)\u001b[0m\u001b[0;34m\u001b[0m\u001b[0;34m\u001b[0m\u001b[0m\n\u001b[0m\u001b[1;32m     66\u001b[0m         groups = [\n\u001b[1;32m     67\u001b[0m             \u001b[0mconv\u001b[0m\u001b[0;34m(\u001b[0m\u001b[0mgr\u001b[0m\u001b[0;34m)\u001b[0m \u001b[0;32mfor\u001b[0m \u001b[0;34m(\u001b[0m\u001b[0m_\u001b[0m\u001b[0;34m,\u001b[0m \u001b[0m_\u001b[0m\u001b[0;34m,\u001b[0m \u001b[0mconv\u001b[0m\u001b[0;34m)\u001b[0m\u001b[0;34m,\u001b[0m \u001b[0mgr\u001b[0m \u001b[0;32min\u001b[0m \u001b[0mzip\u001b[0m\u001b[0;34m(\u001b[0m\u001b[0mself\u001b[0m\u001b[0;34m.\u001b[0m\u001b[0m_group_defs\u001b[0m\u001b[0;34m,\u001b[0m \u001b[0mm\u001b[0m\u001b[0;34m.\u001b[0m\u001b[0mgroups\u001b[0m\u001b[0;34m(\u001b[0m\u001b[0;34m)\u001b[0m\u001b[0;34m)\u001b[0m\u001b[0;34m\u001b[0m\u001b[0;34m\u001b[0m\u001b[0m\n",
      "\u001b[0;31mInvalidEntryError\u001b[0m: Could not match log entry '213.5.19.152 - - [04/Feb/2019:20:08:21 -0800] \"GET /holdings/previews/VGISS_6xxx/VGI' against log format '%h %l %u %t \"%r\" %>s %b \"%{Referer}i\" \"%{User-Agent}i\"'"
     ]
    }
   ],
   "source": [
    "%%time\n",
    "# This might take a while. \n",
    "parser_server2.parse_files()\n",
    "parser_server2.df_logs['log_name'] = 'server2'"
   ]
  },
  {
   "cell_type": "code",
   "execution_count": 9,
   "id": "98da5edf-a57a-4e53-a07b-2d899fca2a81",
   "metadata": {},
   "outputs": [
    {
     "name": "stdout",
     "output_type": "stream",
     "text": [
      "Completed creating feather file at ../datasets/rings_server1.feather.\n"
     ]
    }
   ],
   "source": [
    "parser_server1.to_file(type=\"feather\", filepath=\"../datasets/rings_server1.feather\")"
   ]
  },
  {
   "cell_type": "markdown",
   "id": "24ca0129-a571-4e9a-8dd1-10db0044faed",
   "metadata": {},
   "source": [
    "## Example Read in File and Create Data Viz\n"
   ]
  },
  {
   "cell_type": "code",
   "execution_count": null,
   "id": "c98392c1-1081-4fe9-bbbd-1fa82c966b97",
   "metadata": {},
   "outputs": [],
   "source": [
    "%%time\n",
    "df_server1 = pd.read_parquet('../datasets/rings_server1.pq')"
   ]
  },
  {
   "cell_type": "code",
   "execution_count": null,
   "id": "366f2acc-44dd-46fc-9272-08367bf56954",
   "metadata": {},
   "outputs": [],
   "source": [
    "df_server1.shape"
   ]
  },
  {
   "cell_type": "code",
   "execution_count": null,
   "id": "ee43d48a-8641-4bea-a7f0-4c2934a123f2",
   "metadata": {},
   "outputs": [],
   "source": [
    "df_server1.head()"
   ]
  },
  {
   "cell_type": "code",
   "execution_count": null,
   "id": "9eedde83-b683-404f-84b8-2ef9c2a7eb14",
   "metadata": {},
   "outputs": [],
   "source": [
    "df_summary = (\n",
    "    df_server1.\n",
    "    groupby(by='status').\n",
    "    size().to_frame('requests').reset_index().\n",
    "    sort_values(by='requests', ascending=False)\n",
    ")\n",
    "fig, ax = plt.subplots(figsize=(15, 12))\n",
    "bar_p = sns.barplot(data=df_summary, x='status', y='requests', \n",
    "                    order=df_summary.sort_values('requests', ascending=False).status)"
   ]
  },
  {
   "cell_type": "code",
   "execution_count": null,
   "id": "49f98069-bcd6-46be-a364-925d8376ad35",
   "metadata": {},
   "outputs": [],
   "source": [
    "df_summary"
   ]
  },
  {
   "cell_type": "code",
   "execution_count": null,
   "id": "f024932f-8440-48d8-9312-cb06fe3a9a00",
   "metadata": {},
   "outputs": [],
   "source": [
    "df_server1.shape"
   ]
  },
  {
   "cell_type": "code",
   "execution_count": 47,
   "id": "1b76f4bf-77b9-4775-a371-701d582dd0f2",
   "metadata": {},
   "outputs": [],
   "source": [
    "df = pd.concat([parser_tools1.df_logs, parser_tools2.df_logs, parser_server1.df_logs, parser_server2.df_logs])"
   ]
  },
  {
   "cell_type": "code",
   "execution_count": 48,
   "id": "e3652437-0c74-4b75-a74e-80b84d746941",
   "metadata": {},
   "outputs": [
    {
     "data": {
      "text/plain": [
       "(18681239, 14)"
      ]
     },
     "execution_count": 48,
     "metadata": {},
     "output_type": "execute_result"
    }
   ],
   "source": [
    "df.shape"
   ]
  },
  {
   "cell_type": "code",
   "execution_count": 49,
   "id": "f631a1a1-e0eb-4e92-844f-13faa858d20e",
   "metadata": {},
   "outputs": [
    {
     "data": {
      "text/plain": [
       "(27800954, 9)"
      ]
     },
     "execution_count": 49,
     "metadata": {},
     "output_type": "execute_result"
    }
   ],
   "source": [
    "parser_server2.df_logs.shape"
   ]
  },
  {
   "cell_type": "code",
   "execution_count": null,
   "id": "8aec4abd-cf76-4e55-a1e0-23e2f897ab04",
   "metadata": {},
   "outputs": [],
   "source": []
  }
 ],
 "metadata": {
  "kernelspec": {
   "display_name": "dask",
   "language": "python",
   "name": "dask"
  },
  "language_info": {
   "codemirror_mode": {
    "name": "ipython",
    "version": 3
   },
   "file_extension": ".py",
   "mimetype": "text/x-python",
   "name": "python",
   "nbconvert_exporter": "python",
   "pygments_lexer": "ipython3",
   "version": "3.10.2"
  }
 },
 "nbformat": 4,
 "nbformat_minor": 5
}
