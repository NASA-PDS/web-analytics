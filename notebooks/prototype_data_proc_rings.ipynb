{
 "cells": [
  {
   "cell_type": "code",
   "execution_count": 44,
   "id": "14dcb8bf-2569-45fd-9eb1-be96e1de83ce",
   "metadata": {},
   "outputs": [
    {
     "name": "stdout",
     "output_type": "stream",
     "text": [
      "The autoreload extension is already loaded. To reload it, use:\n",
      "  %reload_ext autoreload\n"
     ]
    }
   ],
   "source": [
    "%load_ext autoreload\n",
    "%autoreload 2\n",
    "%matplotlib inline"
   ]
  },
  {
   "cell_type": "code",
   "execution_count": 45,
   "id": "233f6cef-f1de-4200-8e5c-f84ae8335353",
   "metadata": {},
   "outputs": [],
   "source": [
    "import glob\n",
    "import sys\n",
    "import os\n",
    "from pathlib import Path\n",
    "\n",
    "import pandas as pd\n",
    "import numpy as np\n",
    "import matplotlib.pyplot as plt\n",
    "import seaborn as sns\n",
    "\n",
    "sys.path.append('../src')\n",
    "from clf_parser import CLFParse"
   ]
  },
  {
   "cell_type": "code",
   "execution_count": 46,
   "id": "fef7b848-d67e-42b2-bcff-202b6c9488c9",
   "metadata": {},
   "outputs": [],
   "source": [
    "# Modify path here for your particular system\n",
    "data_dir = Path('/Users/kaipak/datasets/pds/pds_logs/report_service/logs/final/rings/rings-apache-metrics')\n",
    "tools2_logs = sorted(glob.glob(str(data_dir) + \"/tools2*\"))\n",
    "server1_logs = sorted(glob.glob(str(data_dir) + \"/server1*\"))"
   ]
  },
  {
   "cell_type": "code",
   "execution_count": 47,
   "id": "1dbc0429-af20-4de2-8f68-cad5db16f2a0",
   "metadata": {},
   "outputs": [],
   "source": [
    "parser_tools2 = CLFParse(tools2_logs)\n",
    "parser_server1 = CLFParse(server1_logs)"
   ]
  },
  {
   "cell_type": "code",
   "execution_count": 48,
   "id": "fc3de3d2-9d03-4cd7-acf9-a1cdfadb73e7",
   "metadata": {},
   "outputs": [
    {
     "name": "stdout",
     "output_type": "stream",
     "text": [
      "Logfiles list contains 198 files.\n",
      "10 files have been processed. 0.04 minutes elapsed\n",
      "20 files have been processed. 0.09 minutes elapsed\n",
      "30 files have been processed. 0.19 minutes elapsed\n",
      "40 files have been processed. 0.26 minutes elapsed\n",
      "50 files have been processed. 0.34 minutes elapsed\n",
      "60 files have been processed. 0.42 minutes elapsed\n",
      "70 files have been processed. 0.53 minutes elapsed\n",
      "80 files have been processed. 0.64 minutes elapsed\n",
      "90 files have been processed. 0.77 minutes elapsed\n",
      "100 files have been processed. 0.89 minutes elapsed\n",
      "110 files have been processed. 0.99 minutes elapsed\n",
      "120 files have been processed. 1.11 minutes elapsed\n",
      "130 files have been processed. 1.24 minutes elapsed\n",
      "140 files have been processed. 1.35 minutes elapsed\n",
      "150 files have been processed. 1.47 minutes elapsed\n",
      "160 files have been processed. 1.57 minutes elapsed\n",
      "170 files have been processed. 1.69 minutes elapsed\n",
      "180 files have been processed. 1.79 minutes elapsed\n",
      "190 files have been processed. 1.89 minutes elapsed\n",
      "2.0m to process log files.\n",
      "CPU times: user 1min 33s, sys: 25.1 s, total: 1min 58s\n",
      "Wall time: 1min 59s\n"
     ]
    }
   ],
   "source": [
    "%%time\n",
    "# This might take a while. \n",
    "parser_tools2.parse_files()"
   ]
  },
  {
   "cell_type": "code",
   "execution_count": 64,
   "id": "d6d4ac00-ba35-49f5-9c6b-2e8f5b4daaa1",
   "metadata": {},
   "outputs": [
    {
     "name": "stdout",
     "output_type": "stream",
     "text": [
      "Completed creating csv file at ../datasets/rings_tools2.csv.\n"
     ]
    }
   ],
   "source": [
    "parser_tools2.to_file(type=\"csv\", filepath=\"../datasets/rings_tools2.csv\")"
   ]
  },
  {
   "cell_type": "code",
   "execution_count": 52,
   "id": "827e43b6-d1e1-49e9-a139-d4d323796204",
   "metadata": {},
   "outputs": [
    {
     "name": "stdout",
     "output_type": "stream",
     "text": [
      "Logfiles list contains 197 files.\n",
      "10 files have been processed. 0.15 minutes elapsed\n",
      "20 files have been processed. 0.33 minutes elapsed\n",
      "30 files have been processed. 0.62 minutes elapsed\n",
      "40 files have been processed. 0.76 minutes elapsed\n",
      "50 files have been processed. 0.97 minutes elapsed\n",
      "60 files have been processed. 1.22 minutes elapsed\n",
      "70 files have been processed. 1.42 minutes elapsed\n",
      "80 files have been processed. 1.69 minutes elapsed\n",
      "90 files have been processed. 2.01 minutes elapsed\n",
      "100 files have been processed. 2.24 minutes elapsed\n",
      "110 files have been processed. 2.43 minutes elapsed\n",
      "120 files have been processed. 2.74 minutes elapsed\n",
      "130 files have been processed. 2.95 minutes elapsed\n",
      "140 files have been processed. 3.19 minutes elapsed\n",
      "150 files have been processed. 3.51 minutes elapsed\n",
      "160 files have been processed. 3.73 minutes elapsed\n",
      "170 files have been processed. 3.94 minutes elapsed\n",
      "180 files have been processed. 4.24 minutes elapsed\n",
      "190 files have been processed. 4.51 minutes elapsed\n",
      "4.67m to process log files.\n",
      "CPU times: user 4min 17s, sys: 21.1 s, total: 4min 38s\n",
      "Wall time: 4min 40s\n"
     ]
    }
   ],
   "source": [
    "%%time\n",
    "# This might take a while. \n",
    "parser_server1.parse_files()"
   ]
  },
  {
   "cell_type": "code",
   "execution_count": 59,
   "id": "98da5edf-a57a-4e53-a07b-2d899fca2a81",
   "metadata": {},
   "outputs": [
    {
     "name": "stdout",
     "output_type": "stream",
     "text": [
      "Completed creating parquet file at ../datasets/rings_server1.pq.\n"
     ]
    }
   ],
   "source": [
    "parser_server1.to_file(type=\"parquet\", filepath=\"../datasets/rings_server1.pq\")"
   ]
  },
  {
   "cell_type": "markdown",
   "id": "24ca0129-a571-4e9a-8dd1-10db0044faed",
   "metadata": {},
   "source": [
    "## Example Read in File and Create Data Viz\n"
   ]
  },
  {
   "cell_type": "code",
   "execution_count": 61,
   "id": "c98392c1-1081-4fe9-bbbd-1fa82c966b97",
   "metadata": {},
   "outputs": [
    {
     "name": "stdout",
     "output_type": "stream",
     "text": [
      "CPU times: user 1.97 s, sys: 932 ms, total: 2.9 s\n",
      "Wall time: 3.18 s\n"
     ]
    }
   ],
   "source": [
    "%%time\n",
    "df_server1 = pd.read_parquet('../datasets/rings_server1.pq')"
   ]
  },
  {
   "cell_type": "code",
   "execution_count": 62,
   "id": "366f2acc-44dd-46fc-9272-08367bf56954",
   "metadata": {},
   "outputs": [
    {
     "data": {
      "text/plain": [
       "(3465553, 9)"
      ]
     },
     "execution_count": 62,
     "metadata": {},
     "output_type": "execute_result"
    }
   ],
   "source": [
    "df_server1.shape"
   ]
  },
  {
   "cell_type": "code",
   "execution_count": 63,
   "id": "ee43d48a-8641-4bea-a7f0-4c2934a123f2",
   "metadata": {},
   "outputs": [
    {
     "data": {
      "text/html": [
       "<div>\n",
       "<style scoped>\n",
       "    .dataframe tbody tr th:only-of-type {\n",
       "        vertical-align: middle;\n",
       "    }\n",
       "\n",
       "    .dataframe tbody tr th {\n",
       "        vertical-align: top;\n",
       "    }\n",
       "\n",
       "    .dataframe thead th {\n",
       "        text-align: right;\n",
       "    }\n",
       "</style>\n",
       "<table border=\"1\" class=\"dataframe\">\n",
       "  <thead>\n",
       "    <tr style=\"text-align: right;\">\n",
       "      <th></th>\n",
       "      <th>ip</th>\n",
       "      <th>identd</th>\n",
       "      <th>userid</th>\n",
       "      <th>datetime</th>\n",
       "      <th>request</th>\n",
       "      <th>status</th>\n",
       "      <th>size</th>\n",
       "      <th>referer</th>\n",
       "      <th>user_agent</th>\n",
       "    </tr>\n",
       "  </thead>\n",
       "  <tbody>\n",
       "    <tr>\n",
       "      <th>0</th>\n",
       "      <td>66.249.79.92</td>\n",
       "      <td>None</td>\n",
       "      <td>None</td>\n",
       "      <td>2021-01-01 00:00:12-08:00</td>\n",
       "      <td>GET /pds4/bundles/cassini_vims_saturn/data_raw...</td>\n",
       "      <td>200</td>\n",
       "      <td>88064.0</td>\n",
       "      <td>None</td>\n",
       "      <td>Mozilla/5.0 (Linux; Android 6.0.1; Nexus 5X Bu...</td>\n",
       "    </tr>\n",
       "    <tr>\n",
       "      <th>1</th>\n",
       "      <td>66.249.79.92</td>\n",
       "      <td>None</td>\n",
       "      <td>None</td>\n",
       "      <td>2021-01-01 00:00:16-08:00</td>\n",
       "      <td>GET /pds4/bundles/cassini_vims_saturn/data_raw...</td>\n",
       "      <td>200</td>\n",
       "      <td>599040.0</td>\n",
       "      <td>None</td>\n",
       "      <td>Mozilla/5.0 (Linux; Android 6.0.1; Nexus 5X Bu...</td>\n",
       "    </tr>\n",
       "    <tr>\n",
       "      <th>2</th>\n",
       "      <td>114.119.138.239</td>\n",
       "      <td>None</td>\n",
       "      <td>None</td>\n",
       "      <td>2021-01-01 00:00:16-08:00</td>\n",
       "      <td>GET /press_releases/pages/PIA08xxx/PIA08204.ht...</td>\n",
       "      <td>200</td>\n",
       "      <td>18417.0</td>\n",
       "      <td>None</td>\n",
       "      <td>Mozilla/5.0 (Linux; Android 7.0;) AppleWebKit/...</td>\n",
       "    </tr>\n",
       "    <tr>\n",
       "      <th>3</th>\n",
       "      <td>5.255.253.135</td>\n",
       "      <td>None</td>\n",
       "      <td>None</td>\n",
       "      <td>2021-01-01 00:00:19-08:00</td>\n",
       "      <td>GET /press_releases/pages/PIA18xxx/PIA18360.ht...</td>\n",
       "      <td>200</td>\n",
       "      <td>18711.0</td>\n",
       "      <td>None</td>\n",
       "      <td>Mozilla/5.0 (compatible; YandexBot/3.0; +http:...</td>\n",
       "    </tr>\n",
       "    <tr>\n",
       "      <th>4</th>\n",
       "      <td>13.66.139.95</td>\n",
       "      <td>None</td>\n",
       "      <td>None</td>\n",
       "      <td>2021-01-01 00:00:52-08:00</td>\n",
       "      <td>GET /saturn/cassini/jpegMod/PIA18271_modest.jp...</td>\n",
       "      <td>200</td>\n",
       "      <td>97957.0</td>\n",
       "      <td>None</td>\n",
       "      <td>Mozilla/5.0 (compatible; bingbot/2.0; +http://...</td>\n",
       "    </tr>\n",
       "  </tbody>\n",
       "</table>\n",
       "</div>"
      ],
      "text/plain": [
       "                ip identd userid                  datetime  \\\n",
       "0     66.249.79.92   None   None 2021-01-01 00:00:12-08:00   \n",
       "1     66.249.79.92   None   None 2021-01-01 00:00:16-08:00   \n",
       "2  114.119.138.239   None   None 2021-01-01 00:00:16-08:00   \n",
       "3    5.255.253.135   None   None 2021-01-01 00:00:19-08:00   \n",
       "4     13.66.139.95   None   None 2021-01-01 00:00:52-08:00   \n",
       "\n",
       "                                             request  status      size  \\\n",
       "0  GET /pds4/bundles/cassini_vims_saturn/data_raw...     200   88064.0   \n",
       "1  GET /pds4/bundles/cassini_vims_saturn/data_raw...     200  599040.0   \n",
       "2  GET /press_releases/pages/PIA08xxx/PIA08204.ht...     200   18417.0   \n",
       "3  GET /press_releases/pages/PIA18xxx/PIA18360.ht...     200   18711.0   \n",
       "4  GET /saturn/cassini/jpegMod/PIA18271_modest.jp...     200   97957.0   \n",
       "\n",
       "  referer                                         user_agent  \n",
       "0    None  Mozilla/5.0 (Linux; Android 6.0.1; Nexus 5X Bu...  \n",
       "1    None  Mozilla/5.0 (Linux; Android 6.0.1; Nexus 5X Bu...  \n",
       "2    None  Mozilla/5.0 (Linux; Android 7.0;) AppleWebKit/...  \n",
       "3    None  Mozilla/5.0 (compatible; YandexBot/3.0; +http:...  \n",
       "4    None  Mozilla/5.0 (compatible; bingbot/2.0; +http://...  "
      ]
     },
     "execution_count": 63,
     "metadata": {},
     "output_type": "execute_result"
    }
   ],
   "source": [
    "df_server1.head()"
   ]
  },
  {
   "cell_type": "code",
   "execution_count": 58,
   "id": "9eedde83-b683-404f-84b8-2ef9c2a7eb14",
   "metadata": {},
   "outputs": [
    {
     "data": {
      "image/png": "[encoded data removed]",
      "text/plain": [
       "<Figure size 1080x864 with 1 Axes>"
      ]
     },
     "metadata": {
      "needs_background": "light"
     },
     "output_type": "display_data"
    }
   ],
   "source": [
    "df_summary = (\n",
    "    df_server1.\n",
    "    groupby(by='status').\n",
    "    size().to_frame('requests').reset_index().\n",
    "    sort_values(by='requests', ascending=False)\n",
    ")\n",
    "fig, ax = plt.subplots(figsize=(15, 12))\n",
    "bar_p = sns.barplot(data=df_summary, x='status', y='requests', \n",
    "                    order=df_summary.sort_values('requests', ascending=False).status)"
   ]
  },
  {
   "cell_type": "code",
   "execution_count": 38,
   "id": "49f98069-bcd6-46be-a364-925d8376ad35",
   "metadata": {},
   "outputs": [
    {
     "data": {
      "text/html": [
       "<div>\n",
       "<style scoped>\n",
       "    .dataframe tbody tr th:only-of-type {\n",
       "        vertical-align: middle;\n",
       "    }\n",
       "\n",
       "    .dataframe tbody tr th {\n",
       "        vertical-align: top;\n",
       "    }\n",
       "\n",
       "    .dataframe thead th {\n",
       "        text-align: right;\n",
       "    }\n",
       "</style>\n",
       "<table border=\"1\" class=\"dataframe\">\n",
       "  <thead>\n",
       "    <tr style=\"text-align: right;\">\n",
       "      <th></th>\n",
       "      <th>status</th>\n",
       "      <th>requests</th>\n",
       "    </tr>\n",
       "  </thead>\n",
       "  <tbody>\n",
       "    <tr>\n",
       "      <th>0</th>\n",
       "      <td>200</td>\n",
       "      <td>2926924</td>\n",
       "    </tr>\n",
       "    <tr>\n",
       "      <th>8</th>\n",
       "      <td>404</td>\n",
       "      <td>287394</td>\n",
       "    </tr>\n",
       "    <tr>\n",
       "      <th>4</th>\n",
       "      <td>304</td>\n",
       "      <td>151497</td>\n",
       "    </tr>\n",
       "    <tr>\n",
       "      <th>10</th>\n",
       "      <td>408</td>\n",
       "      <td>30605</td>\n",
       "    </tr>\n",
       "    <tr>\n",
       "      <th>3</th>\n",
       "      <td>302</td>\n",
       "      <td>30013</td>\n",
       "    </tr>\n",
       "    <tr>\n",
       "      <th>2</th>\n",
       "      <td>301</td>\n",
       "      <td>15434</td>\n",
       "    </tr>\n",
       "    <tr>\n",
       "      <th>7</th>\n",
       "      <td>403</td>\n",
       "      <td>12951</td>\n",
       "    </tr>\n",
       "    <tr>\n",
       "      <th>6</th>\n",
       "      <td>400</td>\n",
       "      <td>5672</td>\n",
       "    </tr>\n",
       "    <tr>\n",
       "      <th>1</th>\n",
       "      <td>206</td>\n",
       "      <td>4299</td>\n",
       "    </tr>\n",
       "    <tr>\n",
       "      <th>9</th>\n",
       "      <td>405</td>\n",
       "      <td>308</td>\n",
       "    </tr>\n",
       "    <tr>\n",
       "      <th>14</th>\n",
       "      <td>504</td>\n",
       "      <td>220</td>\n",
       "    </tr>\n",
       "    <tr>\n",
       "      <th>5</th>\n",
       "      <td>308</td>\n",
       "      <td>128</td>\n",
       "    </tr>\n",
       "    <tr>\n",
       "      <th>12</th>\n",
       "      <td>500</td>\n",
       "      <td>72</td>\n",
       "    </tr>\n",
       "    <tr>\n",
       "      <th>13</th>\n",
       "      <td>501</td>\n",
       "      <td>21</td>\n",
       "    </tr>\n",
       "    <tr>\n",
       "      <th>11</th>\n",
       "      <td>416</td>\n",
       "      <td>15</td>\n",
       "    </tr>\n",
       "  </tbody>\n",
       "</table>\n",
       "</div>"
      ],
      "text/plain": [
       "    status  requests\n",
       "0      200   2926924\n",
       "8      404    287394\n",
       "4      304    151497\n",
       "10     408     30605\n",
       "3      302     30013\n",
       "2      301     15434\n",
       "7      403     12951\n",
       "6      400      5672\n",
       "1      206      4299\n",
       "9      405       308\n",
       "14     504       220\n",
       "5      308       128\n",
       "12     500        72\n",
       "13     501        21\n",
       "11     416        15"
      ]
     },
     "execution_count": 38,
     "metadata": {},
     "output_type": "execute_result"
    }
   ],
   "source": [
    "df_summary"
   ]
  },
  {
   "cell_type": "code",
   "execution_count": 39,
   "id": "f024932f-8440-48d8-9312-cb06fe3a9a00",
   "metadata": {},
   "outputs": [
    {
     "data": {
      "text/plain": [
       "(3465553, 10)"
      ]
     },
     "execution_count": 39,
     "metadata": {},
     "output_type": "execute_result"
    }
   ],
   "source": [
    "df_server1.shape"
   ]
  },
  {
   "cell_type": "code",
   "execution_count": null,
   "id": "1b76f4bf-77b9-4775-a371-701d582dd0f2",
   "metadata": {},
   "outputs": [],
   "source": []
  }
 ],
 "metadata": {
  "kernelspec": {
   "display_name": "dask",
   "language": "python",
   "name": "dask"
  },
  "language_info": {
   "codemirror_mode": {
    "name": "ipython",
    "version": 3
   },
   "file_extension": ".py",
   "mimetype": "text/x-python",
   "name": "python",
   "nbconvert_exporter": "python",
   "pygments_lexer": "ipython3",
   "version": "3.10.2"
  }
 },
 "nbformat": 4,
 "nbformat_minor": 5
}
