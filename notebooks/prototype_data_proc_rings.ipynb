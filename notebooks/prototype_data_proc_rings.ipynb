{
 "cells": [
  {
   "cell_type": "code",
   "execution_count": 1,
   "id": "14dcb8bf-2569-45fd-9eb1-be96e1de83ce",
   "metadata": {},
   "outputs": [],
   "source": [
    "%load_ext autoreload\n",
    "%autoreload 2\n",
    "%matplotlib inline"
   ]
  },
  {
   "cell_type": "code",
   "execution_count": 2,
   "id": "233f6cef-f1de-4200-8e5c-f84ae8335353",
   "metadata": {},
   "outputs": [],
   "source": [
    "import glob\n",
    "import sys\n",
    "import os\n",
    "from pathlib import Path\n",
    "\n",
    "import modin.pandas as pd\n",
    "import numpy as np\n",
    "import matplotlib.pyplot as plt\n",
    "import seaborn as sns\n",
    "\n",
    "sys.path.append('../src')\n",
    "from clf_parser import CLFParse"
   ]
  },
  {
   "cell_type": "code",
   "execution_count": 3,
   "id": "b64c0631-8c23-47ef-b71b-e15a622c9847",
   "metadata": {},
   "outputs": [],
   "source": [
    "# For modin\n",
    "import warnings\n",
    "warnings.filterwarnings('ignore')"
   ]
  },
  {
   "cell_type": "code",
   "execution_count": 4,
   "id": "fef7b848-d67e-42b2-bcff-202b6c9488c9",
   "metadata": {},
   "outputs": [],
   "source": [
    "# Modify path here for your particular system\n",
    "data_dir = Path('/Users/kaipak/datasets/pds/pds_logs/report_service/logs/final/rings/rings-apache-metrics')\n",
    "tools_logs = sorted(glob.glob(str(data_dir) + \"/tools_*\"))\n",
    "tools2_logs = sorted(glob.glob(str(data_dir) + \"/tools2*\"))\n",
    "server1_logs = sorted(glob.glob(str(data_dir) + \"/server1*\"))\n",
    "server2_logs = sorted(glob.glob(str(data_dir) + \"/server2*\"))\n",
    "#server2_logs = [f'{str(data_dir)}/server2-pds-rings-apache2.2019-02-04.log']"
   ]
  },
  {
   "cell_type": "code",
   "execution_count": 5,
   "id": "f3b69b66-34cd-4009-bf31-f60db87e034b",
   "metadata": {},
   "outputs": [
    {
     "data": {
      "text/plain": [
       "201"
      ]
     },
     "execution_count": 5,
     "metadata": {},
     "output_type": "execute_result"
    }
   ],
   "source": [
    "len(tools_logs)"
   ]
  },
  {
   "cell_type": "code",
   "execution_count": 6,
   "id": "df4c4fd4-df35-4049-9bdb-1d28b4434443",
   "metadata": {},
   "outputs": [
    {
     "data": {
      "text/plain": [
       "647"
      ]
     },
     "execution_count": 6,
     "metadata": {},
     "output_type": "execute_result"
    }
   ],
   "source": [
    "len(tools2_logs)"
   ]
  },
  {
   "cell_type": "code",
   "execution_count": 7,
   "id": "db90c39e-cb80-4cfa-98bd-b5041ce644b4",
   "metadata": {},
   "outputs": [
    {
     "data": {
      "text/plain": [
       "447"
      ]
     },
     "execution_count": 7,
     "metadata": {},
     "output_type": "execute_result"
    }
   ],
   "source": [
    "len(server1_logs)"
   ]
  },
  {
   "cell_type": "code",
   "execution_count": 8,
   "id": "43a61925-86d9-466c-a308-47ac26921cc6",
   "metadata": {},
   "outputs": [
    {
     "data": {
      "text/plain": [
       "1240"
      ]
     },
     "execution_count": 8,
     "metadata": {},
     "output_type": "execute_result"
    }
   ],
   "source": [
    "len(server2_logs)"
   ]
  },
  {
   "cell_type": "code",
   "execution_count": 9,
   "id": "1dbc0429-af20-4de2-8f68-cad5db16f2a0",
   "metadata": {},
   "outputs": [],
   "source": [
    "parser_tools = CLFParse(tools_logs)\n",
    "parser_tools2 = CLFParse(tools2_logs)\n",
    "parser_server1 = CLFParse(server1_logs)\n",
    "parser_server2 = CLFParse(server2_logs)"
   ]
  },
  {
   "cell_type": "code",
   "execution_count": 10,
   "id": "ffe04088-e27d-404b-8333-d48a373ab622",
   "metadata": {},
   "outputs": [
    {
     "name": "stdout",
     "output_type": "stream",
     "text": [
      "Logfiles list contains 201 files.\n"
     ]
    },
    {
     "name": "stderr",
     "output_type": "stream",
     "text": [
      "100%|██████████| 201/201 [00:00<00:00, 585.83it/s]\n"
     ]
    },
    {
     "name": "stdout",
     "output_type": "stream",
     "text": [
      "Expanding datetime field...\n",
      "0.09m to process log files.\n",
      "CPU times: user 1.03 s, sys: 209 ms, total: 1.24 s\n",
      "Wall time: 5.43 s\n"
     ]
    }
   ],
   "source": [
    "%%time\n",
    "parser_tools.parse_files()\n",
    "parser_tools.df_logs['log_name'] = 'tools'"
   ]
  },
  {
   "cell_type": "code",
   "execution_count": 12,
   "id": "098b7106-26d0-40f9-9f89-a89312614735",
   "metadata": {},
   "outputs": [
    {
     "data": {
      "text/html": [
       "<div>\n",
       "<style scoped>\n",
       "    .dataframe tbody tr th:only-of-type {\n",
       "        vertical-align: middle;\n",
       "    }\n",
       "\n",
       "    .dataframe tbody tr th {\n",
       "        vertical-align: top;\n",
       "    }\n",
       "\n",
       "    .dataframe thead th {\n",
       "        text-align: right;\n",
       "    }\n",
       "</style>\n",
       "<table border=\"1\" class=\"dataframe\">\n",
       "  <thead>\n",
       "    <tr style=\"text-align: right;\">\n",
       "      <th></th>\n",
       "      <th>ip</th>\n",
       "      <th>identd</th>\n",
       "      <th>userid</th>\n",
       "      <th>datetime</th>\n",
       "      <th>request</th>\n",
       "      <th>status</th>\n",
       "      <th>size</th>\n",
       "      <th>referer</th>\n",
       "      <th>user_agent</th>\n",
       "      <th>date</th>\n",
       "      <th>month_year</th>\n",
       "      <th>DOW</th>\n",
       "      <th>hour</th>\n",
       "      <th>log_name</th>\n",
       "    </tr>\n",
       "  </thead>\n",
       "  <tbody>\n",
       "    <tr>\n",
       "      <th>1314</th>\n",
       "      <td>2.152.103.57</td>\n",
       "      <td>None</td>\n",
       "      <td>None</td>\n",
       "      <td>2021-11-27 16:31:05+00:00</td>\n",
       "      <td>GET /opus/__api/image/thumb/co-iss-n1363912382...</td>\n",
       "      <td>200</td>\n",
       "      <td>747</td>\n",
       "      <td>https://opus.pds-rings.seti.org/opus/</td>\n",
       "      <td>Mozilla/5.0 (Windows NT 10.0; Win64; x64; rv:9...</td>\n",
       "      <td>2021-11-27</td>\n",
       "      <td>11-2021</td>\n",
       "      <td>Saturday</td>\n",
       "      <td>16</td>\n",
       "      <td>tools</td>\n",
       "    </tr>\n",
       "    <tr>\n",
       "      <th>104</th>\n",
       "      <td>208.115.199.22</td>\n",
       "      <td>None</td>\n",
       "      <td>None</td>\n",
       "      <td>2021-11-28 09:56:06+00:00</td>\n",
       "      <td>HEAD / HTTP/1.1</td>\n",
       "      <td>200</td>\n",
       "      <td>5083</td>\n",
       "      <td>https://tools.pds-rings.seti.org</td>\n",
       "      <td>Mozilla/5.0+(compatible; UptimeRobot/2.0; http...</td>\n",
       "      <td>2021-11-28</td>\n",
       "      <td>11-2021</td>\n",
       "      <td>Sunday</td>\n",
       "      <td>9</td>\n",
       "      <td>tools</td>\n",
       "    </tr>\n",
       "    <tr>\n",
       "      <th>52</th>\n",
       "      <td>23.250.19.242</td>\n",
       "      <td>None</td>\n",
       "      <td>None</td>\n",
       "      <td>2022-02-09 23:52:15+00:00</td>\n",
       "      <td>\\n</td>\n",
       "      <td>400</td>\n",
       "      <td>5240</td>\n",
       "      <td>None</td>\n",
       "      <td>None</td>\n",
       "      <td>2022-02-09</td>\n",
       "      <td>02-2022</td>\n",
       "      <td>Wednesday</td>\n",
       "      <td>23</td>\n",
       "      <td>tools</td>\n",
       "    </tr>\n",
       "    <tr>\n",
       "      <th>2049</th>\n",
       "      <td>208.115.199.22</td>\n",
       "      <td>None</td>\n",
       "      <td>None</td>\n",
       "      <td>2021-11-27 04:21:17+00:00</td>\n",
       "      <td>HEAD / HTTP/1.1</td>\n",
       "      <td>200</td>\n",
       "      <td>5083</td>\n",
       "      <td>https://opus.pds-rings.seti.org</td>\n",
       "      <td>Mozilla/5.0+(compatible; UptimeRobot/2.0; http...</td>\n",
       "      <td>2021-11-27</td>\n",
       "      <td>11-2021</td>\n",
       "      <td>Saturday</td>\n",
       "      <td>4</td>\n",
       "      <td>tools</td>\n",
       "    </tr>\n",
       "    <tr>\n",
       "      <th>1568</th>\n",
       "      <td>107.126.40.131</td>\n",
       "      <td>None</td>\n",
       "      <td>None</td>\n",
       "      <td>2021-11-30 18:09:24+00:00</td>\n",
       "      <td>GET /downloads/pdsrms-2021-11-30T10-09-21-0636...</td>\n",
       "      <td>200</td>\n",
       "      <td>3197821</td>\n",
       "      <td>https://opus.pds-rings.seti.org/opus/</td>\n",
       "      <td>Mozilla/5.0 (Windows NT 10.0; Win64; x64) Appl...</td>\n",
       "      <td>2021-11-30</td>\n",
       "      <td>11-2021</td>\n",
       "      <td>Tuesday</td>\n",
       "      <td>18</td>\n",
       "      <td>tools</td>\n",
       "    </tr>\n",
       "  </tbody>\n",
       "</table>\n",
       "</div>"
      ],
      "text/plain": [
       "                  ip identd userid                  datetime  \\\n",
       "1314    2.152.103.57   None   None 2021-11-27 16:31:05+00:00   \n",
       "104   208.115.199.22   None   None 2021-11-28 09:56:06+00:00   \n",
       "52     23.250.19.242   None   None 2022-02-09 23:52:15+00:00   \n",
       "2049  208.115.199.22   None   None 2021-11-27 04:21:17+00:00   \n",
       "1568  107.126.40.131   None   None 2021-11-30 18:09:24+00:00   \n",
       "\n",
       "                                                request  status     size  \\\n",
       "1314  GET /opus/__api/image/thumb/co-iss-n1363912382...     200      747   \n",
       "104                                     HEAD / HTTP/1.1     200     5083   \n",
       "52                                                   \\n     400     5240   \n",
       "2049                                    HEAD / HTTP/1.1     200     5083   \n",
       "1568  GET /downloads/pdsrms-2021-11-30T10-09-21-0636...     200  3197821   \n",
       "\n",
       "                                    referer  \\\n",
       "1314  https://opus.pds-rings.seti.org/opus/   \n",
       "104        https://tools.pds-rings.seti.org   \n",
       "52                                     None   \n",
       "2049        https://opus.pds-rings.seti.org   \n",
       "1568  https://opus.pds-rings.seti.org/opus/   \n",
       "\n",
       "                                             user_agent        date  \\\n",
       "1314  Mozilla/5.0 (Windows NT 10.0; Win64; x64; rv:9...  2021-11-27   \n",
       "104   Mozilla/5.0+(compatible; UptimeRobot/2.0; http...  2021-11-28   \n",
       "52                                                 None  2022-02-09   \n",
       "2049  Mozilla/5.0+(compatible; UptimeRobot/2.0; http...  2021-11-27   \n",
       "1568  Mozilla/5.0 (Windows NT 10.0; Win64; x64) Appl...  2021-11-30   \n",
       "\n",
       "     month_year        DOW  hour log_name  \n",
       "1314    11-2021   Saturday    16    tools  \n",
       "104     11-2021     Sunday     9    tools  \n",
       "52      02-2022  Wednesday    23    tools  \n",
       "2049    11-2021   Saturday     4    tools  \n",
       "1568    11-2021    Tuesday    18    tools  "
      ]
     },
     "execution_count": 12,
     "metadata": {},
     "output_type": "execute_result"
    }
   ],
   "source": [
    "parser_tools.df_logs.sample(5)"
   ]
  },
  {
   "cell_type": "code",
   "execution_count": 13,
   "id": "fc3de3d2-9d03-4cd7-acf9-a1cdfadb73e7",
   "metadata": {
    "tags": []
   },
   "outputs": [
    {
     "name": "stdout",
     "output_type": "stream",
     "text": [
      "Logfiles list contains 647 files.\n"
     ]
    },
    {
     "name": "stderr",
     "output_type": "stream",
     "text": [
      "100%|██████████| 647/647 [00:12<00:00, 51.11it/s]\n"
     ]
    },
    {
     "name": "stdout",
     "output_type": "stream",
     "text": [
      "Expanding datetime field...\n",
      "1.42m to process log files.\n",
      "CPU times: user 58.1 s, sys: 4.86 s, total: 1min 2s\n",
      "Wall time: 1min 25s\n"
     ]
    }
   ],
   "source": [
    "%%time\n",
    "# This might take a while. \n",
    "parser_tools2.parse_files()\n",
    "parser_tools2.df_logs['log_name'] = 'tools2'"
   ]
  },
  {
   "cell_type": "code",
   "execution_count": null,
   "id": "6ca9af46-7543-4ce0-988e-092975896e41",
   "metadata": {},
   "outputs": [],
   "source": [
    "parser_tools2.df_logs.shape"
   ]
  },
  {
   "cell_type": "code",
   "execution_count": null,
   "id": "93e78000-162b-4ca1-960c-e87998e05a61",
   "metadata": {},
   "outputs": [],
   "source": [
    "parser_tools2.df_logs.sample(5)"
   ]
  },
  {
   "cell_type": "code",
   "execution_count": null,
   "id": "d6d4ac00-ba35-49f5-9c6b-2e8f5b4daaa1",
   "metadata": {},
   "outputs": [],
   "source": [
    "parser_tools2.to_file(type=\"feather\", filepath=\"../datasets/rings_tools2.feather\")"
   ]
  },
  {
   "cell_type": "code",
   "execution_count": null,
   "id": "827e43b6-d1e1-49e9-a139-d4d323796204",
   "metadata": {},
   "outputs": [],
   "source": [
    "%%time\n",
    "# This might take a while. \n",
    "parser_server1.parse_files()\n",
    "parser_server1.df_logs['log_name'] = 'server1'"
   ]
  },
  {
   "cell_type": "code",
   "execution_count": null,
   "id": "8efbeb14-b97b-4606-a45a-769db4e27df4",
   "metadata": {},
   "outputs": [],
   "source": [
    "parser_server1.df_logs.shape"
   ]
  },
  {
   "cell_type": "code",
   "execution_count": null,
   "id": "4369909b-0a53-4dc9-bbab-d33bd6f8b06b",
   "metadata": {},
   "outputs": [],
   "source": [
    "%%time\n",
    "# This might take a while. \n",
    "parser_server2.parse_files()\n",
    "parser_server2.df_logs['log_name'] = 'server2'"
   ]
  },
  {
   "cell_type": "code",
   "execution_count": null,
   "id": "7ae656e3-0e54-418f-bf13-cf7751520be6",
   "metadata": {},
   "outputs": [],
   "source": [
    "parser_server2.df_logs"
   ]
  },
  {
   "cell_type": "code",
   "execution_count": null,
   "id": "98da5edf-a57a-4e53-a07b-2d899fca2a81",
   "metadata": {},
   "outputs": [],
   "source": [
    "parser_server1.to_file(type=\"feather\", filepath=\"../datasets/rings_server1.feather\")"
   ]
  },
  {
   "cell_type": "markdown",
   "id": "24ca0129-a571-4e9a-8dd1-10db0044faed",
   "metadata": {},
   "source": [
    "## Example Read in File and Create Data Viz\n"
   ]
  },
  {
   "cell_type": "code",
   "execution_count": null,
   "id": "c98392c1-1081-4fe9-bbbd-1fa82c966b97",
   "metadata": {},
   "outputs": [],
   "source": [
    "%%time\n",
    "df_server1 = pd.read_parquet('../datasets/rings_server1.pq')"
   ]
  },
  {
   "cell_type": "code",
   "execution_count": null,
   "id": "366f2acc-44dd-46fc-9272-08367bf56954",
   "metadata": {},
   "outputs": [],
   "source": [
    "df_server1.shape"
   ]
  },
  {
   "cell_type": "code",
   "execution_count": null,
   "id": "ee43d48a-8641-4bea-a7f0-4c2934a123f2",
   "metadata": {},
   "outputs": [],
   "source": [
    "df_server1.head()"
   ]
  },
  {
   "cell_type": "code",
   "execution_count": null,
   "id": "9eedde83-b683-404f-84b8-2ef9c2a7eb14",
   "metadata": {},
   "outputs": [],
   "source": [
    "df_summary = (\n",
    "    df_server1.\n",
    "    groupby(by='status').\n",
    "    size().to_frame('requests').reset_index().\n",
    "    sort_values(by='requests', ascending=False)\n",
    ")\n",
    "fig, ax = plt.subplots(figsize=(15, 12))\n",
    "bar_p = sns.barplot(data=df_summary, x='status', y='requests', \n",
    "                    order=df_summary.sort_values('requests', ascending=False).status)"
   ]
  },
  {
   "cell_type": "code",
   "execution_count": null,
   "id": "49f98069-bcd6-46be-a364-925d8376ad35",
   "metadata": {},
   "outputs": [],
   "source": [
    "df_summary"
   ]
  },
  {
   "cell_type": "code",
   "execution_count": null,
   "id": "f024932f-8440-48d8-9312-cb06fe3a9a00",
   "metadata": {},
   "outputs": [],
   "source": [
    "df_server1.shape"
   ]
  },
  {
   "cell_type": "code",
   "execution_count": null,
   "id": "1b76f4bf-77b9-4775-a371-701d582dd0f2",
   "metadata": {},
   "outputs": [],
   "source": [
    "df = pd.concat([parser_tools1.df_logs, parser_tools2.df_logs, parser_server1.df_logs, parser_server2.df_logs])"
   ]
  },
  {
   "cell_type": "code",
   "execution_count": null,
   "id": "e3652437-0c74-4b75-a74e-80b84d746941",
   "metadata": {},
   "outputs": [],
   "source": [
    "df.shape"
   ]
  },
  {
   "cell_type": "code",
   "execution_count": null,
   "id": "f631a1a1-e0eb-4e92-844f-13faa858d20e",
   "metadata": {},
   "outputs": [],
   "source": [
    "parser_server2.df_logs.shape"
   ]
  },
  {
   "cell_type": "code",
   "execution_count": null,
   "id": "8aec4abd-cf76-4e55-a1e0-23e2f897ab04",
   "metadata": {},
   "outputs": [],
   "source": [
    "df.reset_index(drop=True).to_feather('../datasets/tools1_tools2_server1.feather')"
   ]
  },
  {
   "cell_type": "code",
   "execution_count": null,
   "id": "9a51332d-e14b-4dd5-88e9-006e3d4c3657",
   "metadata": {},
   "outputs": [],
   "source": [
    "%%time\n",
    "df = pd.read_feather('../datasets/tools1_tools2_server1.feather')"
   ]
  },
  {
   "cell_type": "code",
   "execution_count": null,
   "id": "01936728-7269-4a2d-aee1-d4b28a3a1a93",
   "metadata": {},
   "outputs": [],
   "source": [
    "df['date'] = pd.to_datetime(df['date'])"
   ]
  },
  {
   "cell_type": "code",
   "execution_count": null,
   "id": "6171f5d4-d37d-4b31-90c0-f5bd5520af0c",
   "metadata": {},
   "outputs": [],
   "source": [
    "df.sort_values(by='date', inplace=True)"
   ]
  },
  {
   "cell_type": "code",
   "execution_count": null,
   "id": "a6cebe93-57fd-4aca-b38f-989c41017f1a",
   "metadata": {},
   "outputs": [],
   "source": [
    "df.head()"
   ]
  },
  {
   "cell_type": "code",
   "execution_count": null,
   "id": "a43528f6-806d-431d-ad4f-f43a1078a1ee",
   "metadata": {},
   "outputs": [],
   "source": [
    "df_sum = (\n",
    "    df.groupby(by=['month_year', 'date']).agg({'size': 'sum', 'ip': 'count'}).\n",
    "    reset_index(drop=False).rename(columns={'size': 'data_transmit (GB)', 'ip': 'requests'})\n",
    ")\n",
    "\n",
    "# Basic Transformations\n",
    "df_sum['data_transmit (GB)'] = df_sum['data_transmit (GB)'] / (8 * 10**9)\n",
    "df_sum['date'] = pd.to_datetime(df_sum['date'])\n",
    "df_sum['data_transmit_range'] = pd.cut(df_sum['data_transmit (GB)'], \n",
    "                                       bins=[0, .1, 1, 10, 100, 200, 500, 1000, 100000],\n",
    "                                       labels=['0-100MB', '100MB-1GB', '1-10GB', '10-100GB', '100-200GB', '200-500GB', \n",
    "                                               '500GB-1TB', '>1TB'])\n",
    "print(df_sum.dtypes)"
   ]
  },
  {
   "cell_type": "code",
   "execution_count": null,
   "id": "e186e975-49ce-4d53-be24-383233d5d2dd",
   "metadata": {},
   "outputs": [],
   "source": [
    "import plotly.express as px\n",
    "df_sum.sort_values(by='date', inplace=True)\n",
    "fig = px.line(df_sum, x=\"date\", y=\"data_transmit (GB)\", log_y=True)\n",
    "fig.show()"
   ]
  },
  {
   "cell_type": "code",
   "execution_count": null,
   "id": "b2e3b5f9-c902-45a3-95de-7d6f8b5b45ac",
   "metadata": {},
   "outputs": [],
   "source": []
  }
 ],
 "metadata": {
  "kernelspec": {
   "display_name": "dask",
   "language": "python",
   "name": "dask"
  },
  "language_info": {
   "codemirror_mode": {
    "name": "ipython",
    "version": 3
   },
   "file_extension": ".py",
   "mimetype": "text/x-python",
   "name": "python",
   "nbconvert_exporter": "python",
   "pygments_lexer": "ipython3",
   "version": "3.10.2"
  }
 },
 "nbformat": 4,
 "nbformat_minor": 5
}
