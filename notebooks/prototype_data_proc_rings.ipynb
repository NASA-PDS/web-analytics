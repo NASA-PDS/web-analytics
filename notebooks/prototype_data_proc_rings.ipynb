{
 "cells": [
  {
   "cell_type": "code",
   "execution_count": 62,
   "id": "14dcb8bf-2569-45fd-9eb1-be96e1de83ce",
   "metadata": {},
   "outputs": [
    {
     "name": "stdout",
     "output_type": "stream",
     "text": [
      "The autoreload extension is already loaded. To reload it, use:\n",
      "  %reload_ext autoreload\n"
     ]
    }
   ],
   "source": [
    "%load_ext autoreload\n",
    "%autoreload 2\n",
    "%matplotlib inline"
   ]
  },
  {
   "cell_type": "code",
   "execution_count": 63,
   "id": "233f6cef-f1de-4200-8e5c-f84ae8335353",
   "metadata": {},
   "outputs": [],
   "source": [
    "import glob\n",
    "import sys\n",
    "import os\n",
    "from pathlib import Path\n",
    "\n",
    "import pandas as pd\n",
    "import numpy as np\n",
    "import matplotlib.pyplot as plt\n",
    "import seaborn as sns\n",
    "\n",
    "sys.path.append('../src')\n",
    "from clf_parser import CLFParse"
   ]
  },
  {
   "cell_type": "code",
   "execution_count": 64,
   "id": "fef7b848-d67e-42b2-bcff-202b6c9488c9",
   "metadata": {},
   "outputs": [],
   "source": [
    "# Modify path here for your particular system\n",
    "data_dir = Path('/Users/kaipak/datasets/pds/pds_logs/report_service/logs/final/rings/rings-apache-metrics')\n",
    "tools2_logs = sorted(glob.glob(str(data_dir) + \"/tools2*\"))\n",
    "server1_logs = sorted(glob.glob(str(data_dir) + \"/server1*\"))"
   ]
  },
  {
   "cell_type": "code",
   "execution_count": 65,
   "id": "1dbc0429-af20-4de2-8f68-cad5db16f2a0",
   "metadata": {},
   "outputs": [],
   "source": [
    "parser_tools2 = CLFParse(tools2_logs)\n",
    "parser_server1 = CLFParse(server1_logs)"
   ]
  },
  {
   "cell_type": "code",
   "execution_count": 66,
   "id": "fc3de3d2-9d03-4cd7-acf9-a1cdfadb73e7",
   "metadata": {},
   "outputs": [
    {
     "name": "stdout",
     "output_type": "stream",
     "text": [
      "Logfiles list contains 198 files.\n",
      "10 files have been processed. 0.03 minutes elapsed\n",
      "20 files have been processed. 0.12 minutes elapsed\n",
      "30 files have been processed. 0.16 minutes elapsed\n",
      "40 files have been processed. 0.22 minutes elapsed\n",
      "50 files have been processed. 0.3 minutes elapsed\n",
      "60 files have been processed. 0.38 minutes elapsed\n",
      "70 files have been processed. 0.48 minutes elapsed\n",
      "80 files have been processed. 0.59 minutes elapsed\n",
      "90 files have been processed. 0.7 minutes elapsed\n",
      "100 files have been processed. 0.8 minutes elapsed\n",
      "110 files have been processed. 0.89 minutes elapsed\n",
      "120 files have been processed. 1.01 minutes elapsed\n",
      "130 files have been processed. 1.11 minutes elapsed\n",
      "140 files have been processed. 1.2 minutes elapsed\n",
      "150 files have been processed. 1.3 minutes elapsed\n",
      "160 files have been processed. 1.4 minutes elapsed\n",
      "170 files have been processed. 1.51 minutes elapsed\n",
      "180 files have been processed. 1.61 minutes elapsed\n",
      "190 files have been processed. 1.69 minutes elapsed\n",
      "Expanding datetime field...\n",
      "1.95m to process log files.\n",
      "CPU times: user 1min 37s, sys: 18.3 s, total: 1min 56s\n",
      "Wall time: 1min 56s\n"
     ]
    }
   ],
   "source": [
    "%%time\n",
    "# This might take a while. \n",
    "parser_tools2.parse_files()"
   ]
  },
  {
   "cell_type": "code",
   "execution_count": 67,
   "id": "d6d4ac00-ba35-49f5-9c6b-2e8f5b4daaa1",
   "metadata": {},
   "outputs": [
    {
     "name": "stdout",
     "output_type": "stream",
     "text": [
      "Completed creating feather file at ../datasets/rings_tools2.feather.\n"
     ]
    }
   ],
   "source": [
    "parser_tools2.to_file(type=\"feather\", filepath=\"../datasets/rings_tools2.feather\")"
   ]
  },
  {
   "cell_type": "code",
   "execution_count": 68,
   "id": "827e43b6-d1e1-49e9-a139-d4d323796204",
   "metadata": {},
   "outputs": [
    {
     "name": "stdout",
     "output_type": "stream",
     "text": [
      "Logfiles list contains 197 files.\n",
      "10 files have been processed. 0.14 minutes elapsed\n",
      "20 files have been processed. 0.29 minutes elapsed\n",
      "30 files have been processed. 0.54 minutes elapsed\n",
      "40 files have been processed. 0.67 minutes elapsed\n",
      "50 files have been processed. 0.86 minutes elapsed\n",
      "60 files have been processed. 1.08 minutes elapsed\n",
      "70 files have been processed. 1.27 minutes elapsed\n",
      "80 files have been processed. 1.49 minutes elapsed\n",
      "90 files have been processed. 1.76 minutes elapsed\n",
      "100 files have been processed. 1.94 minutes elapsed\n",
      "110 files have been processed. 2.12 minutes elapsed\n",
      "120 files have been processed. 2.46 minutes elapsed\n",
      "130 files have been processed. 2.65 minutes elapsed\n",
      "140 files have been processed. 2.88 minutes elapsed\n",
      "150 files have been processed. 3.2 minutes elapsed\n",
      "160 files have been processed. 3.42 minutes elapsed\n",
      "170 files have been processed. 3.61 minutes elapsed\n",
      "180 files have been processed. 3.91 minutes elapsed\n",
      "190 files have been processed. 4.15 minutes elapsed\n",
      "Expanding datetime field...\n",
      "4.7m to process log files.\n",
      "CPU times: user 4min 28s, sys: 12.6 s, total: 4min 40s\n",
      "Wall time: 4min 41s\n"
     ]
    }
   ],
   "source": [
    "%%time\n",
    "# This might take a while. \n",
    "parser_server1.parse_files()"
   ]
  },
  {
   "cell_type": "code",
   "execution_count": 69,
   "id": "98da5edf-a57a-4e53-a07b-2d899fca2a81",
   "metadata": {},
   "outputs": [
    {
     "name": "stdout",
     "output_type": "stream",
     "text": [
      "Completed creating feather file at ../datasets/rings_server1.feather.\n"
     ]
    }
   ],
   "source": [
    "parser_server1.to_file(type=\"feather\", filepath=\"../datasets/rings_server1.feather\")"
   ]
  },
  {
   "cell_type": "markdown",
   "id": "24ca0129-a571-4e9a-8dd1-10db0044faed",
   "metadata": {},
   "source": [
    "## Example Read in File and Create Data Viz\n"
   ]
  },
  {
   "cell_type": "code",
   "execution_count": null,
   "id": "c98392c1-1081-4fe9-bbbd-1fa82c966b97",
   "metadata": {},
   "outputs": [],
   "source": [
    "%%time\n",
    "df_server1 = pd.read_parquet('../datasets/rings_server1.pq')"
   ]
  },
  {
   "cell_type": "code",
   "execution_count": null,
   "id": "366f2acc-44dd-46fc-9272-08367bf56954",
   "metadata": {},
   "outputs": [],
   "source": [
    "df_server1.shape"
   ]
  },
  {
   "cell_type": "code",
   "execution_count": null,
   "id": "ee43d48a-8641-4bea-a7f0-4c2934a123f2",
   "metadata": {},
   "outputs": [],
   "source": [
    "df_server1.head()"
   ]
  },
  {
   "cell_type": "code",
   "execution_count": null,
   "id": "9eedde83-b683-404f-84b8-2ef9c2a7eb14",
   "metadata": {},
   "outputs": [],
   "source": [
    "df_summary = (\n",
    "    df_server1.\n",
    "    groupby(by='status').\n",
    "    size().to_frame('requests').reset_index().\n",
    "    sort_values(by='requests', ascending=False)\n",
    ")\n",
    "fig, ax = plt.subplots(figsize=(15, 12))\n",
    "bar_p = sns.barplot(data=df_summary, x='status', y='requests', \n",
    "                    order=df_summary.sort_values('requests', ascending=False).status)"
   ]
  },
  {
   "cell_type": "code",
   "execution_count": null,
   "id": "49f98069-bcd6-46be-a364-925d8376ad35",
   "metadata": {},
   "outputs": [],
   "source": [
    "df_summary"
   ]
  },
  {
   "cell_type": "code",
   "execution_count": null,
   "id": "f024932f-8440-48d8-9312-cb06fe3a9a00",
   "metadata": {},
   "outputs": [],
   "source": [
    "df_server1.shape"
   ]
  },
  {
   "cell_type": "code",
   "execution_count": null,
   "id": "1b76f4bf-77b9-4775-a371-701d582dd0f2",
   "metadata": {},
   "outputs": [],
   "source": []
  }
 ],
 "metadata": {
  "kernelspec": {
   "display_name": "dask",
   "language": "python",
   "name": "dask"
  },
  "language_info": {
   "codemirror_mode": {
    "name": "ipython",
    "version": 3
   },
   "file_extension": ".py",
   "mimetype": "text/x-python",
   "name": "python",
   "nbconvert_exporter": "python",
   "pygments_lexer": "ipython3",
   "version": "3.10.2"
  }
 },
 "nbformat": 4,
 "nbformat_minor": 5
}
