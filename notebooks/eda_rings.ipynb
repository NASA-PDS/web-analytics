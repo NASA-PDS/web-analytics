{
 "cells": [
  {
   "cell_type": "code",
   "execution_count": 5,
   "id": "233f6cef-f1de-4200-8e5c-f84ae8335353",
   "metadata": {},
   "outputs": [],
   "source": [
    "import pandas as pd\n",
    "import numpy as np"
   ]
  },
  {
   "cell_type": "code",
   "execution_count": 6,
   "id": "fef7b848-d67e-42b2-bcff-202b6c9488c9",
   "metadata": {},
   "outputs": [
    {
     "data": {
      "text/html": [
       "<div>\n",
       "<style scoped>\n",
       "    .dataframe tbody tr th:only-of-type {\n",
       "        vertical-align: middle;\n",
       "    }\n",
       "\n",
       "    .dataframe tbody tr th {\n",
       "        vertical-align: top;\n",
       "    }\n",
       "\n",
       "    .dataframe thead th {\n",
       "        text-align: right;\n",
       "    }\n",
       "</style>\n",
       "<table border=\"1\" class=\"dataframe\">\n",
       "  <thead>\n",
       "    <tr style=\"text-align: right;\">\n",
       "      <th></th>\n",
       "      <th>index</th>\n",
       "      <th>ip</th>\n",
       "      <th>identd</th>\n",
       "      <th>userid</th>\n",
       "      <th>datetime</th>\n",
       "      <th>request</th>\n",
       "      <th>status</th>\n",
       "      <th>size</th>\n",
       "      <th>referer</th>\n",
       "      <th>user_agent</th>\n",
       "    </tr>\n",
       "  </thead>\n",
       "  <tbody>\n",
       "    <tr>\n",
       "      <th>0</th>\n",
       "      <td>0</td>\n",
       "      <td>185.191.171.2</td>\n",
       "      <td>None</td>\n",
       "      <td>None</td>\n",
       "      <td>2020-12-01 04:28:47-07:00</td>\n",
       "      <td>GET /archive/co-e_v_j_s-vims-2-qube-v1.0/covim...</td>\n",
       "      <td>200</td>\n",
       "      <td>276992.0</td>\n",
       "      <td>None</td>\n",
       "      <td>Mozilla/5.0 (compatible; SemrushBot/7~bl; +htt...</td>\n",
       "    </tr>\n",
       "    <tr>\n",
       "      <th>1</th>\n",
       "      <td>1</td>\n",
       "      <td>185.191.171.25</td>\n",
       "      <td>None</td>\n",
       "      <td>None</td>\n",
       "      <td>2020-12-01 04:28:48-07:00</td>\n",
       "      <td>GET /cdroms/Viking_Orbiter/vo_1012/f086axx/f08...</td>\n",
       "      <td>200</td>\n",
       "      <td>462876.0</td>\n",
       "      <td>None</td>\n",
       "      <td>Mozilla/5.0 (compatible; SemrushBot/7~bl; +htt...</td>\n",
       "    </tr>\n",
       "    <tr>\n",
       "      <th>2</th>\n",
       "      <td>2</td>\n",
       "      <td>185.191.171.12</td>\n",
       "      <td>None</td>\n",
       "      <td>None</td>\n",
       "      <td>2020-12-01 04:28:48-07:00</td>\n",
       "      <td>GET /data/co-e_v_j_s-vims-2-qube-v1.0/covims_0...</td>\n",
       "      <td>200</td>\n",
       "      <td>76928.0</td>\n",
       "      <td>None</td>\n",
       "      <td>Mozilla/5.0 (compatible; SemrushBot/7~bl; +htt...</td>\n",
       "    </tr>\n",
       "    <tr>\n",
       "      <th>3</th>\n",
       "      <td>3</td>\n",
       "      <td>157.55.39.170</td>\n",
       "      <td>None</td>\n",
       "      <td>None</td>\n",
       "      <td>2020-12-01 04:28:49-07:00</td>\n",
       "      <td>GET /archive/a15c-l-mc-2-scanned-images-v1.0/A...</td>\n",
       "      <td>304</td>\n",
       "      <td>NaN</td>\n",
       "      <td>None</td>\n",
       "      <td>Mozilla/5.0 (compatible; bingbot/2.0; +http://...</td>\n",
       "    </tr>\n",
       "    <tr>\n",
       "      <th>4</th>\n",
       "      <td>4</td>\n",
       "      <td>5.255.253.103</td>\n",
       "      <td>None</td>\n",
       "      <td>None</td>\n",
       "      <td>2020-12-01 04:28:49-07:00</td>\n",
       "      <td>GET /Missions/Viking_Orbiter/vo_1058/browse/f3...</td>\n",
       "      <td>200</td>\n",
       "      <td>82500.0</td>\n",
       "      <td>None</td>\n",
       "      <td>Mozilla/5.0 (compatible; YandexBot/3.0; +http:...</td>\n",
       "    </tr>\n",
       "  </tbody>\n",
       "</table>\n",
       "</div>"
      ],
      "text/plain": [
       "   index              ip identd userid                  datetime  \\\n",
       "0      0   185.191.171.2   None   None 2020-12-01 04:28:47-07:00   \n",
       "1      1  185.191.171.25   None   None 2020-12-01 04:28:48-07:00   \n",
       "2      2  185.191.171.12   None   None 2020-12-01 04:28:48-07:00   \n",
       "3      3   157.55.39.170   None   None 2020-12-01 04:28:49-07:00   \n",
       "4      4   5.255.253.103   None   None 2020-12-01 04:28:49-07:00   \n",
       "\n",
       "                                             request  status      size  \\\n",
       "0  GET /archive/co-e_v_j_s-vims-2-qube-v1.0/covim...     200  276992.0   \n",
       "1  GET /cdroms/Viking_Orbiter/vo_1012/f086axx/f08...     200  462876.0   \n",
       "2  GET /data/co-e_v_j_s-vims-2-qube-v1.0/covims_0...     200   76928.0   \n",
       "3  GET /archive/a15c-l-mc-2-scanned-images-v1.0/A...     304       NaN   \n",
       "4  GET /Missions/Viking_Orbiter/vo_1058/browse/f3...     200   82500.0   \n",
       "\n",
       "  referer                                         user_agent  \n",
       "0    None  Mozilla/5.0 (compatible; SemrushBot/7~bl; +htt...  \n",
       "1    None  Mozilla/5.0 (compatible; SemrushBot/7~bl; +htt...  \n",
       "2    None  Mozilla/5.0 (compatible; SemrushBot/7~bl; +htt...  \n",
       "3    None  Mozilla/5.0 (compatible; bingbot/2.0; +http://...  \n",
       "4    None  Mozilla/5.0 (compatible; YandexBot/3.0; +http:...  "
      ]
     },
     "execution_count": 6,
     "metadata": {},
     "output_type": "execute_result"
    }
   ],
   "source": [
    "df = pd.read_feather('foo.feather'); df.head()"
   ]
  },
  {
   "cell_type": "code",
   "execution_count": 8,
   "id": "d6000e4e-eebf-473a-aa84-19794080fceb",
   "metadata": {},
   "outputs": [
    {
     "data": {
      "text/plain": [
       "(2442025, 10)"
      ]
     },
     "execution_count": 8,
     "metadata": {},
     "output_type": "execute_result"
    }
   ],
   "source": [
    "df.shape"
   ]
  },
  {
   "cell_type": "code",
   "execution_count": null,
   "id": "724ae5db-d09e-4d9b-a527-c6e29f4bb701",
   "metadata": {},
   "outputs": [],
   "source": []
  }
 ],
 "metadata": {
  "kernelspec": {
   "display_name": "dask",
   "language": "python",
   "name": "dask"
  },
  "language_info": {
   "codemirror_mode": {
    "name": "ipython",
    "version": 3
   },
   "file_extension": ".py",
   "mimetype": "text/x-python",
   "name": "python",
   "nbconvert_exporter": "python",
   "pygments_lexer": "ipython3",
   "version": "3.10.2"
  }
 },
 "nbformat": 4,
 "nbformat_minor": 5
}
