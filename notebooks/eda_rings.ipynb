{
 "cells": [
  {
   "cell_type": "code",
   "execution_count": 27,
   "id": "67b864fd-46a5-4dde-9ace-f9626aef8d9a",
   "metadata": {},
   "outputs": [],
   "source": [
    "import os\n",
    "import sys\n",
    "from pathlib import Path\n",
    "\n",
    "import pandas as pd\n",
    "import numpy as np\n",
    "import plotly.express as px"
   ]
  },
  {
   "cell_type": "code",
   "execution_count": 28,
   "id": "21434f30-6c4a-4b6c-afcd-910bc2387c11",
   "metadata": {},
   "outputs": [],
   "source": [
    "df_rs1 = pd.read_feather('../datasets/rings_server1.feather')\n",
    "df_rt2 = pd.read_feather('../datasets/rings_tools2.feather')"
   ]
  },
  {
   "cell_type": "code",
   "execution_count": 29,
   "id": "e543fa93-a8fb-461e-aabc-8501647650ad",
   "metadata": {},
   "outputs": [
    {
     "data": {
      "text/html": [
       "<div>\n",
       "<style scoped>\n",
       "    .dataframe tbody tr th:only-of-type {\n",
       "        vertical-align: middle;\n",
       "    }\n",
       "\n",
       "    .dataframe tbody tr th {\n",
       "        vertical-align: top;\n",
       "    }\n",
       "\n",
       "    .dataframe thead th {\n",
       "        text-align: right;\n",
       "    }\n",
       "</style>\n",
       "<table border=\"1\" class=\"dataframe\">\n",
       "  <thead>\n",
       "    <tr style=\"text-align: right;\">\n",
       "      <th></th>\n",
       "      <th>ip</th>\n",
       "      <th>identd</th>\n",
       "      <th>userid</th>\n",
       "      <th>datetime</th>\n",
       "      <th>request</th>\n",
       "      <th>status</th>\n",
       "      <th>size</th>\n",
       "      <th>referer</th>\n",
       "      <th>user_agent</th>\n",
       "      <th>date</th>\n",
       "      <th>month_year</th>\n",
       "      <th>DOW</th>\n",
       "      <th>hour</th>\n",
       "    </tr>\n",
       "  </thead>\n",
       "  <tbody>\n",
       "    <tr>\n",
       "      <th>0</th>\n",
       "      <td>66.249.79.92</td>\n",
       "      <td>None</td>\n",
       "      <td>None</td>\n",
       "      <td>2021-01-01 08:00:12+00:00</td>\n",
       "      <td>GET /pds4/bundles/cassini_vims_saturn/data_raw...</td>\n",
       "      <td>200</td>\n",
       "      <td>88064.0</td>\n",
       "      <td>None</td>\n",
       "      <td>Mozilla/5.0 (Linux; Android 6.0.1; Nexus 5X Bu...</td>\n",
       "      <td>2021-01-01</td>\n",
       "      <td>01-2021</td>\n",
       "      <td>Friday</td>\n",
       "      <td>8</td>\n",
       "    </tr>\n",
       "    <tr>\n",
       "      <th>1</th>\n",
       "      <td>66.249.79.92</td>\n",
       "      <td>None</td>\n",
       "      <td>None</td>\n",
       "      <td>2021-01-01 08:00:16+00:00</td>\n",
       "      <td>GET /pds4/bundles/cassini_vims_saturn/data_raw...</td>\n",
       "      <td>200</td>\n",
       "      <td>599040.0</td>\n",
       "      <td>None</td>\n",
       "      <td>Mozilla/5.0 (Linux; Android 6.0.1; Nexus 5X Bu...</td>\n",
       "      <td>2021-01-01</td>\n",
       "      <td>01-2021</td>\n",
       "      <td>Friday</td>\n",
       "      <td>8</td>\n",
       "    </tr>\n",
       "    <tr>\n",
       "      <th>2</th>\n",
       "      <td>114.119.138.239</td>\n",
       "      <td>None</td>\n",
       "      <td>None</td>\n",
       "      <td>2021-01-01 08:00:16+00:00</td>\n",
       "      <td>GET /press_releases/pages/PIA08xxx/PIA08204.ht...</td>\n",
       "      <td>200</td>\n",
       "      <td>18417.0</td>\n",
       "      <td>None</td>\n",
       "      <td>Mozilla/5.0 (Linux; Android 7.0;) AppleWebKit/...</td>\n",
       "      <td>2021-01-01</td>\n",
       "      <td>01-2021</td>\n",
       "      <td>Friday</td>\n",
       "      <td>8</td>\n",
       "    </tr>\n",
       "    <tr>\n",
       "      <th>3</th>\n",
       "      <td>5.255.253.135</td>\n",
       "      <td>None</td>\n",
       "      <td>None</td>\n",
       "      <td>2021-01-01 08:00:19+00:00</td>\n",
       "      <td>GET /press_releases/pages/PIA18xxx/PIA18360.ht...</td>\n",
       "      <td>200</td>\n",
       "      <td>18711.0</td>\n",
       "      <td>None</td>\n",
       "      <td>Mozilla/5.0 (compatible; YandexBot/3.0; +http:...</td>\n",
       "      <td>2021-01-01</td>\n",
       "      <td>01-2021</td>\n",
       "      <td>Friday</td>\n",
       "      <td>8</td>\n",
       "    </tr>\n",
       "    <tr>\n",
       "      <th>4</th>\n",
       "      <td>13.66.139.95</td>\n",
       "      <td>None</td>\n",
       "      <td>None</td>\n",
       "      <td>2021-01-01 08:00:52+00:00</td>\n",
       "      <td>GET /saturn/cassini/jpegMod/PIA18271_modest.jp...</td>\n",
       "      <td>200</td>\n",
       "      <td>97957.0</td>\n",
       "      <td>None</td>\n",
       "      <td>Mozilla/5.0 (compatible; bingbot/2.0; +http://...</td>\n",
       "      <td>2021-01-01</td>\n",
       "      <td>01-2021</td>\n",
       "      <td>Friday</td>\n",
       "      <td>8</td>\n",
       "    </tr>\n",
       "  </tbody>\n",
       "</table>\n",
       "</div>"
      ],
      "text/plain": [
       "                ip identd userid                  datetime  \\\n",
       "0     66.249.79.92   None   None 2021-01-01 08:00:12+00:00   \n",
       "1     66.249.79.92   None   None 2021-01-01 08:00:16+00:00   \n",
       "2  114.119.138.239   None   None 2021-01-01 08:00:16+00:00   \n",
       "3    5.255.253.135   None   None 2021-01-01 08:00:19+00:00   \n",
       "4     13.66.139.95   None   None 2021-01-01 08:00:52+00:00   \n",
       "\n",
       "                                             request  status      size  \\\n",
       "0  GET /pds4/bundles/cassini_vims_saturn/data_raw...     200   88064.0   \n",
       "1  GET /pds4/bundles/cassini_vims_saturn/data_raw...     200  599040.0   \n",
       "2  GET /press_releases/pages/PIA08xxx/PIA08204.ht...     200   18417.0   \n",
       "3  GET /press_releases/pages/PIA18xxx/PIA18360.ht...     200   18711.0   \n",
       "4  GET /saturn/cassini/jpegMod/PIA18271_modest.jp...     200   97957.0   \n",
       "\n",
       "  referer                                         user_agent        date  \\\n",
       "0    None  Mozilla/5.0 (Linux; Android 6.0.1; Nexus 5X Bu...  2021-01-01   \n",
       "1    None  Mozilla/5.0 (Linux; Android 6.0.1; Nexus 5X Bu...  2021-01-01   \n",
       "2    None  Mozilla/5.0 (Linux; Android 7.0;) AppleWebKit/...  2021-01-01   \n",
       "3    None  Mozilla/5.0 (compatible; YandexBot/3.0; +http:...  2021-01-01   \n",
       "4    None  Mozilla/5.0 (compatible; bingbot/2.0; +http://...  2021-01-01   \n",
       "\n",
       "  month_year     DOW  hour  \n",
       "0    01-2021  Friday     8  \n",
       "1    01-2021  Friday     8  \n",
       "2    01-2021  Friday     8  \n",
       "3    01-2021  Friday     8  \n",
       "4    01-2021  Friday     8  "
      ]
     },
     "execution_count": 29,
     "metadata": {},
     "output_type": "execute_result"
    }
   ],
   "source": [
    "df_rs1.head()"
   ]
  },
  {
   "cell_type": "code",
   "execution_count": 30,
   "id": "949efe36-0115-42b1-940e-97cca4ff6c96",
   "metadata": {},
   "outputs": [
    {
     "data": {
      "text/html": [
       "<div>\n",
       "<style scoped>\n",
       "    .dataframe tbody tr th:only-of-type {\n",
       "        vertical-align: middle;\n",
       "    }\n",
       "\n",
       "    .dataframe tbody tr th {\n",
       "        vertical-align: top;\n",
       "    }\n",
       "\n",
       "    .dataframe thead th {\n",
       "        text-align: right;\n",
       "    }\n",
       "</style>\n",
       "<table border=\"1\" class=\"dataframe\">\n",
       "  <thead>\n",
       "    <tr style=\"text-align: right;\">\n",
       "      <th></th>\n",
       "      <th>status</th>\n",
       "      <th>size</th>\n",
       "      <th>hour</th>\n",
       "    </tr>\n",
       "  </thead>\n",
       "  <tbody>\n",
       "    <tr>\n",
       "      <th>count</th>\n",
       "      <td>3.465553e+06</td>\n",
       "      <td>3.247864e+06</td>\n",
       "      <td>3.465553e+06</td>\n",
       "    </tr>\n",
       "    <tr>\n",
       "      <th>mean</th>\n",
       "      <td>2.257778e+02</td>\n",
       "      <td>4.958414e+06</td>\n",
       "      <td>1.250906e+01</td>\n",
       "    </tr>\n",
       "    <tr>\n",
       "      <th>std</th>\n",
       "      <td>6.331875e+01</td>\n",
       "      <td>1.717696e+08</td>\n",
       "      <td>7.041412e+00</td>\n",
       "    </tr>\n",
       "    <tr>\n",
       "      <th>min</th>\n",
       "      <td>2.000000e+02</td>\n",
       "      <td>1.000000e+00</td>\n",
       "      <td>0.000000e+00</td>\n",
       "    </tr>\n",
       "    <tr>\n",
       "      <th>25%</th>\n",
       "      <td>2.000000e+02</td>\n",
       "      <td>2.503000e+03</td>\n",
       "      <td>6.000000e+00</td>\n",
       "    </tr>\n",
       "    <tr>\n",
       "      <th>50%</th>\n",
       "      <td>2.000000e+02</td>\n",
       "      <td>1.737200e+04</td>\n",
       "      <td>1.300000e+01</td>\n",
       "    </tr>\n",
       "    <tr>\n",
       "      <th>75%</th>\n",
       "      <td>2.000000e+02</td>\n",
       "      <td>1.914100e+04</td>\n",
       "      <td>1.900000e+01</td>\n",
       "    </tr>\n",
       "    <tr>\n",
       "      <th>max</th>\n",
       "      <td>5.040000e+02</td>\n",
       "      <td>5.029008e+10</td>\n",
       "      <td>2.300000e+01</td>\n",
       "    </tr>\n",
       "  </tbody>\n",
       "</table>\n",
       "</div>"
      ],
      "text/plain": [
       "             status          size          hour\n",
       "count  3.465553e+06  3.247864e+06  3.465553e+06\n",
       "mean   2.257778e+02  4.958414e+06  1.250906e+01\n",
       "std    6.331875e+01  1.717696e+08  7.041412e+00\n",
       "min    2.000000e+02  1.000000e+00  0.000000e+00\n",
       "25%    2.000000e+02  2.503000e+03  6.000000e+00\n",
       "50%    2.000000e+02  1.737200e+04  1.300000e+01\n",
       "75%    2.000000e+02  1.914100e+04  1.900000e+01\n",
       "max    5.040000e+02  5.029008e+10  2.300000e+01"
      ]
     },
     "execution_count": 30,
     "metadata": {},
     "output_type": "execute_result"
    }
   ],
   "source": [
    "df_rs1.describe()"
   ]
  },
  {
   "cell_type": "code",
   "execution_count": null,
   "id": "2f25c07f-9482-49c1-9277-120ddf28bea6",
   "metadata": {},
   "outputs": [],
   "source": [
    "fig = px.line(df_rs1, x='datetime', y='size')"
   ]
  },
  {
   "cell_type": "code",
   "execution_count": 17,
   "id": "b467d80a-a58e-4c55-b387-81cc406ae78a",
   "metadata": {},
   "outputs": [
    {
     "name": "stderr",
     "output_type": "stream",
     "text": [
      "/Users/kaipak/miniconda3/envs/dask/lib/python3.10/site-packages/pandas/core/arrays/datetimes.py:1162: UserWarning:\n",
      "\n",
      "Converting to PeriodArray/Index representation will drop timezone information.\n",
      "\n"
     ]
    },
    {
     "data": {
      "text/plain": [
       "0          2021-01\n",
       "1          2021-01\n",
       "2          2021-01\n",
       "3          2021-01\n",
       "4          2021-01\n",
       "            ...   \n",
       "3465548    2021-07\n",
       "3465549    2021-07\n",
       "3465550    2021-07\n",
       "3465551    2021-07\n",
       "3465552    2021-07\n",
       "Name: datetime, Length: 3465553, dtype: period[M]"
      ]
     },
     "execution_count": 17,
     "metadata": {},
     "output_type": "execute_result"
    }
   ],
   "source": [
    "df_rs1['datetime'].dt.to_period('M')"
   ]
  },
  {
   "cell_type": "code",
   "execution_count": 19,
   "id": "89364c95-3d9c-440e-a236-f6ffab6ebbd8",
   "metadata": {},
   "outputs": [
    {
     "data": {
      "text/plain": [
       "0    01-2021\n",
       "1    01-2021\n",
       "2    01-2021\n",
       "3    01-2021\n",
       "4    01-2021\n",
       "5    01-2021\n",
       "6    01-2021\n",
       "7    01-2021\n",
       "8    01-2021\n",
       "9    01-2021\n",
       "Name: datetime, dtype: object"
      ]
     },
     "execution_count": 19,
     "metadata": {},
     "output_type": "execute_result"
    }
   ],
   "source": [
    "df_rs1['datetime'][:10].dt.strftime('%m-%Y')"
   ]
  },
  {
   "cell_type": "code",
   "execution_count": 21,
   "id": "feec9ab5-c95e-4750-8f7e-e7f3dd9e7967",
   "metadata": {},
   "outputs": [
    {
     "data": {
      "text/plain": [
       "0          5-2021\n",
       "1          5-2021\n",
       "2          5-2021\n",
       "3          5-2021\n",
       "4          5-2021\n",
       "            ...  \n",
       "3465538    5-2021\n",
       "3465539    5-2021\n",
       "3465540    5-2021\n",
       "3465541    5-2021\n",
       "3465542    5-2021\n",
       "Name: datetime, Length: 3465543, dtype: object"
      ]
     },
     "execution_count": 21,
     "metadata": {},
     "output_type": "execute_result"
    }
   ],
   "source": [
    "\n",
    "df_rs1['datetime'][:-10].dt.strftime('%w-%Y')"
   ]
  },
  {
   "cell_type": "code",
   "execution_count": 26,
   "id": "97db8e53-c6bc-4974-9cff-e10e22fd8124",
   "metadata": {},
   "outputs": [
    {
     "data": {
      "text/plain": [
       "0          2021-01-01\n",
       "1          2021-01-01\n",
       "2          2021-01-01\n",
       "3          2021-01-01\n",
       "4          2021-01-01\n",
       "              ...    \n",
       "3465548    2021-07-16\n",
       "3465549    2021-07-16\n",
       "3465550    2021-07-16\n",
       "3465551    2021-07-16\n",
       "3465552    2021-07-16\n",
       "Name: datetime, Length: 3465553, dtype: object"
      ]
     },
     "execution_count": 26,
     "metadata": {},
     "output_type": "execute_result"
    }
   ],
   "source": [
    "df_rs1['datetime'].dt.date"
   ]
  },
  {
   "cell_type": "code",
   "execution_count": null,
   "id": "c9b6f21d-38a1-46b4-8865-e5477c39ab36",
   "metadata": {},
   "outputs": [],
   "source": []
  }
 ],
 "metadata": {
  "kernelspec": {
   "display_name": "dask",
   "language": "python",
   "name": "dask"
  },
  "language_info": {
   "codemirror_mode": {
    "name": "ipython",
    "version": 3
   },
   "file_extension": ".py",
   "mimetype": "text/x-python",
   "name": "python",
   "nbconvert_exporter": "python",
   "pygments_lexer": "ipython3",
   "version": "3.10.2"
  }
 },
 "nbformat": 4,
 "nbformat_minor": 5
}
