{
 "cells": [
  {
   "cell_type": "markdown",
   "id": "dfcb3c4e-1569-49a5-b7e0-772882d23791",
   "metadata": {},
   "source": [
    "# Ring-Moon Systems Node Web Analysis"
   ]
  },
  {
   "cell_type": "code",
   "execution_count": 1,
   "id": "b6e6052b-dc6d-4fd6-a3d9-04ee9211a0aa",
   "metadata": {},
   "outputs": [],
   "source": [
    "import os\n",
    "import sys\n",
    "from pathlib import Path\n",
    "\n",
    "import dask.dataframe as dd\n",
    "import pandas as pd\n",
    "import numpy as np\n",
    "import seaborn as sns\n",
    "import matplotlib.pyplot as plt\n",
    "import plotly.express as px\n",
    "import plotly.graph_objects as go\n",
    "from datetime import datetime"
   ]
  },
  {
   "cell_type": "code",
   "execution_count": 2,
   "id": "a3f35452-5512-4b74-a270-990fd8c93cb7",
   "metadata": {},
   "outputs": [],
   "source": [
    "#df_all = pd.read_feather('../datasets/rings_all.feather')\n",
    "df_all = pd.read_feather('../datasets/rings_all_sm.feather')"
   ]
  },
  {
   "cell_type": "markdown",
   "id": "77a16dfd-062c-445f-85b8-e88f37970873",
   "metadata": {},
   "source": [
    "## Intro and Overall Node Characteristics.\n",
    "Overall traffic utilization since 2017. Log data consists of 2539 files containing approximately 110M log entries for about 28GB of total data.\n",
    "\n",
    "Typically, this node shows low levels of traffic and typically serves between 100 MB-1GB of data on a daily basis. This accounts for roughly 95% of the days. On occasion, there are days where requests increase significantly (500\n"
   ]
  },
  {
   "cell_type": "code",
   "execution_count": null,
   "id": "b4977c4d-b79c-4a46-b6c7-af9ebb051a00",
   "metadata": {},
   "outputs": [],
   "source": []
  }
 ],
 "metadata": {
  "kernelspec": {
   "display_name": "dask",
   "language": "python",
   "name": "dask"
  },
  "language_info": {
   "codemirror_mode": {
    "name": "ipython",
    "version": 3
   },
   "file_extension": ".py",
   "mimetype": "text/x-python",
   "name": "python",
   "nbconvert_exporter": "python",
   "pygments_lexer": "ipython3",
   "version": "3.10.2"
  }
 },
 "nbformat": 4,
 "nbformat_minor": 5
}
