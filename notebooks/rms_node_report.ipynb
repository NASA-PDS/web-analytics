{
 "cells": [
  {
   "cell_type": "code",
   "execution_count": 3,
   "id": "3aa7bbb7-9399-498c-b300-baf1c1d0c7b2",
   "metadata": {},
   "outputs": [
    {
     "name": "stdout",
     "output_type": "stream",
     "text": [
      "The autoreload extension is already loaded. To reload it, use:\n",
      "  %reload_ext autoreload\n"
     ]
    }
   ],
   "source": [
    "%load_ext autoreload\n",
    "%autoreload 2\n",
    "%matplotlib inline"
   ]
  },
  {
   "cell_type": "markdown",
   "id": "dfcb3c4e-1569-49a5-b7e0-772882d23791",
   "metadata": {},
   "source": [
    "# Ring-Moon Systems Node Web Analysis"
   ]
  },
  {
   "cell_type": "code",
   "execution_count": 4,
   "id": "b6e6052b-dc6d-4fd6-a3d9-04ee9211a0aa",
   "metadata": {},
   "outputs": [],
   "source": [
    "import os\n",
    "import sys\n",
    "from pathlib import Path\n",
    "\n",
    "import dask.dataframe as dd\n",
    "import pandas as pd\n",
    "import numpy as np\n",
    "import seaborn as sns\n",
    "import matplotlib.pyplot as plt\n",
    "import plotly.express as px\n",
    "import plotly.graph_objects as go\n",
    "from datetime import datetime\n",
    "\n",
    "sys.path.append('../src')\n",
    "from clf_data_augmenter import CLFDataAugmenter"
   ]
  },
  {
   "cell_type": "code",
   "execution_count": 5,
   "id": "a3f35452-5512-4b74-a270-990fd8c93cb7",
   "metadata": {},
   "outputs": [
    {
     "name": "stdout",
     "output_type": "stream",
     "text": [
      "CPU times: user 40.2 s, sys: 1.97 s, total: 42.2 s\n",
      "Wall time: 41.3 s\n"
     ]
    }
   ],
   "source": [
    "%%time\n",
    "#df_all = pd.read_feather('../datasets/rings_all.feather')\n",
    "df_all = pd.read_feather('../datasets/rings_all_sm.feather')\n",
    "augmenter = CLFDataAugmenter(df_all)\n",
    "df_all = augmenter.get_df()"
   ]
  },
  {
   "cell_type": "code",
   "execution_count": 7,
   "id": "528f046c-60ae-46c7-bd96-11a6bb04dfc6",
   "metadata": {},
   "outputs": [
    {
     "data": {
      "text/html": [
       "<div>\n",
       "<style scoped>\n",
       "    .dataframe tbody tr th:only-of-type {\n",
       "        vertical-align: middle;\n",
       "    }\n",
       "\n",
       "    .dataframe tbody tr th {\n",
       "        vertical-align: top;\n",
       "    }\n",
       "\n",
       "    .dataframe thead th {\n",
       "        text-align: right;\n",
       "    }\n",
       "</style>\n",
       "<table border=\"1\" class=\"dataframe\">\n",
       "  <thead>\n",
       "    <tr style=\"text-align: right;\">\n",
       "      <th></th>\n",
       "      <th>ip</th>\n",
       "      <th>identd</th>\n",
       "      <th>userid</th>\n",
       "      <th>datetime</th>\n",
       "      <th>request</th>\n",
       "      <th>status</th>\n",
       "      <th>size</th>\n",
       "      <th>referer</th>\n",
       "      <th>user_agent</th>\n",
       "      <th>date</th>\n",
       "      <th>month_year</th>\n",
       "      <th>DOW</th>\n",
       "      <th>hour</th>\n",
       "      <th>log_name</th>\n",
       "      <th>req_type</th>\n",
       "      <th>tool</th>\n",
       "    </tr>\n",
       "  </thead>\n",
       "  <tbody>\n",
       "    <tr>\n",
       "      <th>0</th>\n",
       "      <td>17.58.98.26</td>\n",
       "      <td>None</td>\n",
       "      <td>None</td>\n",
       "      <td>2021-01-01 00:01:09+00:00</td>\n",
       "      <td>GET /press_releases/thumbnails/PIA00xxx/PIA000...</td>\n",
       "      <td>200.0</td>\n",
       "      <td>1639.0</td>\n",
       "      <td>None</td>\n",
       "      <td>Mozilla/5.0 (Macintosh; Intel Mac OS X 10_15_5...</td>\n",
       "      <td>2021-01-01</td>\n",
       "      <td>01-2021</td>\n",
       "      <td>Friday</td>\n",
       "      <td>0.0</td>\n",
       "      <td>None</td>\n",
       "      <td>GET</td>\n",
       "      <td>content</td>\n",
       "    </tr>\n",
       "    <tr>\n",
       "      <th>1</th>\n",
       "      <td>13.66.139.53</td>\n",
       "      <td>None</td>\n",
       "      <td>None</td>\n",
       "      <td>2021-01-01 00:01:27+00:00</td>\n",
       "      <td>GET /press_releases/medium/PIA13xxx/PIA13294_m...</td>\n",
       "      <td>200.0</td>\n",
       "      <td>46938.0</td>\n",
       "      <td>None</td>\n",
       "      <td>Mozilla/5.0 (compatible; bingbot/2.0; +http://...</td>\n",
       "      <td>2021-01-01</td>\n",
       "      <td>01-2021</td>\n",
       "      <td>Friday</td>\n",
       "      <td>0.0</td>\n",
       "      <td>None</td>\n",
       "      <td>GET</td>\n",
       "      <td>content</td>\n",
       "    </tr>\n",
       "    <tr>\n",
       "      <th>2</th>\n",
       "      <td>66.249.79.94</td>\n",
       "      <td>None</td>\n",
       "      <td>None</td>\n",
       "      <td>2021-01-01 00:01:30+00:00</td>\n",
       "      <td>GET /pds4/bundles/cassini_vims_cruise/browse_r...</td>\n",
       "      <td>200.0</td>\n",
       "      <td>2515.0</td>\n",
       "      <td>None</td>\n",
       "      <td>Mozilla/5.0 (Linux; Android 6.0.1; Nexus 5X Bu...</td>\n",
       "      <td>2021-01-01</td>\n",
       "      <td>01-2021</td>\n",
       "      <td>Friday</td>\n",
       "      <td>0.0</td>\n",
       "      <td>None</td>\n",
       "      <td>GET</td>\n",
       "      <td>content</td>\n",
       "    </tr>\n",
       "    <tr>\n",
       "      <th>3</th>\n",
       "      <td>207.241.233.164</td>\n",
       "      <td>None</td>\n",
       "      <td>None</td>\n",
       "      <td>2021-01-01 00:01:47+00:00</td>\n",
       "      <td>GET /viewmaster/volumes/COISS_1xxx/COISS_1002/...</td>\n",
       "      <td>200.0</td>\n",
       "      <td>36171.0</td>\n",
       "      <td>https://pds-rings.seti.org/viewmaster/volumes/...</td>\n",
       "      <td>Mozilla/5.0 (compatible; archive.org_bot +http...</td>\n",
       "      <td>2021-01-01</td>\n",
       "      <td>01-2021</td>\n",
       "      <td>Friday</td>\n",
       "      <td>0.0</td>\n",
       "      <td>None</td>\n",
       "      <td>GET</td>\n",
       "      <td>viewmaster</td>\n",
       "    </tr>\n",
       "    <tr>\n",
       "      <th>4</th>\n",
       "      <td>10.1.6.151</td>\n",
       "      <td>None</td>\n",
       "      <td>None</td>\n",
       "      <td>2021-01-01 00:01:52+00:00</td>\n",
       "      <td>GET / HTTP/1.1</td>\n",
       "      <td>200.0</td>\n",
       "      <td>19358.0</td>\n",
       "      <td>None</td>\n",
       "      <td>Zabbix</td>\n",
       "      <td>2021-01-01</td>\n",
       "      <td>01-2021</td>\n",
       "      <td>Friday</td>\n",
       "      <td>0.0</td>\n",
       "      <td>None</td>\n",
       "      <td>GET</td>\n",
       "      <td>content</td>\n",
       "    </tr>\n",
       "  </tbody>\n",
       "</table>\n",
       "</div>"
      ],
      "text/plain": [
       "                ip identd userid                  datetime  \\\n",
       "0      17.58.98.26   None   None 2021-01-01 00:01:09+00:00   \n",
       "1     13.66.139.53   None   None 2021-01-01 00:01:27+00:00   \n",
       "2     66.249.79.94   None   None 2021-01-01 00:01:30+00:00   \n",
       "3  207.241.233.164   None   None 2021-01-01 00:01:47+00:00   \n",
       "4       10.1.6.151   None   None 2021-01-01 00:01:52+00:00   \n",
       "\n",
       "                                             request  status     size  \\\n",
       "0  GET /press_releases/thumbnails/PIA00xxx/PIA000...   200.0   1639.0   \n",
       "1  GET /press_releases/medium/PIA13xxx/PIA13294_m...   200.0  46938.0   \n",
       "2  GET /pds4/bundles/cassini_vims_cruise/browse_r...   200.0   2515.0   \n",
       "3  GET /viewmaster/volumes/COISS_1xxx/COISS_1002/...   200.0  36171.0   \n",
       "4                                     GET / HTTP/1.1   200.0  19358.0   \n",
       "\n",
       "                                             referer  \\\n",
       "0                                               None   \n",
       "1                                               None   \n",
       "2                                               None   \n",
       "3  https://pds-rings.seti.org/viewmaster/volumes/...   \n",
       "4                                               None   \n",
       "\n",
       "                                          user_agent        date month_year  \\\n",
       "0  Mozilla/5.0 (Macintosh; Intel Mac OS X 10_15_5...  2021-01-01    01-2021   \n",
       "1  Mozilla/5.0 (compatible; bingbot/2.0; +http://...  2021-01-01    01-2021   \n",
       "2  Mozilla/5.0 (Linux; Android 6.0.1; Nexus 5X Bu...  2021-01-01    01-2021   \n",
       "3  Mozilla/5.0 (compatible; archive.org_bot +http...  2021-01-01    01-2021   \n",
       "4                                             Zabbix  2021-01-01    01-2021   \n",
       "\n",
       "      DOW  hour log_name req_type        tool  \n",
       "0  Friday   0.0     None      GET     content  \n",
       "1  Friday   0.0     None      GET     content  \n",
       "2  Friday   0.0     None      GET     content  \n",
       "3  Friday   0.0     None      GET  viewmaster  \n",
       "4  Friday   0.0     None      GET     content  "
      ]
     },
     "execution_count": 7,
     "metadata": {},
     "output_type": "execute_result"
    }
   ],
   "source": [
    "df_all.head()"
   ]
  },
  {
   "cell_type": "markdown",
   "id": "77a16dfd-062c-445f-85b8-e88f37970873",
   "metadata": {},
   "source": [
    "## Intro and Overall Node Characteristics.\n",
    "Overall traffic utilization since 2017. Log data consists of 2539 files containing approximately 110M log entries for about 28GB of total data.\n",
    "\n",
    "Typically, this node shows low levels of traffic and typically serves between 100 MB-1GB of data on a daily basis. This accounts for roughly 95% of the days. On occasion, there are days where requests increase significantly (500GB)."
   ]
  },
  {
   "cell_type": "code",
   "execution_count": null,
   "id": "b4977c4d-b79c-4a46-b6c7-af9ebb051a00",
   "metadata": {},
   "outputs": [],
   "source": [
    "df_summary = df_all.loc[df_all.req_type == \"GET\"].group_by(by='date').aggregate({'"
   ]
  },
  {
   "cell_type": "code",
   "execution_count": null,
   "id": "860fc233-350e-4582-97cb-9c8ba80bec58",
   "metadata": {},
   "outputs": [],
   "source": []
  }
 ],
 "metadata": {
  "kernelspec": {
   "display_name": "dask",
   "language": "python",
   "name": "dask"
  },
  "language_info": {
   "codemirror_mode": {
    "name": "ipython",
    "version": 3
   },
   "file_extension": ".py",
   "mimetype": "text/x-python",
   "name": "python",
   "nbconvert_exporter": "python",
   "pygments_lexer": "ipython3",
   "version": "3.10.2"
  }
 },
 "nbformat": 4,
 "nbformat_minor": 5
}
