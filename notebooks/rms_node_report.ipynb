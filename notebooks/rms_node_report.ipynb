{
 "cells": [
  {
   "cell_type": "code",
   "execution_count": 1,
   "id": "3aa7bbb7-9399-498c-b300-baf1c1d0c7b2",
   "metadata": {},
   "outputs": [],
   "source": [
    "%load_ext autoreload\n",
    "%autoreload 2\n",
    "%matplotlib inline"
   ]
  },
  {
   "cell_type": "markdown",
   "id": "dfcb3c4e-1569-49a5-b7e0-772882d23791",
   "metadata": {},
   "source": [
    "# Ring-Moon Systems Node Web Analysis"
   ]
  },
  {
   "cell_type": "code",
   "execution_count": 2,
   "id": "b6e6052b-dc6d-4fd6-a3d9-04ee9211a0aa",
   "metadata": {},
   "outputs": [],
   "source": [
    "import os\n",
    "import sys\n",
    "from pathlib import Path\n",
    "\n",
    "from modin.config import Engine\n",
    "Engine.put(\"dask\")\n",
    "\n",
    "import modin.pandas as pd\n",
    "import numpy as np\n",
    "import seaborn as sns\n",
    "import matplotlib.pyplot as plt\n",
    "import plotly.express as px\n",
    "import plotly.graph_objects as go\n",
    "from datetime import datetime\n",
    "\n",
    "sys.path.append('../src')\n",
    "from clf_data_augmenter import CLFDataAugmenter"
   ]
  },
  {
   "cell_type": "code",
   "execution_count": 3,
   "id": "a3f35452-5512-4b74-a270-990fd8c93cb7",
   "metadata": {},
   "outputs": [
    {
     "name": "stderr",
     "output_type": "stream",
     "text": [
      "UserWarning: Dask execution environment not yet initialized. Initializing...\n",
      "To remove this warning, run the following python code before doing dataframe operations:\n",
      "\n",
      "    from distributed import Client\n",
      "\n",
      "    client = Client()\n",
      "\n"
     ]
    },
    {
     "name": "stdout",
     "output_type": "stream",
     "text": [
      "CPU times: user 4.2 s, sys: 2.07 s, total: 6.26 s\n",
      "Wall time: 16.9 s\n"
     ]
    }
   ],
   "source": [
    "%%time\n",
    "#df_all = pd.read_feather('../datasets/rings_all.feather')\n",
    "df_all = pd.read_feather('../datasets/rings_all_sm.feather')"
   ]
  },
  {
   "cell_type": "code",
   "execution_count": 4,
   "id": "698adf10-88fc-4d94-8c3d-1316dcd8a241",
   "metadata": {},
   "outputs": [
    {
     "name": "stdout",
     "output_type": "stream",
     "text": [
      "(4204628, 14)\n"
     ]
    },
    {
     "data": {
      "text/html": [
       "<div>\n",
       "<style scoped>\n",
       "    .dataframe tbody tr th:only-of-type {\n",
       "        vertical-align: middle;\n",
       "    }\n",
       "\n",
       "    .dataframe tbody tr th {\n",
       "        vertical-align: top;\n",
       "    }\n",
       "\n",
       "    .dataframe thead th {\n",
       "        text-align: right;\n",
       "    }\n",
       "</style>\n",
       "<table border=\"1\" class=\"dataframe\">\n",
       "  <thead>\n",
       "    <tr style=\"text-align: right;\">\n",
       "      <th></th>\n",
       "      <th>ip</th>\n",
       "      <th>identd</th>\n",
       "      <th>userid</th>\n",
       "      <th>datetime</th>\n",
       "      <th>request</th>\n",
       "      <th>status</th>\n",
       "      <th>size</th>\n",
       "      <th>referer</th>\n",
       "      <th>user_agent</th>\n",
       "      <th>date</th>\n",
       "      <th>month_year</th>\n",
       "      <th>DOW</th>\n",
       "      <th>hour</th>\n",
       "      <th>log_name</th>\n",
       "    </tr>\n",
       "  </thead>\n",
       "  <tbody>\n",
       "    <tr>\n",
       "      <th>0</th>\n",
       "      <td>17.58.98.26</td>\n",
       "      <td>None</td>\n",
       "      <td>None</td>\n",
       "      <td>2021-01-01 00:01:09+00:00</td>\n",
       "      <td>GET /press_releases/thumbnails/PIA00xxx/PIA000...</td>\n",
       "      <td>200.0</td>\n",
       "      <td>1639.0</td>\n",
       "      <td>None</td>\n",
       "      <td>Mozilla/5.0 (Macintosh; Intel Mac OS X 10_15_5...</td>\n",
       "      <td>2021-01-01</td>\n",
       "      <td>01-2021</td>\n",
       "      <td>Friday</td>\n",
       "      <td>0.0</td>\n",
       "      <td>None</td>\n",
       "    </tr>\n",
       "    <tr>\n",
       "      <th>1</th>\n",
       "      <td>13.66.139.53</td>\n",
       "      <td>None</td>\n",
       "      <td>None</td>\n",
       "      <td>2021-01-01 00:01:27+00:00</td>\n",
       "      <td>GET /press_releases/medium/PIA13xxx/PIA13294_m...</td>\n",
       "      <td>200.0</td>\n",
       "      <td>46938.0</td>\n",
       "      <td>None</td>\n",
       "      <td>Mozilla/5.0 (compatible; bingbot/2.0; +http://...</td>\n",
       "      <td>2021-01-01</td>\n",
       "      <td>01-2021</td>\n",
       "      <td>Friday</td>\n",
       "      <td>0.0</td>\n",
       "      <td>None</td>\n",
       "    </tr>\n",
       "    <tr>\n",
       "      <th>2</th>\n",
       "      <td>66.249.79.94</td>\n",
       "      <td>None</td>\n",
       "      <td>None</td>\n",
       "      <td>2021-01-01 00:01:30+00:00</td>\n",
       "      <td>GET /pds4/bundles/cassini_vims_cruise/browse_r...</td>\n",
       "      <td>200.0</td>\n",
       "      <td>2515.0</td>\n",
       "      <td>None</td>\n",
       "      <td>Mozilla/5.0 (Linux; Android 6.0.1; Nexus 5X Bu...</td>\n",
       "      <td>2021-01-01</td>\n",
       "      <td>01-2021</td>\n",
       "      <td>Friday</td>\n",
       "      <td>0.0</td>\n",
       "      <td>None</td>\n",
       "    </tr>\n",
       "    <tr>\n",
       "      <th>3</th>\n",
       "      <td>207.241.233.164</td>\n",
       "      <td>None</td>\n",
       "      <td>None</td>\n",
       "      <td>2021-01-01 00:01:47+00:00</td>\n",
       "      <td>GET /viewmaster/volumes/COISS_1xxx/COISS_1002/...</td>\n",
       "      <td>200.0</td>\n",
       "      <td>36171.0</td>\n",
       "      <td>https://pds-rings.seti.org/viewmaster/volumes/...</td>\n",
       "      <td>Mozilla/5.0 (compatible; archive.org_bot +http...</td>\n",
       "      <td>2021-01-01</td>\n",
       "      <td>01-2021</td>\n",
       "      <td>Friday</td>\n",
       "      <td>0.0</td>\n",
       "      <td>None</td>\n",
       "    </tr>\n",
       "    <tr>\n",
       "      <th>4</th>\n",
       "      <td>10.1.6.151</td>\n",
       "      <td>None</td>\n",
       "      <td>None</td>\n",
       "      <td>2021-01-01 00:01:52+00:00</td>\n",
       "      <td>GET / HTTP/1.1</td>\n",
       "      <td>200.0</td>\n",
       "      <td>19358.0</td>\n",
       "      <td>None</td>\n",
       "      <td>Zabbix</td>\n",
       "      <td>2021-01-01</td>\n",
       "      <td>01-2021</td>\n",
       "      <td>Friday</td>\n",
       "      <td>0.0</td>\n",
       "      <td>None</td>\n",
       "    </tr>\n",
       "  </tbody>\n",
       "</table>\n",
       "</div>"
      ],
      "text/plain": [
       "                ip identd userid                  datetime  \\\n",
       "0      17.58.98.26   None   None 2021-01-01 00:01:09+00:00   \n",
       "1     13.66.139.53   None   None 2021-01-01 00:01:27+00:00   \n",
       "2     66.249.79.94   None   None 2021-01-01 00:01:30+00:00   \n",
       "3  207.241.233.164   None   None 2021-01-01 00:01:47+00:00   \n",
       "4       10.1.6.151   None   None 2021-01-01 00:01:52+00:00   \n",
       "\n",
       "                                             request  status     size  \\\n",
       "0  GET /press_releases/thumbnails/PIA00xxx/PIA000...   200.0   1639.0   \n",
       "1  GET /press_releases/medium/PIA13xxx/PIA13294_m...   200.0  46938.0   \n",
       "2  GET /pds4/bundles/cassini_vims_cruise/browse_r...   200.0   2515.0   \n",
       "3  GET /viewmaster/volumes/COISS_1xxx/COISS_1002/...   200.0  36171.0   \n",
       "4                                     GET / HTTP/1.1   200.0  19358.0   \n",
       "\n",
       "                                             referer  \\\n",
       "0                                               None   \n",
       "1                                               None   \n",
       "2                                               None   \n",
       "3  https://pds-rings.seti.org/viewmaster/volumes/...   \n",
       "4                                               None   \n",
       "\n",
       "                                          user_agent        date month_year  \\\n",
       "0  Mozilla/5.0 (Macintosh; Intel Mac OS X 10_15_5...  2021-01-01    01-2021   \n",
       "1  Mozilla/5.0 (compatible; bingbot/2.0; +http://...  2021-01-01    01-2021   \n",
       "2  Mozilla/5.0 (Linux; Android 6.0.1; Nexus 5X Bu...  2021-01-01    01-2021   \n",
       "3  Mozilla/5.0 (compatible; archive.org_bot +http...  2021-01-01    01-2021   \n",
       "4                                             Zabbix  2021-01-01    01-2021   \n",
       "\n",
       "      DOW  hour log_name  \n",
       "0  Friday   0.0     None  \n",
       "1  Friday   0.0     None  \n",
       "2  Friday   0.0     None  \n",
       "3  Friday   0.0     None  \n",
       "4  Friday   0.0     None  "
      ]
     },
     "execution_count": 4,
     "metadata": {},
     "output_type": "execute_result"
    }
   ],
   "source": [
    "print(df_all.shape)\n",
    "df_all.head()"
   ]
  },
  {
   "cell_type": "code",
   "execution_count": null,
   "id": "68ee7288-ae75-4fda-9b3c-12e52ce8bb33",
   "metadata": {},
   "outputs": [],
   "source": [
    "%%time\n",
    "augmenter = CLFDataAugmenter(df_all)\n",
    "augmenter.augment_data()\n",
    "df_all = augmenter.get_df()"
   ]
  },
  {
   "cell_type": "code",
   "execution_count": null,
   "id": "50762e54-c54c-4ca3-b201-6847808bb77b",
   "metadata": {},
   "outputs": [],
   "source": [
    "augmenter.df.dtypes"
   ]
  },
  {
   "cell_type": "code",
   "execution_count": null,
   "id": "528f046c-60ae-46c7-bd96-11a6bb04dfc6",
   "metadata": {},
   "outputs": [],
   "source": [
    "print(df_all.dtypes)\n",
    "df_all.head()"
   ]
  },
  {
   "cell_type": "markdown",
   "id": "77a16dfd-062c-445f-85b8-e88f37970873",
   "metadata": {},
   "source": [
    "## Intro and Overall Node Characteristics.\n",
    "Overall traffic utilization since 2017. Log data consists of 2539 files containing approximately 110M log entries for about 28GB of total data.\n",
    "\n",
    "Typically, this node shows low levels of traffic and typically serves between 100 MB-1GB of data on a daily basis. This accounts for roughly 95% of the days. On occasion, there are days where requests increase significantly (500GB)."
   ]
  },
  {
   "cell_type": "code",
   "execution_count": null,
   "id": "b4977c4d-b79c-4a46-b6c7-af9ebb051a00",
   "metadata": {},
   "outputs": [],
   "source": [
    "df_summary = (\n",
    "    df_all.loc[(df_all.req_type == \"GET\") & (df_all.status == 200)].\n",
    "    groupby(by='date').aggregate({'size': 'sum', 'ip': 'count'}).\n",
    "    rename(columns={'size': 'data_transmit (GB/day)', 'ip': 'GET requests (hits/day)'}).\n",
    "    reset_index()\n",
    ")\n",
    "\n",
    "# Should give us GB/day\n",
    "df_summary['data_transmit (GB/day)'] = df_summary['data_transmit (GB/day)'] / 2**30\n",
    "df_summary['data_transmit_range'] = pd.cut(df_summary['data_transmit (GB/day)'], \n",
    "                                       bins=[0, .1, 1, 10, 100, 200, 500, 1000, 100000],\n",
    "                                       labels=['0-100MB', '100MB-1GB', '1-10GB', '10-100GB', '100-200GB', '200-500GB', \n",
    "                                               '500GB-1TB', '>1TB'])"
   ]
  },
  {
   "cell_type": "code",
   "execution_count": null,
   "id": "7da1ba28-442c-4266-b035-b43b079cd0f6",
   "metadata": {},
   "outputs": [],
   "source": [
    "df_summary['date'] = pd.to_datetime(df_summary['date'])\n",
    "df_summary.dtypes"
   ]
  },
  {
   "cell_type": "code",
   "execution_count": null,
   "id": "b8cd736e-0ca1-4b39-b887-15f35a8d1b6e",
   "metadata": {},
   "outputs": [],
   "source": [
    "sns.lineplot(data=df_summary, x='date', y='data_transmit (GB/day)')"
   ]
  },
  {
   "cell_type": "code",
   "execution_count": null,
   "id": "af7d17b1-1c16-4d6c-9161-071f219f96bd",
   "metadata": {},
   "outputs": [],
   "source": [
    "df_summary.columns"
   ]
  },
  {
   "cell_type": "code",
   "execution_count": null,
   "id": "860fc233-350e-4582-97cb-9c8ba80bec58",
   "metadata": {},
   "outputs": [],
   "source": [
    "# Overall Node Transmit rate\n",
    "#df_summary.sort_values(by='date', inplace=True)\n",
    "fig = px.line(df_summary,  x='date', y=\"data_transmit (GB/day)\", log_y=True)\n",
    "fig.show()"
   ]
  },
  {
   "cell_type": "code",
   "execution_count": null,
   "id": "f5583f1f-622b-47a4-9664-0ac9fe312069",
   "metadata": {},
   "outputs": [],
   "source": [
    "fig = px.line(df_summary, x='date', y='GET requests (hits/day)', log_y=True)\n",
    "fig.show()"
   ]
  },
  {
   "cell_type": "code",
   "execution_count": null,
   "id": "11191eee-de40-4682-a7e2-6b8ceec88a0c",
   "metadata": {},
   "outputs": [],
   "source": [
    "df_plot = df_summary.groupby(by='data_transmit_range').size().to_frame('count').reset_index() \n",
    "print(df_pie)\n",
    "# fig = px.pie(df_pie, values='count', names='data_transmit_range', sort=True)\n",
    "fig = px.bar(df_plot, x='data_transmit_range', y='count')\n",
    "fig.show()"
   ]
  },
  {
   "cell_type": "code",
   "execution_count": null,
   "id": "9a5bc8ee-80ef-42f0-b8ce-b174b88536d4",
   "metadata": {},
   "outputs": [],
   "source": []
  }
 ],
 "metadata": {
  "kernelspec": {
   "display_name": "dask",
   "language": "python",
   "name": "dask"
  },
  "language_info": {
   "codemirror_mode": {
    "name": "ipython",
    "version": 3
   },
   "file_extension": ".py",
   "mimetype": "text/x-python",
   "name": "python",
   "nbconvert_exporter": "python",
   "pygments_lexer": "ipython3",
   "version": "3.9.10"
  }
 },
 "nbformat": 4,
 "nbformat_minor": 5
}
