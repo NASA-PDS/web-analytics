{
 "cells": [
  {
   "cell_type": "code",
   "execution_count": 1,
   "id": "1a1cb3c7-8ea5-4ac0-b9a4-92c1e1772b0c",
   "metadata": {},
   "outputs": [],
   "source": [
    "import os\n",
    "import sys\n",
    "import re\n",
    "from time import process_time\n",
    "from pathlib import Path\n",
    "\n",
    "import numpy as np\n",
    "import pandas as pd\n",
    "import matplotlib.pyplot as plt\n",
    "import seaborn as sns\n",
    "from apachelogs import LogParser"
   ]
  },
  {
   "cell_type": "code",
   "execution_count": 2,
   "id": "bf6c5f53-d8fa-4412-8a00-2189cb0186b4",
   "metadata": {},
   "outputs": [],
   "source": [
    "data_dir = Path('/Users/kaipak/datasets/pds/pds_logs/report_service/logs/final/img/img-pdsimage-http/')\n",
    "column_names = ['ip', 'identd', 'userid', 'date', 'time', 'timezone', 'request', 'status', 'size', 'referer', 'user_agent']\n",
    "log_files = [data_dir / f for f in os.listdir(data_dir)].sort()\n",
    "df_logs = pd.DataFrame(columns=column_names)\n",
    "parser = LogParser(\"%h %l %u %t \\\"%r\\\" %>s %b \\\"%{Referer}i\\\" \\\"%{User-Agent}i\\\"\")"
   ]
  },
  {
   "cell_type": "code",
   "execution_count": 3,
   "id": "f804654f-9e2d-496e-aed0-fda6917f9cf7",
   "metadata": {},
   "outputs": [],
   "source": [
    "df_http_logs = pd.DataFrame(columns=column_names)\n",
    "log_files = sorted([data_dir / f for f in os.listdir(data_dir)])\n",
    "log_files = log_files[:31] # Just deal with a month's worth for now."
   ]
  },
  {
   "cell_type": "code",
   "execution_count": 4,
   "id": "0ba90962-a650-4402-a4cc-ecbc2fd0dc0c",
   "metadata": {},
   "outputs": [],
   "source": [
    "def parse_line(line):\n",
    "    \"\"\"Parse a line from log and return a list with log entries in CLF order\"\"\"\n",
    "    parsed = parser.parse(line)\n",
    "    datetime = parsed.request_time\n",
    "    parsed_line = [parsed.remote_host, \n",
    "                   parsed.remote_logname,\n",
    "                   parsed.remote_user,\n",
    "                   datetime.date(),\n",
    "                   datetime.time(),\n",
    "                   datetime.tzinfo,\n",
    "                   parsed.request_line, \n",
    "                   parsed.final_status,\n",
    "                   parsed.bytes_sent,\n",
    "                   parsed.headers_in[\"Referer\"],\n",
    "                   parsed.headers_in[\"User-Agent\"]\n",
    "                  ]\n",
    "    return parsed_line"
   ]
  },
  {
   "cell_type": "code",
   "execution_count": null,
   "id": "05619bbd-0b74-471f-9ade-e7c1fd8fcc38",
   "metadata": {
    "tags": []
   },
   "outputs": [],
   "source": [
    "%%time\n",
    "# Iterate through logs to create dataframe\n",
    "for file in log_files:\n",
    "    log_file = open(file)\n",
    "    log_entries = []\n",
    "    lines = log_file.readlines()\n",
    "    \n",
    "    count = 0\n",
    "    tick = process_time()\n",
    "    for line in lines:\n",
    "        parsed = parser.parse(line)\n",
    "        datetime = parsed.request_time\n",
    "        parsed_line = parse_line(line)\n",
    "        log_entries.append(parsed_line)\n",
    "    df_logs = pd.concat([df_logs, pd.DataFrame(log_entries, columns=column_names)])\n",
    "    print(f\"completed processing file {file}\")"
   ]
  },
  {
   "cell_type": "code",
   "execution_count": 5,
   "id": "bb019edc-3d6d-43a7-a94f-e809561014fd",
   "metadata": {},
   "outputs": [
    {
     "name": "stdout",
     "output_type": "stream",
     "text": [
      "Completed processing file /Users/kaipak/datasets/pds/pds_logs/report_service/logs/final/img/img-pdsimage-http/ssl_access_2020-12-01.log\n",
      "Completed processing file /Users/kaipak/datasets/pds/pds_logs/report_service/logs/final/img/img-pdsimage-http/ssl_access_2020-12-02.log\n",
      "Completed processing file /Users/kaipak/datasets/pds/pds_logs/report_service/logs/final/img/img-pdsimage-http/ssl_access_2020-12-03.log\n",
      "Completed processing file /Users/kaipak/datasets/pds/pds_logs/report_service/logs/final/img/img-pdsimage-http/ssl_access_2020-12-04.log\n",
      "Completed processing file /Users/kaipak/datasets/pds/pds_logs/report_service/logs/final/img/img-pdsimage-http/ssl_access_2020-12-05.log\n",
      "Completed processing file /Users/kaipak/datasets/pds/pds_logs/report_service/logs/final/img/img-pdsimage-http/ssl_access_2020-12-06.log\n",
      "Completed processing file /Users/kaipak/datasets/pds/pds_logs/report_service/logs/final/img/img-pdsimage-http/ssl_access_2020-12-07.log\n",
      "Completed processing file /Users/kaipak/datasets/pds/pds_logs/report_service/logs/final/img/img-pdsimage-http/ssl_access_2020-12-08.log\n",
      "Completed processing file /Users/kaipak/datasets/pds/pds_logs/report_service/logs/final/img/img-pdsimage-http/ssl_access_2020-12-09.log\n",
      "Completed processing file /Users/kaipak/datasets/pds/pds_logs/report_service/logs/final/img/img-pdsimage-http/ssl_access_2020-12-10.log\n",
      "Completed processing file /Users/kaipak/datasets/pds/pds_logs/report_service/logs/final/img/img-pdsimage-http/ssl_access_2020-12-11.log\n",
      "Completed processing file /Users/kaipak/datasets/pds/pds_logs/report_service/logs/final/img/img-pdsimage-http/ssl_access_2020-12-12.log\n",
      "Completed processing file /Users/kaipak/datasets/pds/pds_logs/report_service/logs/final/img/img-pdsimage-http/ssl_access_2020-12-13.log\n",
      "Completed processing file /Users/kaipak/datasets/pds/pds_logs/report_service/logs/final/img/img-pdsimage-http/ssl_access_2020-12-14.log\n",
      "Completed processing file /Users/kaipak/datasets/pds/pds_logs/report_service/logs/final/img/img-pdsimage-http/ssl_access_2020-12-15.log\n",
      "Completed processing file /Users/kaipak/datasets/pds/pds_logs/report_service/logs/final/img/img-pdsimage-http/ssl_access_2020-12-16.log\n",
      "Completed processing file /Users/kaipak/datasets/pds/pds_logs/report_service/logs/final/img/img-pdsimage-http/ssl_access_2020-12-17.log\n",
      "Completed processing file /Users/kaipak/datasets/pds/pds_logs/report_service/logs/final/img/img-pdsimage-http/ssl_access_2020-12-18.log\n",
      "Completed processing file /Users/kaipak/datasets/pds/pds_logs/report_service/logs/final/img/img-pdsimage-http/ssl_access_2020-12-19.log\n",
      "Completed processing file /Users/kaipak/datasets/pds/pds_logs/report_service/logs/final/img/img-pdsimage-http/ssl_access_2020-12-20.log\n",
      "Completed processing file /Users/kaipak/datasets/pds/pds_logs/report_service/logs/final/img/img-pdsimage-http/ssl_access_2020-12-21.log\n",
      "Completed processing file /Users/kaipak/datasets/pds/pds_logs/report_service/logs/final/img/img-pdsimage-http/ssl_access_2020-12-22.log\n",
      "Completed processing file /Users/kaipak/datasets/pds/pds_logs/report_service/logs/final/img/img-pdsimage-http/ssl_access_2020-12-23.log\n",
      "Completed processing file /Users/kaipak/datasets/pds/pds_logs/report_service/logs/final/img/img-pdsimage-http/ssl_access_2020-12-24.log\n",
      "Completed processing file /Users/kaipak/datasets/pds/pds_logs/report_service/logs/final/img/img-pdsimage-http/ssl_access_2020-12-25.log\n",
      "Completed processing file /Users/kaipak/datasets/pds/pds_logs/report_service/logs/final/img/img-pdsimage-http/ssl_access_2020-12-26.log\n",
      "Completed processing file /Users/kaipak/datasets/pds/pds_logs/report_service/logs/final/img/img-pdsimage-http/ssl_access_2020-12-27.log\n",
      "Completed processing file /Users/kaipak/datasets/pds/pds_logs/report_service/logs/final/img/img-pdsimage-http/ssl_access_2020-12-28.log\n",
      "Completed processing file /Users/kaipak/datasets/pds/pds_logs/report_service/logs/final/img/img-pdsimage-http/ssl_access_2020-12-29.log\n",
      "Completed processing file /Users/kaipak/datasets/pds/pds_logs/report_service/logs/final/img/img-pdsimage-http/ssl_access_2020-12-30.log\n",
      "Completed processing file /Users/kaipak/datasets/pds/pds_logs/report_service/logs/final/img/img-pdsimage-http/ssl_access_2020-12-31.log\n",
      "CPU times: user 2min 33s, sys: 19.1 s, total: 2min 52s\n",
      "Wall time: 2min 53s\n"
     ]
    }
   ],
   "source": [
    "%%time\n",
    "\n",
    "for file in log_files:\n",
    "    log_file = open(log_files[0])\n",
    "    lines = log_file.readlines()\n",
    "    log_entries = list(map(parse_line, lines))\n",
    "    df_logs = pd.concat([df_logs, pd.DataFrame(log_entries, columns=column_names)])\n",
    "    print(f\"Completed processing file {file}\")"
   ]
  },
  {
   "cell_type": "code",
   "execution_count": 6,
   "id": "248e712e-b3d1-49a7-964e-b247ccd32818",
   "metadata": {},
   "outputs": [
    {
     "data": {
      "text/plain": [
       "(2442025, 11)"
      ]
     },
     "execution_count": 6,
     "metadata": {},
     "output_type": "execute_result"
    }
   ],
   "source": [
    "df_logs.shape"
   ]
  },
  {
   "cell_type": "code",
   "execution_count": 8,
   "id": "ccc37a9a-d6f7-4577-a3cc-c01e0ee0caf1",
   "metadata": {},
   "outputs": [
    {
     "data": {
      "text/html": [
       "<div>\n",
       "<style scoped>\n",
       "    .dataframe tbody tr th:only-of-type {\n",
       "        vertical-align: middle;\n",
       "    }\n",
       "\n",
       "    .dataframe tbody tr th {\n",
       "        vertical-align: top;\n",
       "    }\n",
       "\n",
       "    .dataframe thead th {\n",
       "        text-align: right;\n",
       "    }\n",
       "</style>\n",
       "<table border=\"1\" class=\"dataframe\">\n",
       "  <thead>\n",
       "    <tr style=\"text-align: right;\">\n",
       "      <th></th>\n",
       "      <th>ip</th>\n",
       "      <th>identd</th>\n",
       "      <th>userid</th>\n",
       "      <th>date</th>\n",
       "      <th>time</th>\n",
       "      <th>timezone</th>\n",
       "      <th>request</th>\n",
       "      <th>status</th>\n",
       "      <th>size</th>\n",
       "      <th>referer</th>\n",
       "      <th>user_agent</th>\n",
       "    </tr>\n",
       "  </thead>\n",
       "  <tbody>\n",
       "    <tr>\n",
       "      <th>count</th>\n",
       "      <td>2442025</td>\n",
       "      <td>0</td>\n",
       "      <td>0</td>\n",
       "      <td>2442025</td>\n",
       "      <td>2442025</td>\n",
       "      <td>2442025</td>\n",
       "      <td>2442025</td>\n",
       "      <td>2442025</td>\n",
       "      <td>1745393.0</td>\n",
       "      <td>136493</td>\n",
       "      <td>2427672</td>\n",
       "    </tr>\n",
       "    <tr>\n",
       "      <th>unique</th>\n",
       "      <td>3077</td>\n",
       "      <td>0</td>\n",
       "      <td>0</td>\n",
       "      <td>2</td>\n",
       "      <td>49648</td>\n",
       "      <td>1</td>\n",
       "      <td>70811</td>\n",
       "      <td>8</td>\n",
       "      <td>13933.0</td>\n",
       "      <td>749</td>\n",
       "      <td>1573</td>\n",
       "    </tr>\n",
       "    <tr>\n",
       "      <th>top</th>\n",
       "      <td>64.62.202.73</td>\n",
       "      <td>NaN</td>\n",
       "      <td>NaN</td>\n",
       "      <td>2020-12-01</td>\n",
       "      <td>19:50:16</td>\n",
       "      <td>UTC-07:00</td>\n",
       "      <td>GET /favicon.ico HTTP/1.1</td>\n",
       "      <td>200</td>\n",
       "      <td>5200.0</td>\n",
       "      <td>https://www.google.com/</td>\n",
       "      <td>Mozilla/5.0 (compatible; bingbot/2.0; +http://...</td>\n",
       "    </tr>\n",
       "    <tr>\n",
       "      <th>freq</th>\n",
       "      <td>520087</td>\n",
       "      <td>NaN</td>\n",
       "      <td>NaN</td>\n",
       "      <td>2024765</td>\n",
       "      <td>372</td>\n",
       "      <td>2442025</td>\n",
       "      <td>14260</td>\n",
       "      <td>1668513</td>\n",
       "      <td>100409.0</td>\n",
       "      <td>79918</td>\n",
       "      <td>660517</td>\n",
       "    </tr>\n",
       "  </tbody>\n",
       "</table>\n",
       "</div>"
      ],
      "text/plain": [
       "                  ip identd userid        date      time   timezone  \\\n",
       "count        2442025      0      0     2442025   2442025    2442025   \n",
       "unique          3077      0      0           2     49648          1   \n",
       "top     64.62.202.73    NaN    NaN  2020-12-01  19:50:16  UTC-07:00   \n",
       "freq          520087    NaN    NaN     2024765       372    2442025   \n",
       "\n",
       "                          request   status       size  \\\n",
       "count                     2442025  2442025  1745393.0   \n",
       "unique                      70811        8    13933.0   \n",
       "top     GET /favicon.ico HTTP/1.1      200     5200.0   \n",
       "freq                        14260  1668513   100409.0   \n",
       "\n",
       "                        referer  \\\n",
       "count                    136493   \n",
       "unique                      749   \n",
       "top     https://www.google.com/   \n",
       "freq                      79918   \n",
       "\n",
       "                                               user_agent  \n",
       "count                                             2427672  \n",
       "unique                                               1573  \n",
       "top     Mozilla/5.0 (compatible; bingbot/2.0; +http://...  \n",
       "freq                                               660517  "
      ]
     },
     "execution_count": 8,
     "metadata": {},
     "output_type": "execute_result"
    }
   ],
   "source": [
    "df_logs.describe()"
   ]
  },
  {
   "cell_type": "code",
   "execution_count": null,
   "id": "946a0880-d886-42a1-a650-343f03e63277",
   "metadata": {},
   "outputs": [],
   "source": []
  }
 ],
 "metadata": {
  "kernelspec": {
   "display_name": "dask",
   "language": "python",
   "name": "dask"
  },
  "language_info": {
   "codemirror_mode": {
    "name": "ipython",
    "version": 3
   },
   "file_extension": ".py",
   "mimetype": "text/x-python",
   "name": "python",
   "nbconvert_exporter": "python",
   "pygments_lexer": "ipython3",
   "version": "3.10.2"
  }
 },
 "nbformat": 4,
 "nbformat_minor": 5
}
